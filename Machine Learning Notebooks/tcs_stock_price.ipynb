{
  "cells": [
    {
      "cell_type": "code",
      "execution_count": null,
      "metadata": {
        "id": "deN4GtuuqIc6"
      },
      "outputs": [],
      "source": [
        "# Stock Price Prediction using Recurrent Neural Network  \n",
        "import numpy as np\n",
        "import pandas as pd\n",
        "from keras.models import Sequential\n",
        "from keras.layers import Dense, LSTM\n",
        "import matplotlib.pyplot as plt"
      ]
    },
    {
      "cell_type": "code",
      "execution_count": null,
      "metadata": {
        "id": "e6P6_aGWqIc8"
      },
      "outputs": [],
      "source": [
        "# Stocks of Tata Consultancy Services (TCS) traded at NSE, Mumbai\n",
        "df = pd.read_csv('Downloads/TCS.csv')"
      ]
    },
    {
      "cell_type": "code",
      "execution_count": null,
      "metadata": {
        "id": "6p9WUsU4qIc9",
        "outputId": "1dcc17ad-2131-45a5-fcfa-b14af22fce69"
      },
      "outputs": [
        {
          "data": {
            "text/html": [
              "<div>\n",
              "<style scoped>\n",
              "    .dataframe tbody tr th:only-of-type {\n",
              "        vertical-align: middle;\n",
              "    }\n",
              "\n",
              "    .dataframe tbody tr th {\n",
              "        vertical-align: top;\n",
              "    }\n",
              "\n",
              "    .dataframe thead th {\n",
              "        text-align: right;\n",
              "    }\n",
              "</style>\n",
              "<table border=\"1\" class=\"dataframe\">\n",
              "  <thead>\n",
              "    <tr style=\"text-align: right;\">\n",
              "      <th></th>\n",
              "      <th>Date</th>\n",
              "      <th>Symbol</th>\n",
              "      <th>Series</th>\n",
              "      <th>Prev Close</th>\n",
              "      <th>Open</th>\n",
              "      <th>High</th>\n",
              "      <th>Low</th>\n",
              "      <th>Last</th>\n",
              "      <th>Close</th>\n",
              "      <th>VWAP</th>\n",
              "      <th>Volume</th>\n",
              "      <th>Turnover</th>\n",
              "      <th>Trades</th>\n",
              "      <th>Deliverable Volume</th>\n",
              "      <th>%Deliverble</th>\n",
              "    </tr>\n",
              "  </thead>\n",
              "  <tbody>\n",
              "    <tr>\n",
              "      <th>0</th>\n",
              "      <td>2004-08-25</td>\n",
              "      <td>TCS</td>\n",
              "      <td>EQ</td>\n",
              "      <td>850.00</td>\n",
              "      <td>1198.7</td>\n",
              "      <td>1198.7</td>\n",
              "      <td>979.00</td>\n",
              "      <td>985.00</td>\n",
              "      <td>987.95</td>\n",
              "      <td>1008.32</td>\n",
              "      <td>17116372</td>\n",
              "      <td>1.725876e+15</td>\n",
              "      <td>NaN</td>\n",
              "      <td>5206360</td>\n",
              "      <td>0.3042</td>\n",
              "    </tr>\n",
              "    <tr>\n",
              "      <th>1</th>\n",
              "      <td>2004-08-26</td>\n",
              "      <td>TCS</td>\n",
              "      <td>EQ</td>\n",
              "      <td>987.95</td>\n",
              "      <td>992.0</td>\n",
              "      <td>997.0</td>\n",
              "      <td>975.30</td>\n",
              "      <td>976.85</td>\n",
              "      <td>979.00</td>\n",
              "      <td>985.65</td>\n",
              "      <td>5055400</td>\n",
              "      <td>4.982865e+14</td>\n",
              "      <td>NaN</td>\n",
              "      <td>1294899</td>\n",
              "      <td>0.2561</td>\n",
              "    </tr>\n",
              "    <tr>\n",
              "      <th>2</th>\n",
              "      <td>2004-08-27</td>\n",
              "      <td>TCS</td>\n",
              "      <td>EQ</td>\n",
              "      <td>979.00</td>\n",
              "      <td>982.4</td>\n",
              "      <td>982.4</td>\n",
              "      <td>958.55</td>\n",
              "      <td>961.20</td>\n",
              "      <td>962.65</td>\n",
              "      <td>969.94</td>\n",
              "      <td>3830750</td>\n",
              "      <td>3.715586e+14</td>\n",
              "      <td>NaN</td>\n",
              "      <td>976527</td>\n",
              "      <td>0.2549</td>\n",
              "    </tr>\n",
              "    <tr>\n",
              "      <th>3</th>\n",
              "      <td>2004-08-30</td>\n",
              "      <td>TCS</td>\n",
              "      <td>EQ</td>\n",
              "      <td>962.65</td>\n",
              "      <td>969.9</td>\n",
              "      <td>990.0</td>\n",
              "      <td>965.00</td>\n",
              "      <td>986.40</td>\n",
              "      <td>986.75</td>\n",
              "      <td>982.65</td>\n",
              "      <td>3058151</td>\n",
              "      <td>3.005106e+14</td>\n",
              "      <td>NaN</td>\n",
              "      <td>701664</td>\n",
              "      <td>0.2294</td>\n",
              "    </tr>\n",
              "    <tr>\n",
              "      <th>4</th>\n",
              "      <td>2004-08-31</td>\n",
              "      <td>TCS</td>\n",
              "      <td>EQ</td>\n",
              "      <td>986.75</td>\n",
              "      <td>986.5</td>\n",
              "      <td>990.0</td>\n",
              "      <td>976.00</td>\n",
              "      <td>987.80</td>\n",
              "      <td>988.10</td>\n",
              "      <td>982.18</td>\n",
              "      <td>2649332</td>\n",
              "      <td>2.602133e+14</td>\n",
              "      <td>NaN</td>\n",
              "      <td>695234</td>\n",
              "      <td>0.2624</td>\n",
              "    </tr>\n",
              "  </tbody>\n",
              "</table>\n",
              "</div>"
            ],
            "text/plain": [
              "         Date Symbol Series  Prev Close    Open    High     Low    Last  \\\n",
              "0  2004-08-25    TCS     EQ      850.00  1198.7  1198.7  979.00  985.00   \n",
              "1  2004-08-26    TCS     EQ      987.95   992.0   997.0  975.30  976.85   \n",
              "2  2004-08-27    TCS     EQ      979.00   982.4   982.4  958.55  961.20   \n",
              "3  2004-08-30    TCS     EQ      962.65   969.9   990.0  965.00  986.40   \n",
              "4  2004-08-31    TCS     EQ      986.75   986.5   990.0  976.00  987.80   \n",
              "\n",
              "    Close     VWAP    Volume      Turnover  Trades  Deliverable Volume  \\\n",
              "0  987.95  1008.32  17116372  1.725876e+15     NaN             5206360   \n",
              "1  979.00   985.65   5055400  4.982865e+14     NaN             1294899   \n",
              "2  962.65   969.94   3830750  3.715586e+14     NaN              976527   \n",
              "3  986.75   982.65   3058151  3.005106e+14     NaN              701664   \n",
              "4  988.10   982.18   2649332  2.602133e+14     NaN              695234   \n",
              "\n",
              "   %Deliverble  \n",
              "0       0.3042  \n",
              "1       0.2561  \n",
              "2       0.2549  \n",
              "3       0.2294  \n",
              "4       0.2624  "
            ]
          },
          "execution_count": 9,
          "metadata": {},
          "output_type": "execute_result"
        }
      ],
      "source": [
        "df.head()"
      ]
    },
    {
      "cell_type": "code",
      "execution_count": null,
      "metadata": {
        "id": "ZNGjtCzLqIc-",
        "outputId": "5b04bc9b-ccc3-4f79-9113-17c2b7a83abc"
      },
      "outputs": [
        {
          "data": {
            "text/plain": [
              "Date                     0\n",
              "Symbol                   0\n",
              "Series                   0\n",
              "Prev Close               0\n",
              "Open                     0\n",
              "High                     0\n",
              "Low                      0\n",
              "Last                     0\n",
              "Close                    0\n",
              "VWAP                     0\n",
              "Volume                   0\n",
              "Turnover                 0\n",
              "Trades                1683\n",
              "Deliverable Volume       0\n",
              "%Deliverble              0\n",
              "dtype: int64"
            ]
          },
          "execution_count": 10,
          "metadata": {},
          "output_type": "execute_result"
        }
      ],
      "source": [
        "df.isnull().sum()"
      ]
    },
    {
      "cell_type": "code",
      "execution_count": null,
      "metadata": {
        "id": "0M8A2_ZTqIc_",
        "outputId": "447fe753-cb0f-4d23-dcd4-da522d5b14fd"
      },
      "outputs": [
        {
          "data": {
            "text/html": [
              "<div>\n",
              "<style scoped>\n",
              "    .dataframe tbody tr th:only-of-type {\n",
              "        vertical-align: middle;\n",
              "    }\n",
              "\n",
              "    .dataframe tbody tr th {\n",
              "        vertical-align: top;\n",
              "    }\n",
              "\n",
              "    .dataframe thead th {\n",
              "        text-align: right;\n",
              "    }\n",
              "</style>\n",
              "<table border=\"1\" class=\"dataframe\">\n",
              "  <thead>\n",
              "    <tr style=\"text-align: right;\">\n",
              "      <th></th>\n",
              "      <th>Prev Close</th>\n",
              "      <th>Open</th>\n",
              "      <th>High</th>\n",
              "      <th>Low</th>\n",
              "      <th>Last</th>\n",
              "      <th>Close</th>\n",
              "      <th>VWAP</th>\n",
              "      <th>Volume</th>\n",
              "      <th>Turnover</th>\n",
              "      <th>Trades</th>\n",
              "      <th>Deliverable Volume</th>\n",
              "      <th>%Deliverble</th>\n",
              "    </tr>\n",
              "  </thead>\n",
              "  <tbody>\n",
              "    <tr>\n",
              "      <th>count</th>\n",
              "      <td>4139.000000</td>\n",
              "      <td>4139.000000</td>\n",
              "      <td>4139.000000</td>\n",
              "      <td>4139.000000</td>\n",
              "      <td>4139.000000</td>\n",
              "      <td>4139.000000</td>\n",
              "      <td>4139.000000</td>\n",
              "      <td>4.139000e+03</td>\n",
              "      <td>4.139000e+03</td>\n",
              "      <td>2456.000000</td>\n",
              "      <td>4.139000e+03</td>\n",
              "      <td>4139.000000</td>\n",
              "    </tr>\n",
              "    <tr>\n",
              "      <th>mean</th>\n",
              "      <td>1693.843549</td>\n",
              "      <td>1695.594081</td>\n",
              "      <td>1715.882302</td>\n",
              "      <td>1673.585709</td>\n",
              "      <td>1694.310184</td>\n",
              "      <td>1694.371612</td>\n",
              "      <td>1694.618120</td>\n",
              "      <td>1.676762e+06</td>\n",
              "      <td>2.952102e+14</td>\n",
              "      <td>85502.709283</td>\n",
              "      <td>8.952206e+05</td>\n",
              "      <td>0.549429</td>\n",
              "    </tr>\n",
              "    <tr>\n",
              "      <th>std</th>\n",
              "      <td>722.879316</td>\n",
              "      <td>722.978228</td>\n",
              "      <td>728.450096</td>\n",
              "      <td>717.780248</td>\n",
              "      <td>723.177934</td>\n",
              "      <td>723.061025</td>\n",
              "      <td>723.144157</td>\n",
              "      <td>1.607879e+06</td>\n",
              "      <td>3.849370e+14</td>\n",
              "      <td>56031.488595</td>\n",
              "      <td>8.637908e+05</td>\n",
              "      <td>0.132867</td>\n",
              "    </tr>\n",
              "    <tr>\n",
              "      <th>min</th>\n",
              "      <td>366.650000</td>\n",
              "      <td>360.000000</td>\n",
              "      <td>377.750000</td>\n",
              "      <td>358.000000</td>\n",
              "      <td>365.700000</td>\n",
              "      <td>366.650000</td>\n",
              "      <td>368.400000</td>\n",
              "      <td>1.834500e+04</td>\n",
              "      <td>1.370237e+12</td>\n",
              "      <td>1219.000000</td>\n",
              "      <td>7.765000e+03</td>\n",
              "      <td>0.121400</td>\n",
              "    </tr>\n",
              "    <tr>\n",
              "      <th>25%</th>\n",
              "      <td>1106.250000</td>\n",
              "      <td>1105.525000</td>\n",
              "      <td>1120.275000</td>\n",
              "      <td>1088.575000</td>\n",
              "      <td>1107.000000</td>\n",
              "      <td>1106.500000</td>\n",
              "      <td>1105.750000</td>\n",
              "      <td>7.884775e+05</td>\n",
              "      <td>1.050834e+14</td>\n",
              "      <td>46749.500000</td>\n",
              "      <td>4.334740e+05</td>\n",
              "      <td>0.459100</td>\n",
              "    </tr>\n",
              "    <tr>\n",
              "      <th>50%</th>\n",
              "      <td>1633.500000</td>\n",
              "      <td>1625.000000</td>\n",
              "      <td>1655.000000</td>\n",
              "      <td>1610.000000</td>\n",
              "      <td>1630.050000</td>\n",
              "      <td>1636.350000</td>\n",
              "      <td>1629.420000</td>\n",
              "      <td>1.227748e+06</td>\n",
              "      <td>1.824973e+14</td>\n",
              "      <td>68901.000000</td>\n",
              "      <td>7.052640e+05</td>\n",
              "      <td>0.553800</td>\n",
              "    </tr>\n",
              "    <tr>\n",
              "      <th>75%</th>\n",
              "      <td>2326.125000</td>\n",
              "      <td>2321.800000</td>\n",
              "      <td>2345.000000</td>\n",
              "      <td>2301.300000</td>\n",
              "      <td>2325.000000</td>\n",
              "      <td>2326.850000</td>\n",
              "      <td>2319.895000</td>\n",
              "      <td>2.081120e+06</td>\n",
              "      <td>3.455393e+14</td>\n",
              "      <td>110630.250000</td>\n",
              "      <td>1.136132e+06</td>\n",
              "      <td>0.646850</td>\n",
              "    </tr>\n",
              "    <tr>\n",
              "      <th>max</th>\n",
              "      <td>3603.700000</td>\n",
              "      <td>3625.000000</td>\n",
              "      <td>3674.800000</td>\n",
              "      <td>3572.550000</td>\n",
              "      <td>3610.750000</td>\n",
              "      <td>3603.700000</td>\n",
              "      <td>3633.110000</td>\n",
              "      <td>4.403358e+07</td>\n",
              "      <td>1.268362e+16</td>\n",
              "      <td>542541.000000</td>\n",
              "      <td>3.155626e+07</td>\n",
              "      <td>0.962200</td>\n",
              "    </tr>\n",
              "  </tbody>\n",
              "</table>\n",
              "</div>"
            ],
            "text/plain": [
              "        Prev Close         Open         High          Low         Last  \\\n",
              "count  4139.000000  4139.000000  4139.000000  4139.000000  4139.000000   \n",
              "mean   1693.843549  1695.594081  1715.882302  1673.585709  1694.310184   \n",
              "std     722.879316   722.978228   728.450096   717.780248   723.177934   \n",
              "min     366.650000   360.000000   377.750000   358.000000   365.700000   \n",
              "25%    1106.250000  1105.525000  1120.275000  1088.575000  1107.000000   \n",
              "50%    1633.500000  1625.000000  1655.000000  1610.000000  1630.050000   \n",
              "75%    2326.125000  2321.800000  2345.000000  2301.300000  2325.000000   \n",
              "max    3603.700000  3625.000000  3674.800000  3572.550000  3610.750000   \n",
              "\n",
              "             Close         VWAP        Volume      Turnover         Trades  \\\n",
              "count  4139.000000  4139.000000  4.139000e+03  4.139000e+03    2456.000000   \n",
              "mean   1694.371612  1694.618120  1.676762e+06  2.952102e+14   85502.709283   \n",
              "std     723.061025   723.144157  1.607879e+06  3.849370e+14   56031.488595   \n",
              "min     366.650000   368.400000  1.834500e+04  1.370237e+12    1219.000000   \n",
              "25%    1106.500000  1105.750000  7.884775e+05  1.050834e+14   46749.500000   \n",
              "50%    1636.350000  1629.420000  1.227748e+06  1.824973e+14   68901.000000   \n",
              "75%    2326.850000  2319.895000  2.081120e+06  3.455393e+14  110630.250000   \n",
              "max    3603.700000  3633.110000  4.403358e+07  1.268362e+16  542541.000000   \n",
              "\n",
              "       Deliverable Volume  %Deliverble  \n",
              "count        4.139000e+03  4139.000000  \n",
              "mean         8.952206e+05     0.549429  \n",
              "std          8.637908e+05     0.132867  \n",
              "min          7.765000e+03     0.121400  \n",
              "25%          4.334740e+05     0.459100  \n",
              "50%          7.052640e+05     0.553800  \n",
              "75%          1.136132e+06     0.646850  \n",
              "max          3.155626e+07     0.962200  "
            ]
          },
          "execution_count": 11,
          "metadata": {},
          "output_type": "execute_result"
        }
      ],
      "source": [
        "df.describe()"
      ]
    },
    {
      "cell_type": "code",
      "execution_count": null,
      "metadata": {
        "id": "Fj87mrJlqIc_",
        "outputId": "a2b97fd8-7502-44c5-a09e-ea1ed250f188"
      },
      "outputs": [
        {
          "name": "stdout",
          "output_type": "stream",
          "text": [
            "0        987.95\n",
            "1        979.00\n",
            "2        962.65\n",
            "3        986.75\n",
            "4        988.10\n",
            "         ...   \n",
            "4134    3100.80\n",
            "4135    3132.00\n",
            "4136    3124.10\n",
            "4137    3115.25\n",
            "4138    3035.65\n",
            "Name: Close, Length: 4139, dtype: float64\n"
          ]
        }
      ],
      "source": [
        "df_close = df['Close']\n",
        "print(df_close)"
      ]
    },
    {
      "cell_type": "code",
      "execution_count": null,
      "metadata": {
        "id": "wG_ED5ktqIdA",
        "outputId": "3990666a-52d4-4422-fa10-6cc5c84f1767"
      },
      "outputs": [
        {
          "data": {
            "text/plain": [
              "(4139,)"
            ]
          },
          "execution_count": 13,
          "metadata": {},
          "output_type": "execute_result"
        }
      ],
      "source": [
        "df_close.shape"
      ]
    },
    {
      "cell_type": "code",
      "execution_count": null,
      "metadata": {
        "id": "iaVUdrKAqIdA",
        "outputId": "e503e919-58de-4751-d3e3-0e64f885996c"
      },
      "outputs": [
        {
          "data": {
            "text/plain": [
              "[<matplotlib.lines.Line2D at 0x2886d32220>]"
            ]
          },
          "execution_count": 14,
          "metadata": {},
          "output_type": "execute_result"
        },
        {
          "data": {
            "image/png": "[encoded data removed]",
            "text/plain": [
              "<Figure size 432x288 with 1 Axes>"
            ]
          },
          "metadata": {
            "needs_background": "light"
          },
          "output_type": "display_data"
        }
      ],
      "source": [
        "%matplotlib inline\n",
        "plt.plot(df_close)"
      ]
    },
    {
      "cell_type": "code",
      "execution_count": null,
      "metadata": {
        "id": "BxbIik8pqIdB"
      },
      "outputs": [],
      "source": [
        "from sklearn.preprocessing import MinMaxScaler\n",
        "scaler = MinMaxScaler(feature_range = (0,1))\n",
        "df_close = scaler.fit_transform(np.array(df_close).reshape(-1,1))"
      ]
    },
    {
      "cell_type": "code",
      "execution_count": null,
      "metadata": {
        "id": "DWXxL_k2qIdB",
        "outputId": "2b8f0897-42e1-4495-8edf-6381ba574657"
      },
      "outputs": [
        {
          "name": "stdout",
          "output_type": "stream",
          "text": [
            "[[0.19193401]\n",
            " [0.18916915]\n",
            " [0.18411826]\n",
            " ...\n",
            " [0.85184041]\n",
            " [0.84910644]\n",
            " [0.82451615]]\n"
          ]
        }
      ],
      "source": [
        "print(df_close)"
      ]
    },
    {
      "cell_type": "code",
      "execution_count": null,
      "metadata": {
        "id": "QnlTaWEMqIdC"
      },
      "outputs": [],
      "source": [
        "# splitting the dataset into training data and test data\n",
        "train_size = int(len(df_close) * 0.75)\n",
        "test_size = len(df_close) - train_size\n",
        "train_data, test_data = df_close[:train_size, :], df_close[train_size:len(df_close), :]"
      ]
    },
    {
      "cell_type": "code",
      "execution_count": null,
      "metadata": {
        "id": "rmzxZXo2qIdC",
        "outputId": "a56124a1-3f00-4749-98c2-d0e14672e0e7"
      },
      "outputs": [
        {
          "data": {
            "text/plain": [
              "(3104, 1035)"
            ]
          },
          "execution_count": 21,
          "metadata": {},
          "output_type": "execute_result"
        }
      ],
      "source": [
        "train_size, test_size"
      ]
    },
    {
      "cell_type": "code",
      "execution_count": null,
      "metadata": {
        "id": "xMxwrZpHqIdD",
        "outputId": "3bf46007-105b-4654-a495-e2b360e84262"
      },
      "outputs": [
        {
          "name": "stdout",
          "output_type": "stream",
          "text": [
            "[[0.19193401]\n",
            " [0.18916915]\n",
            " [0.18411826]\n",
            " ...\n",
            " [0.63058958]\n",
            " [0.65972104]\n",
            " [0.64833722]]\n"
          ]
        }
      ],
      "source": [
        "print(train_data)"
      ]
    },
    {
      "cell_type": "code",
      "execution_count": null,
      "metadata": {
        "id": "zHy83wyfqIdD",
        "outputId": "97fe444e-87c4-4fdc-9186-89dc03471d47"
      },
      "outputs": [
        {
          "name": "stdout",
          "output_type": "stream",
          "text": [
            "[[0.6317017 ]\n",
            " [0.65341901]\n",
            " [0.65590584]\n",
            " ...\n",
            " [0.85184041]\n",
            " [0.84910644]\n",
            " [0.82451615]]\n"
          ]
        }
      ],
      "source": [
        "print(test_data)"
      ]
    },
    {
      "cell_type": "code",
      "execution_count": null,
      "metadata": {
        "id": "dfG59zZ-qIdE"
      },
      "outputs": [],
      "source": [
        "# convert an array of values into a dataset matrix\n",
        "def create_dataset(dataset, time_step = 1):\n",
        "    dataX, dataY = [], []\n",
        "    for i in range(len(dataset) - time_step - 1):\n",
        "        a = dataset[i:(i + time_step), 0]  \n",
        "        dataX.append(a)\n",
        "        dataY.append(dataset[i + time_step, 0])\n",
        "    return np.array(dataX), np.array(dataY)"
      ]
    },
    {
      "cell_type": "code",
      "execution_count": null,
      "metadata": {
        "id": "039oMrRsqIdE"
      },
      "outputs": [],
      "source": [
        "# reshape into X = t,t+1,t+2,t+3 and Y = t+4\n",
        "time_step = 100\n",
        "X_train, y_train = create_dataset(train_data, time_step)\n",
        "X_test, y_test = create_dataset(test_data, time_step)"
      ]
    },
    {
      "cell_type": "code",
      "execution_count": null,
      "metadata": {
        "id": "CCTep_YqqIdF",
        "outputId": "c2aa70bb-3beb-4c96-84f6-bd75fff60e9c"
      },
      "outputs": [
        {
          "name": "stdout",
          "output_type": "stream",
          "text": [
            "Shape of X_train: (3003, 100)\n",
            "Shape of y_train: (3003,)\n"
          ]
        }
      ],
      "source": [
        "print(\"Shape of X_train:\", X_train.shape)\n",
        "print(\"Shape of y_train:\", y_train.shape)"
      ]
    },
    {
      "cell_type": "code",
      "execution_count": null,
      "metadata": {
        "id": "L1xqyZy0qIdG",
        "outputId": "9d920d74-6f88-49fc-adda-b9915fdce625"
      },
      "outputs": [
        {
          "name": "stdout",
          "output_type": "stream",
          "text": [
            "Shape of X_test: (934, 100)\n",
            "Shape of y_test: (934,)\n"
          ]
        }
      ],
      "source": [
        "print(\"Shape of X_test:\", X_test.shape)\n",
        "print(\"Shape of y_test:\", y_test.shape)"
      ]
    },
    {
      "cell_type": "code",
      "execution_count": null,
      "metadata": {
        "id": "JIZSdH9kqIdG"
      },
      "outputs": [],
      "source": [
        "# reshape input to be [samples, time steps, features] which is required for LSTM\n",
        "X_train = X_train.reshape(X_train.shape[0], X_train.shape[1], 1)\n",
        "X_test = X_test.reshape(X_test.shape[0], X_test.shape[1], 1)"
      ]
    },
    {
      "cell_type": "code",
      "execution_count": null,
      "metadata": {
        "id": "s79mAJXsqIdH"
      },
      "outputs": [],
      "source": [
        "# Stacked LSTM\n",
        "model = Sequential()\n",
        "model.add(LSTM(50, return_sequences = True, input_shape = (100,1)))\n",
        "model.add(LSTM(50, return_sequences = True))\n",
        "model.add(LSTM(50))\n",
        "model.add(Dense(1))\n",
        "model.compile(loss = 'mean_squared_error', optimizer = 'adam')"
      ]
    },
    {
      "cell_type": "code",
      "execution_count": null,
      "metadata": {
        "id": "dVWLUGs5qIdH",
        "outputId": "600b6feb-f147-4f65-81a4-1df985b524b4"
      },
      "outputs": [
        {
          "name": "stdout",
          "output_type": "stream",
          "text": [
            "Model: \"sequential\"\n",
            "_________________________________________________________________\n",
            "Layer (type)                 Output Shape              Param #   \n",
            "=================================================================\n",
            "lstm (LSTM)                  (None, 100, 50)           10400     \n",
            "_________________________________________________________________\n",
            "lstm_1 (LSTM)                (None, 100, 50)           20200     \n",
            "_________________________________________________________________\n",
            "lstm_2 (LSTM)                (None, 50)                20200     \n",
            "_________________________________________________________________\n",
            "dense (Dense)                (None, 1)                 51        \n",
            "=================================================================\n",
            "Total params: 50,851\n",
            "Trainable params: 50,851\n",
            "Non-trainable params: 0\n",
            "_________________________________________________________________\n"
          ]
        }
      ],
      "source": [
        "model.summary()"
      ]
    },
    {
      "cell_type": "code",
      "execution_count": null,
      "metadata": {
        "id": "-yscuIVnqIdI",
        "outputId": "90ea3ea6-cad4-488b-afda-48afeb67e4ea"
      },
      "outputs": [
        {
          "name": "stdout",
          "output_type": "stream",
          "text": [
            "Epoch 1/100\n",
            "47/47 [==============================] - 58s 321ms/step - loss: 0.0333 - val_loss: 0.0040\n",
            "Epoch 2/100\n",
            "47/47 [==============================] - 10s 212ms/step - loss: 7.9753e-04 - val_loss: 0.0038\n",
            "Epoch 3/100\n",
            "47/47 [==============================] - 9s 202ms/step - loss: 6.1313e-04 - val_loss: 0.0041\n",
            "Epoch 4/100\n",
            "47/47 [==============================] - 11s 237ms/step - loss: 6.5062e-04 - val_loss: 0.0037\n",
            "Epoch 5/100\n",
            "47/47 [==============================] - 11s 238ms/step - loss: 6.7209e-04 - val_loss: 0.0035\n",
            "Epoch 6/100\n",
            "47/47 [==============================] - 10s 208ms/step - loss: 6.6304e-04 - val_loss: 0.0033\n",
            "Epoch 7/100\n",
            "47/47 [==============================] - 11s 245ms/step - loss: 6.7207e-04 - val_loss: 0.0032\n",
            "Epoch 8/100\n",
            "47/47 [==============================] - 10s 224ms/step - loss: 6.1946e-04 - val_loss: 0.0033\n",
            "Epoch 9/100\n",
            "47/47 [==============================] - 9s 200ms/step - loss: 7.1930e-04 - val_loss: 0.0029\n",
            "Epoch 10/100\n",
            "47/47 [==============================] - 10s 208ms/step - loss: 4.9665e-04 - val_loss: 0.0027\n",
            "Epoch 11/100\n",
            "47/47 [==============================] - 9s 200ms/step - loss: 5.6511e-04 - val_loss: 0.0026\n",
            "Epoch 12/100\n",
            "47/47 [==============================] - 9s 199ms/step - loss: 5.0277e-04 - val_loss: 0.0025\n",
            "Epoch 13/100\n",
            "47/47 [==============================] - 10s 203ms/step - loss: 4.9063e-04 - val_loss: 0.0023\n",
            "Epoch 14/100\n",
            "47/47 [==============================] - 9s 187ms/step - loss: 5.4879e-04 - val_loss: 0.0022\n",
            "Epoch 15/100\n",
            "47/47 [==============================] - 9s 193ms/step - loss: 4.7284e-04 - val_loss: 0.0021\n",
            "Epoch 16/100\n",
            "47/47 [==============================] - 9s 186ms/step - loss: 3.8304e-04 - val_loss: 0.0022\n",
            "Epoch 17/100\n",
            "47/47 [==============================] - 9s 193ms/step - loss: 4.3295e-04 - val_loss: 0.0020\n",
            "Epoch 18/100\n",
            "47/47 [==============================] - 9s 196ms/step - loss: 4.2939e-04 - val_loss: 0.0021\n",
            "Epoch 19/100\n",
            "47/47 [==============================] - 9s 195ms/step - loss: 4.6752e-04 - val_loss: 0.0018\n",
            "Epoch 20/100\n",
            "47/47 [==============================] - 10s 204ms/step - loss: 4.0792e-04 - val_loss: 0.0017\n",
            "Epoch 21/100\n",
            "47/47 [==============================] - 9s 193ms/step - loss: 3.6016e-04 - val_loss: 0.0024\n",
            "Epoch 22/100\n",
            "47/47 [==============================] - 10s 208ms/step - loss: 4.9757e-04 - val_loss: 0.0016\n",
            "Epoch 23/100\n",
            "47/47 [==============================] - 10s 210ms/step - loss: 4.0766e-04 - val_loss: 0.0015\n",
            "Epoch 24/100\n",
            "47/47 [==============================] - 10s 215ms/step - loss: 3.8618e-04 - val_loss: 0.0015\n",
            "Epoch 25/100\n",
            "47/47 [==============================] - 9s 201ms/step - loss: 4.9802e-04 - val_loss: 0.0014\n",
            "Epoch 26/100\n",
            "47/47 [==============================] - 9s 190ms/step - loss: 3.3087e-04 - val_loss: 0.0014\n",
            "Epoch 27/100\n",
            "47/47 [==============================] - 9s 202ms/step - loss: 3.4672e-04 - val_loss: 0.0013\n",
            "Epoch 28/100\n",
            "47/47 [==============================] - 9s 191ms/step - loss: 2.5208e-04 - val_loss: 0.0015\n",
            "Epoch 29/100\n",
            "47/47 [==============================] - 9s 201ms/step - loss: 3.0941e-04 - val_loss: 0.0012\n",
            "Epoch 30/100\n",
            "47/47 [==============================] - 9s 198ms/step - loss: 3.7035e-04 - val_loss: 0.0013\n",
            "Epoch 31/100\n",
            "47/47 [==============================] - 9s 195ms/step - loss: 3.5613e-04 - val_loss: 0.0012\n",
            "Epoch 32/100\n",
            "47/47 [==============================] - 9s 201ms/step - loss: 2.7264e-04 - val_loss: 0.0011\n",
            "Epoch 33/100\n",
            "47/47 [==============================] - 9s 192ms/step - loss: 3.0646e-04 - val_loss: 0.0011\n",
            "Epoch 34/100\n",
            "47/47 [==============================] - 9s 200ms/step - loss: 3.3140e-04 - val_loss: 9.7300e-04\n",
            "Epoch 35/100\n",
            "47/47 [==============================] - 9s 192ms/step - loss: 2.5312e-04 - val_loss: 9.8563e-04\n",
            "Epoch 36/100\n",
            "47/47 [==============================] - 9s 198ms/step - loss: 2.5756e-04 - val_loss: 0.0010 ETA: 0s - loss: 2.5642e-\n",
            "Epoch 37/100\n",
            "47/47 [==============================] - 9s 200ms/step - loss: 3.6585e-04 - val_loss: 8.9115e-04\n",
            "Epoch 38/100\n",
            "47/47 [==============================] - 9s 194ms/step - loss: 2.4010e-04 - val_loss: 8.3470e-04\n",
            "Epoch 39/100\n",
            "47/47 [==============================] - 9s 201ms/step - loss: 2.8738e-04 - val_loss: 9.2406e-04\n",
            "Epoch 40/100\n",
            "47/47 [==============================] - 9s 196ms/step - loss: 2.5397e-04 - val_loss: 0.0013\n",
            "Epoch 41/100\n",
            "47/47 [==============================] - 9s 201ms/step - loss: 2.7368e-04 - val_loss: 8.1802e-04\n",
            "Epoch 42/100\n",
            "47/47 [==============================] - 9s 196ms/step - loss: 2.6543e-04 - val_loss: 6.9797e-04\n",
            "Epoch 43/100\n",
            "47/47 [==============================] - 9s 197ms/step - loss: 2.2022e-04 - val_loss: 6.4601e-04\n",
            "Epoch 44/100\n",
            "47/47 [==============================] - 10s 203ms/step - loss: 1.7059e-04 - val_loss: 6.5768e-04\n",
            "Epoch 45/100\n",
            "47/47 [==============================] - 10s 207ms/step - loss: 2.1249e-04 - val_loss: 7.6924e-04\n",
            "Epoch 46/100\n",
            "47/47 [==============================] - 10s 211ms/step - loss: 1.6122e-04 - val_loss: 7.5405e-04\n",
            "Epoch 47/100\n",
            "47/47 [==============================] - 9s 198ms/step - loss: 1.7596e-04 - val_loss: 5.7750e-04\n",
            "Epoch 48/100\n",
            "47/47 [==============================] - 10s 211ms/step - loss: 1.6193e-04 - val_loss: 5.5756e-04\n",
            "Epoch 49/100\n",
            "47/47 [==============================] - 10s 208ms/step - loss: 1.4586e-04 - val_loss: 6.4788e-04\n",
            "Epoch 50/100\n",
            "47/47 [==============================] - 9s 195ms/step - loss: 1.9007e-04 - val_loss: 5.4511e-04\n",
            "Epoch 51/100\n",
            "47/47 [==============================] - 10s 210ms/step - loss: 2.5680e-04 - val_loss: 6.7412e-04\n",
            "Epoch 52/100\n",
            "47/47 [==============================] - 9s 202ms/step - loss: 1.5093e-04 - val_loss: 5.3321e-04\n",
            "Epoch 53/100\n",
            "47/47 [==============================] - 9s 198ms/step - loss: 1.7950e-04 - val_loss: 5.6845e-04\n",
            "Epoch 54/100\n",
            "47/47 [==============================] - 9s 192ms/step - loss: 1.5981e-04 - val_loss: 6.3006e-04\n",
            "Epoch 55/100\n",
            "47/47 [==============================] - 9s 184ms/step - loss: 1.8818e-04 - val_loss: 6.0969e-04\n",
            "Epoch 56/100\n",
            "47/47 [==============================] - 9s 193ms/step - loss: 1.1895e-04 - val_loss: 6.3358e-04\n",
            "Epoch 57/100\n",
            "47/47 [==============================] - 9s 184ms/step - loss: 1.4366e-04 - val_loss: 5.8003e-04\n",
            "Epoch 58/100\n",
            "47/47 [==============================] - 9s 192ms/step - loss: 1.2104e-04 - val_loss: 5.9723e-04\n",
            "Epoch 59/100\n",
            "47/47 [==============================] - 9s 184ms/step - loss: 1.1489e-04 - val_loss: 5.0629e-04\n",
            "Epoch 60/100\n",
            "47/47 [==============================] - 10s 217ms/step - loss: 1.1382e-04 - val_loss: 5.4833e-04\n",
            "Epoch 61/100\n",
            "47/47 [==============================] - 9s 194ms/step - loss: 1.2053e-04 - val_loss: 5.1685e-04\n",
            "Epoch 62/100\n",
            "47/47 [==============================] - 9s 192ms/step - loss: 1.0877e-04 - val_loss: 5.1638e-04\n",
            "Epoch 63/100\n",
            "47/47 [==============================] - 9s 199ms/step - loss: 1.1033e-04 - val_loss: 5.7888e-04\n",
            "Epoch 64/100\n",
            "47/47 [==============================] - 9s 189ms/step - loss: 1.8641e-04 - val_loss: 5.2426e-04\n",
            "Epoch 65/100\n",
            "47/47 [==============================] - 9s 194ms/step - loss: 1.4385e-04 - val_loss: 5.8870e-04\n",
            "Epoch 66/100\n",
            "47/47 [==============================] - 9s 187ms/step - loss: 1.1921e-04 - val_loss: 5.2424e-04\n",
            "Epoch 67/100\n",
            "47/47 [==============================] - 9s 195ms/step - loss: 1.2366e-04 - val_loss: 5.7286e-04\n",
            "Epoch 68/100\n",
            "47/47 [==============================] - 9s 192ms/step - loss: 1.0109e-04 - val_loss: 5.9689e-04\n",
            "Epoch 69/100\n",
            "47/47 [==============================] - 9s 188ms/step - loss: 1.3787e-04 - val_loss: 5.5271e-04\n",
            "Epoch 70/100\n",
            "47/47 [==============================] - 9s 194ms/step - loss: 1.2257e-04 - val_loss: 5.3909e-04\n",
            "Epoch 71/100\n",
            "47/47 [==============================] - 9s 188ms/step - loss: 1.2350e-04 - val_loss: 5.2845e-04\n",
            "Epoch 72/100\n",
            "47/47 [==============================] - 9s 194ms/step - loss: 9.8921e-05 - val_loss: 5.3616e-04\n",
            "Epoch 73/100\n",
            "47/47 [==============================] - 9s 187ms/step - loss: 1.2219e-04 - val_loss: 5.3033e-04\n",
            "Epoch 74/100\n",
            "47/47 [==============================] - 9s 197ms/step - loss: 1.3361e-04 - val_loss: 7.9330e-04\n",
            "Epoch 75/100\n",
            "47/47 [==============================] - 10s 204ms/step - loss: 1.2466e-04 - val_loss: 5.2613e-04\n",
            "Epoch 76/100\n"
          ]
        },
        {
          "name": "stdout",
          "output_type": "stream",
          "text": [
            "47/47 [==============================] - 9s 194ms/step - loss: 1.1480e-04 - val_loss: 5.5853e-04\n",
            "Epoch 77/100\n",
            "47/47 [==============================] - 9s 196ms/step - loss: 1.3306e-04 - val_loss: 5.5713e-04\n",
            "Epoch 78/100\n",
            "47/47 [==============================] - 9s 191ms/step - loss: 1.0906e-04 - val_loss: 7.2475e-04\n",
            "Epoch 79/100\n",
            "47/47 [==============================] - 9s 202ms/step - loss: 2.1435e-04 - val_loss: 5.3602e-04\n",
            "Epoch 80/100\n",
            "47/47 [==============================] - 9s 189ms/step - loss: 1.1417e-04 - val_loss: 5.4362e-04\n",
            "Epoch 81/100\n",
            "47/47 [==============================] - 9s 201ms/step - loss: 1.1544e-04 - val_loss: 5.3159e-04\n",
            "Epoch 82/100\n",
            "47/47 [==============================] - 9s 195ms/step - loss: 1.0357e-04 - val_loss: 5.2273e-04\n",
            "Epoch 83/100\n",
            "47/47 [==============================] - 9s 199ms/step - loss: 1.0993e-04 - val_loss: 6.3759e-04\n",
            "Epoch 84/100\n",
            "47/47 [==============================] - 11s 231ms/step - loss: 1.0765e-04 - val_loss: 5.2783e-04\n",
            "Epoch 85/100\n",
            "47/47 [==============================] - 11s 224ms/step - loss: 1.5482e-04 - val_loss: 5.2687e-04\n",
            "Epoch 86/100\n",
            "47/47 [==============================] - 10s 219ms/step - loss: 8.9659e-05 - val_loss: 5.4852e-04\n",
            "Epoch 87/100\n",
            "47/47 [==============================] - 12s 252ms/step - loss: 1.5347e-04 - val_loss: 5.2436e-04\n",
            "Epoch 88/100\n",
            "47/47 [==============================] - 10s 211ms/step - loss: 1.0037e-04 - val_loss: 6.5865e-04\n",
            "Epoch 89/100\n",
            "47/47 [==============================] - 11s 245ms/step - loss: 3.2658e-04 - val_loss: 5.2742e-04\n",
            "Epoch 90/100\n",
            "47/47 [==============================] - 12s 263ms/step - loss: 1.0370e-04 - val_loss: 5.3915e-04\n",
            "Epoch 91/100\n",
            "47/47 [==============================] - 12s 253ms/step - loss: 1.5109e-04 - val_loss: 5.3539e-04\n",
            "Epoch 92/100\n",
            "47/47 [==============================] - 11s 231ms/step - loss: 1.3329e-04 - val_loss: 5.2507e-04\n",
            "Epoch 93/100\n",
            "47/47 [==============================] - 10s 205ms/step - loss: 1.6135e-04 - val_loss: 5.9096e-04\n",
            "Epoch 94/100\n",
            "47/47 [==============================] - 10s 205ms/step - loss: 1.1808e-04 - val_loss: 5.3537e-04\n",
            "Epoch 95/100\n",
            "47/47 [==============================] - 9s 197ms/step - loss: 1.2272e-04 - val_loss: 5.4599e-04\n",
            "Epoch 96/100\n",
            "47/47 [==============================] - 9s 197ms/step - loss: 9.3553e-05 - val_loss: 6.6920e-04\n",
            "Epoch 97/100\n",
            "47/47 [==============================] - 9s 189ms/step - loss: 1.4421e-04 - val_loss: 5.2429e-04\n",
            "Epoch 98/100\n",
            "47/47 [==============================] - 9s 198ms/step - loss: 1.2045e-04 - val_loss: 5.2601e-04\n",
            "Epoch 99/100\n",
            "47/47 [==============================] - 9s 189ms/step - loss: 1.2018e-04 - val_loss: 5.3589e-04\n",
            "Epoch 100/100\n",
            "47/47 [==============================] - 9s 199ms/step - loss: 9.1280e-05 - val_loss: 5.2506e-04\n"
          ]
        },
        {
          "data": {
            "text/plain": [
              "<keras.callbacks.History at 0x288ed98640>"
            ]
          },
          "execution_count": 32,
          "metadata": {},
          "output_type": "execute_result"
        }
      ],
      "source": [
        "model.fit(X_train, y_train, validation_data = (X_test, y_test), epochs=100, batch_size = 64, verbose = 1)"
      ]
    },
    {
      "cell_type": "code",
      "execution_count": null,
      "metadata": {
        "id": "HayptZYFqIdI"
      },
      "outputs": [],
      "source": [
        "# doing prediction and checking performance metrics\n",
        "train_predict = model.predict(X_train)\n",
        "test_predict = model.predict(X_test)"
      ]
    },
    {
      "cell_type": "code",
      "execution_count": null,
      "metadata": {
        "id": "YXfXLYgKqIdJ"
      },
      "outputs": [],
      "source": [
        "# transforming back to original form\n",
        "train_predict = scaler.inverse_transform(train_predict)\n",
        "test_predict = scaler.inverse_transform(test_predict)"
      ]
    },
    {
      "cell_type": "code",
      "execution_count": null,
      "metadata": {
        "id": "yoe7w96mqIdJ",
        "outputId": "a247812a-5b4c-434f-917e-09e2bbf3d27e"
      },
      "outputs": [
        {
          "data": {
            "text/plain": [
              "0.01077861045009059"
            ]
          },
          "execution_count": 35,
          "metadata": {},
          "output_type": "execute_result"
        }
      ],
      "source": [
        "# Calculate RMSE performance metrics\n",
        "import math\n",
        "from sklearn.metrics import mean_squared_error\n",
        "# train data RMSE\n",
        "math.sqrt(mean_squared_error(y_train, train_predict))"
      ]
    },
    {
      "cell_type": "code",
      "execution_count": null,
      "metadata": {
        "id": "jJYQq5uSqIdJ",
        "outputId": "8d3b1234-ed5d-4f41-84fb-482d361e5544"
      },
      "outputs": [
        {
          "data": {
            "text/plain": [
              "0.022914120944779206"
            ]
          },
          "execution_count": 37,
          "metadata": {},
          "output_type": "execute_result"
        }
      ],
      "source": [
        "# test data RMSE\n",
        "math.sqrt(mean_squared_error(y_test, test_predict))"
      ]
    },
    {
      "cell_type": "code",
      "execution_count": null,
      "metadata": {
        "id": "Y4elCaLJqIdK",
        "outputId": "d2e00ee0-b8ca-456e-cfe4-2de3c25b6def"
      },
      "outputs": [
        {
          "data": {
            "image/png": "[encoded data removed]",
            "text/plain": [
              "<Figure size 432x288 with 1 Axes>"
            ]
          },
          "metadata": {
            "needs_background": "light"
          },
          "output_type": "display_data"
        }
      ],
      "source": [
        "# Plotting \n",
        "# shift train predictions for plotting\n",
        "look_back = 100\n",
        "trainPredictPlot = np.empty_like(df_close)\n",
        "trainPredictPlot[:, :] = np.nan\n",
        "trainPredictPlot[look_back:len(train_predict) + look_back, :] = train_predict\n",
        "# shift test predictions for plotting\n",
        "testPredictPlot = np.empty_like(df_close)\n",
        "testPredictPlot[:, :] = np.nan\n",
        "testPredictPlot[len(train_predict) + (look_back*2) +1:len(df_close)-1, :] = test_predict\n",
        "# plot baseline and predictions\n",
        "plt.plot(scaler.inverse_transform(df_close))\n",
        "plt.plot(trainPredictPlot)\n",
        "plt.plot(testPredictPlot)\n",
        "plt.show()"
      ]
    },
    {
      "cell_type": "code",
      "execution_count": null,
      "metadata": {
        "id": "3iAvyWNwqIdL",
        "outputId": "3c4a49e4-0b1d-440d-de7f-33fe2b8e5177"
      },
      "outputs": [
        {
          "data": {
            "text/plain": [
              "1035"
            ]
          },
          "execution_count": 39,
          "metadata": {},
          "output_type": "execute_result"
        }
      ],
      "source": [
        "len(test_data)"
      ]
    },
    {
      "cell_type": "code",
      "execution_count": null,
      "metadata": {
        "id": "XXJhb48qqIdL",
        "outputId": "2155e4c2-a0dc-4fa0-af48-9677dbec0cfb"
      },
      "outputs": [
        {
          "data": {
            "text/plain": [
              "(1, 100)"
            ]
          },
          "execution_count": 40,
          "metadata": {},
          "output_type": "execute_result"
        }
      ],
      "source": [
        "x_input = test_data[935:].reshape(1,-1)\n",
        "x_input.shape"
      ]
    },
    {
      "cell_type": "code",
      "execution_count": null,
      "metadata": {
        "id": "-RsaH64PqIdL"
      },
      "outputs": [],
      "source": [
        "temp_input = list(x_input)\n",
        "temp_input = temp_input[0].tolist()"
      ]
    },
    {
      "cell_type": "code",
      "execution_count": null,
      "metadata": {
        "id": "xf5_UacTqIdM",
        "outputId": "cc02a374-421b-48b3-aad7-abe204e75d65"
      },
      "outputs": [
        {
          "name": "stdout",
          "output_type": "stream",
          "text": [
            "[0.7237453854589828, 0.7293368962481273, 0.7324724672155203, 0.7508842927974546, 0.7550547566457115, 0.7468682905732071, 0.7466520442995939, 0.751007862096662, 0.7398402866807743, 0.7561050956889761, 0.7635192536414328, 0.7705627036962668, 0.7579431890146895, 0.7741153210484855, 0.7853137887891755, 0.7854991427379867, 0.7916930538607683, 0.7920328694335892, 0.7854836965755858, 0.7711033193803001, 0.7913377921255464, 0.8256900573052626, 0.8422328972366817, 0.8294125824438918, 0.8236357177059361, 0.8508518558564127, 0.8680125422838696, 0.8675182650870392, 0.8626063854435366, 0.8909500934492827, 0.8855902750961524, 0.8820067654191317, 0.894039325929473, 0.9088985341591884, 0.8981016666409232, 0.9071376716454798, 0.9034923773188552, 0.8941474490662797, 0.8742218995690523, 0.8479016388378309, 0.8565514897823636, 0.8763534699803834, 0.8753031309371189, 0.8717196212600979, 0.8622974621955175, 0.8796435025717861, 0.8681515577454781, 0.8793963639733708, 0.877141224262832, 0.8724455908929427, 0.8567059514063731, 0.8471138845553823, 0.8360853246011029, 0.8312197834448032, 0.835699170541079, 0.800667274215721, 0.807386354860135, 0.7974699185987242, 0.8120510959052225, 0.7808498478553005, 0.7900866529710693, 0.8154646977958326, 0.8317603991288365, 0.8288565205974576, 0.815989867317465, 0.8156500517446441, 0.8292426746574812, 0.8354211396178619, 0.8314051373936147, 0.8339383080273708, 0.8475000386154061, 0.8483959160346612, 0.8247787337236063, 0.8290109822214671, 0.8535549342765791, 0.8575554903384255, 0.8509136405060163, 0.8335367078049458, 0.8341391081385832, 0.862482816144329, 0.8684450348310961, 0.8644753710940518, 0.8873047991226581, 0.895275018921549, 0.8973448046832766, 0.9115398279297509, 0.9130535518450442, 0.8896680619700037, 0.8456464991272918, 0.8811417803246784, 0.8737894070218255, 0.8634868167003908, 0.8581578906720626, 0.8502031170355726, 0.8473301308289956, 0.8446424985712302, 0.8542809039094237, 0.8518404102500734, 0.8491064395051051, 0.8245161489627904]\n"
          ]
        }
      ],
      "source": [
        "print(temp_input)"
      ]
    },
    {
      "cell_type": "code",
      "execution_count": null,
      "metadata": {
        "id": "V3lExl_IqIdM",
        "outputId": "7d8cef58-f502-48b4-8927-68acdca36537"
      },
      "outputs": [
        {
          "name": "stdout",
          "output_type": "stream",
          "text": [
            "[0.8131473]\n",
            "101\n",
            "1 day input [0.7293369  0.73247247 0.75088429 0.75505476 0.74686829 0.74665204\n",
            " 0.75100786 0.73984029 0.7561051  0.76351925 0.7705627  0.75794319\n",
            " 0.77411532 0.78531379 0.78549914 0.79169305 0.79203287 0.7854837\n",
            " 0.77110332 0.79133779 0.82569006 0.8422329  0.82941258 0.82363572\n",
            " 0.85085186 0.86801254 0.86751827 0.86260639 0.89095009 0.88559028\n",
            " 0.88200677 0.89403933 0.90889853 0.89810167 0.90713767 0.90349238\n",
            " 0.89414745 0.8742219  0.84790164 0.85655149 0.87635347 0.87530313\n",
            " 0.87171962 0.86229746 0.8796435  0.86815156 0.87939636 0.87714122\n",
            " 0.87244559 0.85670595 0.84711388 0.83608532 0.83121978 0.83569917\n",
            " 0.80066727 0.80738635 0.79746992 0.8120511  0.78084985 0.79008665\n",
            " 0.8154647  0.8317604  0.82885652 0.81598987 0.81565005 0.82924267\n",
            " 0.83542114 0.83140514 0.83393831 0.84750004 0.84839592 0.82477873\n",
            " 0.82901098 0.85355493 0.85755549 0.85091364 0.83353671 0.83413911\n",
            " 0.86248282 0.86844503 0.86447537 0.8873048  0.89527502 0.8973448\n",
            " 0.91153983 0.91305355 0.88966806 0.8456465  0.88114178 0.87378941\n",
            " 0.86348682 0.85815789 0.85020312 0.84733013 0.8446425  0.8542809\n",
            " 0.85184041 0.84910644 0.82451615 0.81314731]\n",
            "1 day output [[0.8118635]]\n",
            "2 day input [0.73247247 0.75088429 0.75505476 0.74686829 0.74665204 0.75100786\n",
            " 0.73984029 0.7561051  0.76351925 0.7705627  0.75794319 0.77411532\n",
            " 0.78531379 0.78549914 0.79169305 0.79203287 0.7854837  0.77110332\n",
            " 0.79133779 0.82569006 0.8422329  0.82941258 0.82363572 0.85085186\n",
            " 0.86801254 0.86751827 0.86260639 0.89095009 0.88559028 0.88200677\n",
            " 0.89403933 0.90889853 0.89810167 0.90713767 0.90349238 0.89414745\n",
            " 0.8742219  0.84790164 0.85655149 0.87635347 0.87530313 0.87171962\n",
            " 0.86229746 0.8796435  0.86815156 0.87939636 0.87714122 0.87244559\n",
            " 0.85670595 0.84711388 0.83608532 0.83121978 0.83569917 0.80066727\n",
            " 0.80738635 0.79746992 0.8120511  0.78084985 0.79008665 0.8154647\n",
            " 0.8317604  0.82885652 0.81598987 0.81565005 0.82924267 0.83542114\n",
            " 0.83140514 0.83393831 0.84750004 0.84839592 0.82477873 0.82901098\n",
            " 0.85355493 0.85755549 0.85091364 0.83353671 0.83413911 0.86248282\n",
            " 0.86844503 0.86447537 0.8873048  0.89527502 0.8973448  0.91153983\n",
            " 0.91305355 0.88966806 0.8456465  0.88114178 0.87378941 0.86348682\n",
            " 0.85815789 0.85020312 0.84733013 0.8446425  0.8542809  0.85184041\n",
            " 0.84910644 0.82451615 0.81314731 0.81186348]\n",
            "2 day output [[0.81434846]]\n",
            "3 day input [0.75088429 0.75505476 0.74686829 0.74665204 0.75100786 0.73984029\n",
            " 0.7561051  0.76351925 0.7705627  0.75794319 0.77411532 0.78531379\n",
            " 0.78549914 0.79169305 0.79203287 0.7854837  0.77110332 0.79133779\n",
            " 0.82569006 0.8422329  0.82941258 0.82363572 0.85085186 0.86801254\n",
            " 0.86751827 0.86260639 0.89095009 0.88559028 0.88200677 0.89403933\n",
            " 0.90889853 0.89810167 0.90713767 0.90349238 0.89414745 0.8742219\n",
            " 0.84790164 0.85655149 0.87635347 0.87530313 0.87171962 0.86229746\n",
            " 0.8796435  0.86815156 0.87939636 0.87714122 0.87244559 0.85670595\n",
            " 0.84711388 0.83608532 0.83121978 0.83569917 0.80066727 0.80738635\n",
            " 0.79746992 0.8120511  0.78084985 0.79008665 0.8154647  0.8317604\n",
            " 0.82885652 0.81598987 0.81565005 0.82924267 0.83542114 0.83140514\n",
            " 0.83393831 0.84750004 0.84839592 0.82477873 0.82901098 0.85355493\n",
            " 0.85755549 0.85091364 0.83353671 0.83413911 0.86248282 0.86844503\n",
            " 0.86447537 0.8873048  0.89527502 0.8973448  0.91153983 0.91305355\n",
            " 0.88966806 0.8456465  0.88114178 0.87378941 0.86348682 0.85815789\n",
            " 0.85020312 0.84733013 0.8446425  0.8542809  0.85184041 0.84910644\n",
            " 0.82451615 0.81314731 0.81186348 0.81434846]\n",
            "3 day output [[0.8163917]]\n",
            "4 day input [0.75505476 0.74686829 0.74665204 0.75100786 0.73984029 0.7561051\n",
            " 0.76351925 0.7705627  0.75794319 0.77411532 0.78531379 0.78549914\n",
            " 0.79169305 0.79203287 0.7854837  0.77110332 0.79133779 0.82569006\n",
            " 0.8422329  0.82941258 0.82363572 0.85085186 0.86801254 0.86751827\n",
            " 0.86260639 0.89095009 0.88559028 0.88200677 0.89403933 0.90889853\n",
            " 0.89810167 0.90713767 0.90349238 0.89414745 0.8742219  0.84790164\n",
            " 0.85655149 0.87635347 0.87530313 0.87171962 0.86229746 0.8796435\n",
            " 0.86815156 0.87939636 0.87714122 0.87244559 0.85670595 0.84711388\n",
            " 0.83608532 0.83121978 0.83569917 0.80066727 0.80738635 0.79746992\n",
            " 0.8120511  0.78084985 0.79008665 0.8154647  0.8317604  0.82885652\n",
            " 0.81598987 0.81565005 0.82924267 0.83542114 0.83140514 0.83393831\n",
            " 0.84750004 0.84839592 0.82477873 0.82901098 0.85355493 0.85755549\n",
            " 0.85091364 0.83353671 0.83413911 0.86248282 0.86844503 0.86447537\n",
            " 0.8873048  0.89527502 0.8973448  0.91153983 0.91305355 0.88966806\n",
            " 0.8456465  0.88114178 0.87378941 0.86348682 0.85815789 0.85020312\n",
            " 0.84733013 0.8446425  0.8542809  0.85184041 0.84910644 0.82451615\n",
            " 0.81314731 0.81186348 0.81434846 0.81639171]\n",
            "4 day output [[0.8169835]]\n",
            "5 day input [0.74686829 0.74665204 0.75100786 0.73984029 0.7561051  0.76351925\n",
            " 0.7705627  0.75794319 0.77411532 0.78531379 0.78549914 0.79169305\n",
            " 0.79203287 0.7854837  0.77110332 0.79133779 0.82569006 0.8422329\n",
            " 0.82941258 0.82363572 0.85085186 0.86801254 0.86751827 0.86260639\n",
            " 0.89095009 0.88559028 0.88200677 0.89403933 0.90889853 0.89810167\n",
            " 0.90713767 0.90349238 0.89414745 0.8742219  0.84790164 0.85655149\n",
            " 0.87635347 0.87530313 0.87171962 0.86229746 0.8796435  0.86815156\n",
            " 0.87939636 0.87714122 0.87244559 0.85670595 0.84711388 0.83608532\n",
            " 0.83121978 0.83569917 0.80066727 0.80738635 0.79746992 0.8120511\n",
            " 0.78084985 0.79008665 0.8154647  0.8317604  0.82885652 0.81598987\n",
            " 0.81565005 0.82924267 0.83542114 0.83140514 0.83393831 0.84750004\n",
            " 0.84839592 0.82477873 0.82901098 0.85355493 0.85755549 0.85091364\n",
            " 0.83353671 0.83413911 0.86248282 0.86844503 0.86447537 0.8873048\n",
            " 0.89527502 0.8973448  0.91153983 0.91305355 0.88966806 0.8456465\n",
            " 0.88114178 0.87378941 0.86348682 0.85815789 0.85020312 0.84733013\n",
            " 0.8446425  0.8542809  0.85184041 0.84910644 0.82451615 0.81314731\n",
            " 0.81186348 0.81434846 0.81639171 0.81698352]\n",
            "5 day output [[0.81658036]]\n",
            "6 day input [0.74665204 0.75100786 0.73984029 0.7561051  0.76351925 0.7705627\n",
            " 0.75794319 0.77411532 0.78531379 0.78549914 0.79169305 0.79203287\n",
            " 0.7854837  0.77110332 0.79133779 0.82569006 0.8422329  0.82941258\n",
            " 0.82363572 0.85085186 0.86801254 0.86751827 0.86260639 0.89095009\n",
            " 0.88559028 0.88200677 0.89403933 0.90889853 0.89810167 0.90713767\n",
            " 0.90349238 0.89414745 0.8742219  0.84790164 0.85655149 0.87635347\n",
            " 0.87530313 0.87171962 0.86229746 0.8796435  0.86815156 0.87939636\n",
            " 0.87714122 0.87244559 0.85670595 0.84711388 0.83608532 0.83121978\n",
            " 0.83569917 0.80066727 0.80738635 0.79746992 0.8120511  0.78084985\n",
            " 0.79008665 0.8154647  0.8317604  0.82885652 0.81598987 0.81565005\n",
            " 0.82924267 0.83542114 0.83140514 0.83393831 0.84750004 0.84839592\n",
            " 0.82477873 0.82901098 0.85355493 0.85755549 0.85091364 0.83353671\n",
            " 0.83413911 0.86248282 0.86844503 0.86447537 0.8873048  0.89527502\n",
            " 0.8973448  0.91153983 0.91305355 0.88966806 0.8456465  0.88114178\n",
            " 0.87378941 0.86348682 0.85815789 0.85020312 0.84733013 0.8446425\n",
            " 0.8542809  0.85184041 0.84910644 0.82451615 0.81314731 0.81186348\n",
            " 0.81434846 0.81639171 0.81698352 0.81658036]\n",
            "6 day output [[0.8158606]]\n",
            "7 day input [0.75100786 0.73984029 0.7561051  0.76351925 0.7705627  0.75794319\n",
            " 0.77411532 0.78531379 0.78549914 0.79169305 0.79203287 0.7854837\n",
            " 0.77110332 0.79133779 0.82569006 0.8422329  0.82941258 0.82363572\n",
            " 0.85085186 0.86801254 0.86751827 0.86260639 0.89095009 0.88559028\n",
            " 0.88200677 0.89403933 0.90889853 0.89810167 0.90713767 0.90349238\n",
            " 0.89414745 0.8742219  0.84790164 0.85655149 0.87635347 0.87530313\n",
            " 0.87171962 0.86229746 0.8796435  0.86815156 0.87939636 0.87714122\n",
            " 0.87244559 0.85670595 0.84711388 0.83608532 0.83121978 0.83569917\n",
            " 0.80066727 0.80738635 0.79746992 0.8120511  0.78084985 0.79008665\n",
            " 0.8154647  0.8317604  0.82885652 0.81598987 0.81565005 0.82924267\n",
            " 0.83542114 0.83140514 0.83393831 0.84750004 0.84839592 0.82477873\n",
            " 0.82901098 0.85355493 0.85755549 0.85091364 0.83353671 0.83413911\n",
            " 0.86248282 0.86844503 0.86447537 0.8873048  0.89527502 0.8973448\n",
            " 0.91153983 0.91305355 0.88966806 0.8456465  0.88114178 0.87378941\n",
            " 0.86348682 0.85815789 0.85020312 0.84733013 0.8446425  0.8542809\n",
            " 0.85184041 0.84910644 0.82451615 0.81314731 0.81186348 0.81434846\n",
            " 0.81639171 0.81698352 0.81658036 0.81586063]\n",
            "7 day output [[0.8152756]]\n",
            "8 day input [0.73984029 0.7561051  0.76351925 0.7705627  0.75794319 0.77411532\n",
            " 0.78531379 0.78549914 0.79169305 0.79203287 0.7854837  0.77110332\n",
            " 0.79133779 0.82569006 0.8422329  0.82941258 0.82363572 0.85085186\n",
            " 0.86801254 0.86751827 0.86260639 0.89095009 0.88559028 0.88200677\n",
            " 0.89403933 0.90889853 0.89810167 0.90713767 0.90349238 0.89414745\n",
            " 0.8742219  0.84790164 0.85655149 0.87635347 0.87530313 0.87171962\n",
            " 0.86229746 0.8796435  0.86815156 0.87939636 0.87714122 0.87244559\n",
            " 0.85670595 0.84711388 0.83608532 0.83121978 0.83569917 0.80066727\n",
            " 0.80738635 0.79746992 0.8120511  0.78084985 0.79008665 0.8154647\n",
            " 0.8317604  0.82885652 0.81598987 0.81565005 0.82924267 0.83542114\n",
            " 0.83140514 0.83393831 0.84750004 0.84839592 0.82477873 0.82901098\n",
            " 0.85355493 0.85755549 0.85091364 0.83353671 0.83413911 0.86248282\n",
            " 0.86844503 0.86447537 0.8873048  0.89527502 0.8973448  0.91153983\n",
            " 0.91305355 0.88966806 0.8456465  0.88114178 0.87378941 0.86348682\n",
            " 0.85815789 0.85020312 0.84733013 0.8446425  0.8542809  0.85184041\n",
            " 0.84910644 0.82451615 0.81314731 0.81186348 0.81434846 0.81639171\n",
            " 0.81698352 0.81658036 0.81586063 0.81527561]\n",
            "8 day output [[0.81499213]]\n",
            "9 day input [0.7561051  0.76351925 0.7705627  0.75794319 0.77411532 0.78531379\n",
            " 0.78549914 0.79169305 0.79203287 0.7854837  0.77110332 0.79133779\n",
            " 0.82569006 0.8422329  0.82941258 0.82363572 0.85085186 0.86801254\n",
            " 0.86751827 0.86260639 0.89095009 0.88559028 0.88200677 0.89403933\n",
            " 0.90889853 0.89810167 0.90713767 0.90349238 0.89414745 0.8742219\n",
            " 0.84790164 0.85655149 0.87635347 0.87530313 0.87171962 0.86229746\n",
            " 0.8796435  0.86815156 0.87939636 0.87714122 0.87244559 0.85670595\n",
            " 0.84711388 0.83608532 0.83121978 0.83569917 0.80066727 0.80738635\n",
            " 0.79746992 0.8120511  0.78084985 0.79008665 0.8154647  0.8317604\n",
            " 0.82885652 0.81598987 0.81565005 0.82924267 0.83542114 0.83140514\n",
            " 0.83393831 0.84750004 0.84839592 0.82477873 0.82901098 0.85355493\n",
            " 0.85755549 0.85091364 0.83353671 0.83413911 0.86248282 0.86844503\n",
            " 0.86447537 0.8873048  0.89527502 0.8973448  0.91153983 0.91305355\n",
            " 0.88966806 0.8456465  0.88114178 0.87378941 0.86348682 0.85815789\n",
            " 0.85020312 0.84733013 0.8446425  0.8542809  0.85184041 0.84910644\n",
            " 0.82451615 0.81314731 0.81186348 0.81434846 0.81639171 0.81698352\n",
            " 0.81658036 0.81586063 0.81527561 0.81499213]\n"
          ]
        },
        {
          "name": "stdout",
          "output_type": "stream",
          "text": [
            "9 day output [[0.8149861]]\n",
            "10 day input [0.76351925 0.7705627  0.75794319 0.77411532 0.78531379 0.78549914\n",
            " 0.79169305 0.79203287 0.7854837  0.77110332 0.79133779 0.82569006\n",
            " 0.8422329  0.82941258 0.82363572 0.85085186 0.86801254 0.86751827\n",
            " 0.86260639 0.89095009 0.88559028 0.88200677 0.89403933 0.90889853\n",
            " 0.89810167 0.90713767 0.90349238 0.89414745 0.8742219  0.84790164\n",
            " 0.85655149 0.87635347 0.87530313 0.87171962 0.86229746 0.8796435\n",
            " 0.86815156 0.87939636 0.87714122 0.87244559 0.85670595 0.84711388\n",
            " 0.83608532 0.83121978 0.83569917 0.80066727 0.80738635 0.79746992\n",
            " 0.8120511  0.78084985 0.79008665 0.8154647  0.8317604  0.82885652\n",
            " 0.81598987 0.81565005 0.82924267 0.83542114 0.83140514 0.83393831\n",
            " 0.84750004 0.84839592 0.82477873 0.82901098 0.85355493 0.85755549\n",
            " 0.85091364 0.83353671 0.83413911 0.86248282 0.86844503 0.86447537\n",
            " 0.8873048  0.89527502 0.8973448  0.91153983 0.91305355 0.88966806\n",
            " 0.8456465  0.88114178 0.87378941 0.86348682 0.85815789 0.85020312\n",
            " 0.84733013 0.8446425  0.8542809  0.85184041 0.84910644 0.82451615\n",
            " 0.81314731 0.81186348 0.81434846 0.81639171 0.81698352 0.81658036\n",
            " 0.81586063 0.81527561 0.81499213 0.81498611]\n",
            "10 day output [[0.8151534]]\n",
            "11 day input [0.7705627  0.75794319 0.77411532 0.78531379 0.78549914 0.79169305\n",
            " 0.79203287 0.7854837  0.77110332 0.79133779 0.82569006 0.8422329\n",
            " 0.82941258 0.82363572 0.85085186 0.86801254 0.86751827 0.86260639\n",
            " 0.89095009 0.88559028 0.88200677 0.89403933 0.90889853 0.89810167\n",
            " 0.90713767 0.90349238 0.89414745 0.8742219  0.84790164 0.85655149\n",
            " 0.87635347 0.87530313 0.87171962 0.86229746 0.8796435  0.86815156\n",
            " 0.87939636 0.87714122 0.87244559 0.85670595 0.84711388 0.83608532\n",
            " 0.83121978 0.83569917 0.80066727 0.80738635 0.79746992 0.8120511\n",
            " 0.78084985 0.79008665 0.8154647  0.8317604  0.82885652 0.81598987\n",
            " 0.81565005 0.82924267 0.83542114 0.83140514 0.83393831 0.84750004\n",
            " 0.84839592 0.82477873 0.82901098 0.85355493 0.85755549 0.85091364\n",
            " 0.83353671 0.83413911 0.86248282 0.86844503 0.86447537 0.8873048\n",
            " 0.89527502 0.8973448  0.91153983 0.91305355 0.88966806 0.8456465\n",
            " 0.88114178 0.87378941 0.86348682 0.85815789 0.85020312 0.84733013\n",
            " 0.8446425  0.8542809  0.85184041 0.84910644 0.82451615 0.81314731\n",
            " 0.81186348 0.81434846 0.81639171 0.81698352 0.81658036 0.81586063\n",
            " 0.81527561 0.81499213 0.81498611 0.81515342]\n",
            "11 day output [[0.8153814]]\n",
            "12 day input [0.75794319 0.77411532 0.78531379 0.78549914 0.79169305 0.79203287\n",
            " 0.7854837  0.77110332 0.79133779 0.82569006 0.8422329  0.82941258\n",
            " 0.82363572 0.85085186 0.86801254 0.86751827 0.86260639 0.89095009\n",
            " 0.88559028 0.88200677 0.89403933 0.90889853 0.89810167 0.90713767\n",
            " 0.90349238 0.89414745 0.8742219  0.84790164 0.85655149 0.87635347\n",
            " 0.87530313 0.87171962 0.86229746 0.8796435  0.86815156 0.87939636\n",
            " 0.87714122 0.87244559 0.85670595 0.84711388 0.83608532 0.83121978\n",
            " 0.83569917 0.80066727 0.80738635 0.79746992 0.8120511  0.78084985\n",
            " 0.79008665 0.8154647  0.8317604  0.82885652 0.81598987 0.81565005\n",
            " 0.82924267 0.83542114 0.83140514 0.83393831 0.84750004 0.84839592\n",
            " 0.82477873 0.82901098 0.85355493 0.85755549 0.85091364 0.83353671\n",
            " 0.83413911 0.86248282 0.86844503 0.86447537 0.8873048  0.89527502\n",
            " 0.8973448  0.91153983 0.91305355 0.88966806 0.8456465  0.88114178\n",
            " 0.87378941 0.86348682 0.85815789 0.85020312 0.84733013 0.8446425\n",
            " 0.8542809  0.85184041 0.84910644 0.82451615 0.81314731 0.81186348\n",
            " 0.81434846 0.81639171 0.81698352 0.81658036 0.81586063 0.81527561\n",
            " 0.81499213 0.81498611 0.81515342 0.81538141]\n",
            "12 day output [[0.81558156]]\n",
            "13 day input [0.77411532 0.78531379 0.78549914 0.79169305 0.79203287 0.7854837\n",
            " 0.77110332 0.79133779 0.82569006 0.8422329  0.82941258 0.82363572\n",
            " 0.85085186 0.86801254 0.86751827 0.86260639 0.89095009 0.88559028\n",
            " 0.88200677 0.89403933 0.90889853 0.89810167 0.90713767 0.90349238\n",
            " 0.89414745 0.8742219  0.84790164 0.85655149 0.87635347 0.87530313\n",
            " 0.87171962 0.86229746 0.8796435  0.86815156 0.87939636 0.87714122\n",
            " 0.87244559 0.85670595 0.84711388 0.83608532 0.83121978 0.83569917\n",
            " 0.80066727 0.80738635 0.79746992 0.8120511  0.78084985 0.79008665\n",
            " 0.8154647  0.8317604  0.82885652 0.81598987 0.81565005 0.82924267\n",
            " 0.83542114 0.83140514 0.83393831 0.84750004 0.84839592 0.82477873\n",
            " 0.82901098 0.85355493 0.85755549 0.85091364 0.83353671 0.83413911\n",
            " 0.86248282 0.86844503 0.86447537 0.8873048  0.89527502 0.8973448\n",
            " 0.91153983 0.91305355 0.88966806 0.8456465  0.88114178 0.87378941\n",
            " 0.86348682 0.85815789 0.85020312 0.84733013 0.8446425  0.8542809\n",
            " 0.85184041 0.84910644 0.82451615 0.81314731 0.81186348 0.81434846\n",
            " 0.81639171 0.81698352 0.81658036 0.81586063 0.81527561 0.81499213\n",
            " 0.81498611 0.81515342 0.81538141 0.81558156]\n",
            "13 day output [[0.815697]]\n",
            "14 day input [0.78531379 0.78549914 0.79169305 0.79203287 0.7854837  0.77110332\n",
            " 0.79133779 0.82569006 0.8422329  0.82941258 0.82363572 0.85085186\n",
            " 0.86801254 0.86751827 0.86260639 0.89095009 0.88559028 0.88200677\n",
            " 0.89403933 0.90889853 0.89810167 0.90713767 0.90349238 0.89414745\n",
            " 0.8742219  0.84790164 0.85655149 0.87635347 0.87530313 0.87171962\n",
            " 0.86229746 0.8796435  0.86815156 0.87939636 0.87714122 0.87244559\n",
            " 0.85670595 0.84711388 0.83608532 0.83121978 0.83569917 0.80066727\n",
            " 0.80738635 0.79746992 0.8120511  0.78084985 0.79008665 0.8154647\n",
            " 0.8317604  0.82885652 0.81598987 0.81565005 0.82924267 0.83542114\n",
            " 0.83140514 0.83393831 0.84750004 0.84839592 0.82477873 0.82901098\n",
            " 0.85355493 0.85755549 0.85091364 0.83353671 0.83413911 0.86248282\n",
            " 0.86844503 0.86447537 0.8873048  0.89527502 0.8973448  0.91153983\n",
            " 0.91305355 0.88966806 0.8456465  0.88114178 0.87378941 0.86348682\n",
            " 0.85815789 0.85020312 0.84733013 0.8446425  0.8542809  0.85184041\n",
            " 0.84910644 0.82451615 0.81314731 0.81186348 0.81434846 0.81639171\n",
            " 0.81698352 0.81658036 0.81586063 0.81527561 0.81499213 0.81498611\n",
            " 0.81515342 0.81538141 0.81558156 0.81569701]\n",
            "14 day output [[0.815694]]\n",
            "15 day input [0.78549914 0.79169305 0.79203287 0.7854837  0.77110332 0.79133779\n",
            " 0.82569006 0.8422329  0.82941258 0.82363572 0.85085186 0.86801254\n",
            " 0.86751827 0.86260639 0.89095009 0.88559028 0.88200677 0.89403933\n",
            " 0.90889853 0.89810167 0.90713767 0.90349238 0.89414745 0.8742219\n",
            " 0.84790164 0.85655149 0.87635347 0.87530313 0.87171962 0.86229746\n",
            " 0.8796435  0.86815156 0.87939636 0.87714122 0.87244559 0.85670595\n",
            " 0.84711388 0.83608532 0.83121978 0.83569917 0.80066727 0.80738635\n",
            " 0.79746992 0.8120511  0.78084985 0.79008665 0.8154647  0.8317604\n",
            " 0.82885652 0.81598987 0.81565005 0.82924267 0.83542114 0.83140514\n",
            " 0.83393831 0.84750004 0.84839592 0.82477873 0.82901098 0.85355493\n",
            " 0.85755549 0.85091364 0.83353671 0.83413911 0.86248282 0.86844503\n",
            " 0.86447537 0.8873048  0.89527502 0.8973448  0.91153983 0.91305355\n",
            " 0.88966806 0.8456465  0.88114178 0.87378941 0.86348682 0.85815789\n",
            " 0.85020312 0.84733013 0.8446425  0.8542809  0.85184041 0.84910644\n",
            " 0.82451615 0.81314731 0.81186348 0.81434846 0.81639171 0.81698352\n",
            " 0.81658036 0.81586063 0.81527561 0.81499213 0.81498611 0.81515342\n",
            " 0.81538141 0.81558156 0.81569701 0.81569397]\n",
            "15 day output [[0.81555533]]\n",
            "16 day input [0.79169305 0.79203287 0.7854837  0.77110332 0.79133779 0.82569006\n",
            " 0.8422329  0.82941258 0.82363572 0.85085186 0.86801254 0.86751827\n",
            " 0.86260639 0.89095009 0.88559028 0.88200677 0.89403933 0.90889853\n",
            " 0.89810167 0.90713767 0.90349238 0.89414745 0.8742219  0.84790164\n",
            " 0.85655149 0.87635347 0.87530313 0.87171962 0.86229746 0.8796435\n",
            " 0.86815156 0.87939636 0.87714122 0.87244559 0.85670595 0.84711388\n",
            " 0.83608532 0.83121978 0.83569917 0.80066727 0.80738635 0.79746992\n",
            " 0.8120511  0.78084985 0.79008665 0.8154647  0.8317604  0.82885652\n",
            " 0.81598987 0.81565005 0.82924267 0.83542114 0.83140514 0.83393831\n",
            " 0.84750004 0.84839592 0.82477873 0.82901098 0.85355493 0.85755549\n",
            " 0.85091364 0.83353671 0.83413911 0.86248282 0.86844503 0.86447537\n",
            " 0.8873048  0.89527502 0.8973448  0.91153983 0.91305355 0.88966806\n",
            " 0.8456465  0.88114178 0.87378941 0.86348682 0.85815789 0.85020312\n",
            " 0.84733013 0.8446425  0.8542809  0.85184041 0.84910644 0.82451615\n",
            " 0.81314731 0.81186348 0.81434846 0.81639171 0.81698352 0.81658036\n",
            " 0.81586063 0.81527561 0.81499213 0.81498611 0.81515342 0.81538141\n",
            " 0.81558156 0.81569701 0.81569397 0.81555533]\n",
            "16 day output [[0.81527495]]\n",
            "17 day input [0.79203287 0.7854837  0.77110332 0.79133779 0.82569006 0.8422329\n",
            " 0.82941258 0.82363572 0.85085186 0.86801254 0.86751827 0.86260639\n",
            " 0.89095009 0.88559028 0.88200677 0.89403933 0.90889853 0.89810167\n",
            " 0.90713767 0.90349238 0.89414745 0.8742219  0.84790164 0.85655149\n",
            " 0.87635347 0.87530313 0.87171962 0.86229746 0.8796435  0.86815156\n",
            " 0.87939636 0.87714122 0.87244559 0.85670595 0.84711388 0.83608532\n",
            " 0.83121978 0.83569917 0.80066727 0.80738635 0.79746992 0.8120511\n",
            " 0.78084985 0.79008665 0.8154647  0.8317604  0.82885652 0.81598987\n",
            " 0.81565005 0.82924267 0.83542114 0.83140514 0.83393831 0.84750004\n",
            " 0.84839592 0.82477873 0.82901098 0.85355493 0.85755549 0.85091364\n",
            " 0.83353671 0.83413911 0.86248282 0.86844503 0.86447537 0.8873048\n",
            " 0.89527502 0.8973448  0.91153983 0.91305355 0.88966806 0.8456465\n",
            " 0.88114178 0.87378941 0.86348682 0.85815789 0.85020312 0.84733013\n",
            " 0.8446425  0.8542809  0.85184041 0.84910644 0.82451615 0.81314731\n",
            " 0.81186348 0.81434846 0.81639171 0.81698352 0.81658036 0.81586063\n",
            " 0.81527561 0.81499213 0.81498611 0.81515342 0.81538141 0.81558156\n",
            " 0.81569701 0.81569397 0.81555533 0.81527495]\n",
            "17 day output [[0.81485224]]\n",
            "18 day input [0.7854837  0.77110332 0.79133779 0.82569006 0.8422329  0.82941258\n",
            " 0.82363572 0.85085186 0.86801254 0.86751827 0.86260639 0.89095009\n",
            " 0.88559028 0.88200677 0.89403933 0.90889853 0.89810167 0.90713767\n",
            " 0.90349238 0.89414745 0.8742219  0.84790164 0.85655149 0.87635347\n",
            " 0.87530313 0.87171962 0.86229746 0.8796435  0.86815156 0.87939636\n",
            " 0.87714122 0.87244559 0.85670595 0.84711388 0.83608532 0.83121978\n",
            " 0.83569917 0.80066727 0.80738635 0.79746992 0.8120511  0.78084985\n",
            " 0.79008665 0.8154647  0.8317604  0.82885652 0.81598987 0.81565005\n",
            " 0.82924267 0.83542114 0.83140514 0.83393831 0.84750004 0.84839592\n",
            " 0.82477873 0.82901098 0.85355493 0.85755549 0.85091364 0.83353671\n",
            " 0.83413911 0.86248282 0.86844503 0.86447537 0.8873048  0.89527502\n",
            " 0.8973448  0.91153983 0.91305355 0.88966806 0.8456465  0.88114178\n",
            " 0.87378941 0.86348682 0.85815789 0.85020312 0.84733013 0.8446425\n",
            " 0.8542809  0.85184041 0.84910644 0.82451615 0.81314731 0.81186348\n",
            " 0.81434846 0.81639171 0.81698352 0.81658036 0.81586063 0.81527561\n",
            " 0.81499213 0.81498611 0.81515342 0.81538141 0.81558156 0.81569701\n",
            " 0.81569397 0.81555533 0.81527495 0.81485224]\n",
            "18 day output [[0.814292]]\n",
            "19 day input [0.77110332 0.79133779 0.82569006 0.8422329  0.82941258 0.82363572\n",
            " 0.85085186 0.86801254 0.86751827 0.86260639 0.89095009 0.88559028\n",
            " 0.88200677 0.89403933 0.90889853 0.89810167 0.90713767 0.90349238\n",
            " 0.89414745 0.8742219  0.84790164 0.85655149 0.87635347 0.87530313\n",
            " 0.87171962 0.86229746 0.8796435  0.86815156 0.87939636 0.87714122\n",
            " 0.87244559 0.85670595 0.84711388 0.83608532 0.83121978 0.83569917\n",
            " 0.80066727 0.80738635 0.79746992 0.8120511  0.78084985 0.79008665\n",
            " 0.8154647  0.8317604  0.82885652 0.81598987 0.81565005 0.82924267\n",
            " 0.83542114 0.83140514 0.83393831 0.84750004 0.84839592 0.82477873\n",
            " 0.82901098 0.85355493 0.85755549 0.85091364 0.83353671 0.83413911\n",
            " 0.86248282 0.86844503 0.86447537 0.8873048  0.89527502 0.8973448\n",
            " 0.91153983 0.91305355 0.88966806 0.8456465  0.88114178 0.87378941\n",
            " 0.86348682 0.85815789 0.85020312 0.84733013 0.8446425  0.8542809\n",
            " 0.85184041 0.84910644 0.82451615 0.81314731 0.81186348 0.81434846\n",
            " 0.81639171 0.81698352 0.81658036 0.81586063 0.81527561 0.81499213\n",
            " 0.81498611 0.81515342 0.81538141 0.81558156 0.81569701 0.81569397\n",
            " 0.81555533 0.81527495 0.81485224 0.81429201]\n"
          ]
        },
        {
          "name": "stdout",
          "output_type": "stream",
          "text": [
            "19 day output [[0.8136032]]\n",
            "20 day input [0.79133779 0.82569006 0.8422329  0.82941258 0.82363572 0.85085186\n",
            " 0.86801254 0.86751827 0.86260639 0.89095009 0.88559028 0.88200677\n",
            " 0.89403933 0.90889853 0.89810167 0.90713767 0.90349238 0.89414745\n",
            " 0.8742219  0.84790164 0.85655149 0.87635347 0.87530313 0.87171962\n",
            " 0.86229746 0.8796435  0.86815156 0.87939636 0.87714122 0.87244559\n",
            " 0.85670595 0.84711388 0.83608532 0.83121978 0.83569917 0.80066727\n",
            " 0.80738635 0.79746992 0.8120511  0.78084985 0.79008665 0.8154647\n",
            " 0.8317604  0.82885652 0.81598987 0.81565005 0.82924267 0.83542114\n",
            " 0.83140514 0.83393831 0.84750004 0.84839592 0.82477873 0.82901098\n",
            " 0.85355493 0.85755549 0.85091364 0.83353671 0.83413911 0.86248282\n",
            " 0.86844503 0.86447537 0.8873048  0.89527502 0.8973448  0.91153983\n",
            " 0.91305355 0.88966806 0.8456465  0.88114178 0.87378941 0.86348682\n",
            " 0.85815789 0.85020312 0.84733013 0.8446425  0.8542809  0.85184041\n",
            " 0.84910644 0.82451615 0.81314731 0.81186348 0.81434846 0.81639171\n",
            " 0.81698352 0.81658036 0.81586063 0.81527561 0.81499213 0.81498611\n",
            " 0.81515342 0.81538141 0.81558156 0.81569701 0.81569397 0.81555533\n",
            " 0.81527495 0.81485224 0.81429201 0.81360322]\n",
            "20 day output [[0.81279826]]\n",
            "21 day input [0.82569006 0.8422329  0.82941258 0.82363572 0.85085186 0.86801254\n",
            " 0.86751827 0.86260639 0.89095009 0.88559028 0.88200677 0.89403933\n",
            " 0.90889853 0.89810167 0.90713767 0.90349238 0.89414745 0.8742219\n",
            " 0.84790164 0.85655149 0.87635347 0.87530313 0.87171962 0.86229746\n",
            " 0.8796435  0.86815156 0.87939636 0.87714122 0.87244559 0.85670595\n",
            " 0.84711388 0.83608532 0.83121978 0.83569917 0.80066727 0.80738635\n",
            " 0.79746992 0.8120511  0.78084985 0.79008665 0.8154647  0.8317604\n",
            " 0.82885652 0.81598987 0.81565005 0.82924267 0.83542114 0.83140514\n",
            " 0.83393831 0.84750004 0.84839592 0.82477873 0.82901098 0.85355493\n",
            " 0.85755549 0.85091364 0.83353671 0.83413911 0.86248282 0.86844503\n",
            " 0.86447537 0.8873048  0.89527502 0.8973448  0.91153983 0.91305355\n",
            " 0.88966806 0.8456465  0.88114178 0.87378941 0.86348682 0.85815789\n",
            " 0.85020312 0.84733013 0.8446425  0.8542809  0.85184041 0.84910644\n",
            " 0.82451615 0.81314731 0.81186348 0.81434846 0.81639171 0.81698352\n",
            " 0.81658036 0.81586063 0.81527561 0.81499213 0.81498611 0.81515342\n",
            " 0.81538141 0.81558156 0.81569701 0.81569397 0.81555533 0.81527495\n",
            " 0.81485224 0.81429201 0.81360322 0.81279826]\n",
            "21 day output [[0.8118922]]\n",
            "22 day input [0.8422329  0.82941258 0.82363572 0.85085186 0.86801254 0.86751827\n",
            " 0.86260639 0.89095009 0.88559028 0.88200677 0.89403933 0.90889853\n",
            " 0.89810167 0.90713767 0.90349238 0.89414745 0.8742219  0.84790164\n",
            " 0.85655149 0.87635347 0.87530313 0.87171962 0.86229746 0.8796435\n",
            " 0.86815156 0.87939636 0.87714122 0.87244559 0.85670595 0.84711388\n",
            " 0.83608532 0.83121978 0.83569917 0.80066727 0.80738635 0.79746992\n",
            " 0.8120511  0.78084985 0.79008665 0.8154647  0.8317604  0.82885652\n",
            " 0.81598987 0.81565005 0.82924267 0.83542114 0.83140514 0.83393831\n",
            " 0.84750004 0.84839592 0.82477873 0.82901098 0.85355493 0.85755549\n",
            " 0.85091364 0.83353671 0.83413911 0.86248282 0.86844503 0.86447537\n",
            " 0.8873048  0.89527502 0.8973448  0.91153983 0.91305355 0.88966806\n",
            " 0.8456465  0.88114178 0.87378941 0.86348682 0.85815789 0.85020312\n",
            " 0.84733013 0.8446425  0.8542809  0.85184041 0.84910644 0.82451615\n",
            " 0.81314731 0.81186348 0.81434846 0.81639171 0.81698352 0.81658036\n",
            " 0.81586063 0.81527561 0.81499213 0.81498611 0.81515342 0.81538141\n",
            " 0.81558156 0.81569701 0.81569397 0.81555533 0.81527495 0.81485224\n",
            " 0.81429201 0.81360322 0.81279826 0.81189221]\n",
            "22 day output [[0.81090236]]\n",
            "23 day input [0.82941258 0.82363572 0.85085186 0.86801254 0.86751827 0.86260639\n",
            " 0.89095009 0.88559028 0.88200677 0.89403933 0.90889853 0.89810167\n",
            " 0.90713767 0.90349238 0.89414745 0.8742219  0.84790164 0.85655149\n",
            " 0.87635347 0.87530313 0.87171962 0.86229746 0.8796435  0.86815156\n",
            " 0.87939636 0.87714122 0.87244559 0.85670595 0.84711388 0.83608532\n",
            " 0.83121978 0.83569917 0.80066727 0.80738635 0.79746992 0.8120511\n",
            " 0.78084985 0.79008665 0.8154647  0.8317604  0.82885652 0.81598987\n",
            " 0.81565005 0.82924267 0.83542114 0.83140514 0.83393831 0.84750004\n",
            " 0.84839592 0.82477873 0.82901098 0.85355493 0.85755549 0.85091364\n",
            " 0.83353671 0.83413911 0.86248282 0.86844503 0.86447537 0.8873048\n",
            " 0.89527502 0.8973448  0.91153983 0.91305355 0.88966806 0.8456465\n",
            " 0.88114178 0.87378941 0.86348682 0.85815789 0.85020312 0.84733013\n",
            " 0.8446425  0.8542809  0.85184041 0.84910644 0.82451615 0.81314731\n",
            " 0.81186348 0.81434846 0.81639171 0.81698352 0.81658036 0.81586063\n",
            " 0.81527561 0.81499213 0.81498611 0.81515342 0.81538141 0.81558156\n",
            " 0.81569701 0.81569397 0.81555533 0.81527495 0.81485224 0.81429201\n",
            " 0.81360322 0.81279826 0.81189221 0.81090236]\n",
            "23 day output [[0.8098469]]\n",
            "24 day input [0.82363572 0.85085186 0.86801254 0.86751827 0.86260639 0.89095009\n",
            " 0.88559028 0.88200677 0.89403933 0.90889853 0.89810167 0.90713767\n",
            " 0.90349238 0.89414745 0.8742219  0.84790164 0.85655149 0.87635347\n",
            " 0.87530313 0.87171962 0.86229746 0.8796435  0.86815156 0.87939636\n",
            " 0.87714122 0.87244559 0.85670595 0.84711388 0.83608532 0.83121978\n",
            " 0.83569917 0.80066727 0.80738635 0.79746992 0.8120511  0.78084985\n",
            " 0.79008665 0.8154647  0.8317604  0.82885652 0.81598987 0.81565005\n",
            " 0.82924267 0.83542114 0.83140514 0.83393831 0.84750004 0.84839592\n",
            " 0.82477873 0.82901098 0.85355493 0.85755549 0.85091364 0.83353671\n",
            " 0.83413911 0.86248282 0.86844503 0.86447537 0.8873048  0.89527502\n",
            " 0.8973448  0.91153983 0.91305355 0.88966806 0.8456465  0.88114178\n",
            " 0.87378941 0.86348682 0.85815789 0.85020312 0.84733013 0.8446425\n",
            " 0.8542809  0.85184041 0.84910644 0.82451615 0.81314731 0.81186348\n",
            " 0.81434846 0.81639171 0.81698352 0.81658036 0.81586063 0.81527561\n",
            " 0.81499213 0.81498611 0.81515342 0.81538141 0.81558156 0.81569701\n",
            " 0.81569397 0.81555533 0.81527495 0.81485224 0.81429201 0.81360322\n",
            " 0.81279826 0.81189221 0.81090236 0.80984688]\n",
            "24 day output [[0.8087451]]\n",
            "25 day input [0.85085186 0.86801254 0.86751827 0.86260639 0.89095009 0.88559028\n",
            " 0.88200677 0.89403933 0.90889853 0.89810167 0.90713767 0.90349238\n",
            " 0.89414745 0.8742219  0.84790164 0.85655149 0.87635347 0.87530313\n",
            " 0.87171962 0.86229746 0.8796435  0.86815156 0.87939636 0.87714122\n",
            " 0.87244559 0.85670595 0.84711388 0.83608532 0.83121978 0.83569917\n",
            " 0.80066727 0.80738635 0.79746992 0.8120511  0.78084985 0.79008665\n",
            " 0.8154647  0.8317604  0.82885652 0.81598987 0.81565005 0.82924267\n",
            " 0.83542114 0.83140514 0.83393831 0.84750004 0.84839592 0.82477873\n",
            " 0.82901098 0.85355493 0.85755549 0.85091364 0.83353671 0.83413911\n",
            " 0.86248282 0.86844503 0.86447537 0.8873048  0.89527502 0.8973448\n",
            " 0.91153983 0.91305355 0.88966806 0.8456465  0.88114178 0.87378941\n",
            " 0.86348682 0.85815789 0.85020312 0.84733013 0.8446425  0.8542809\n",
            " 0.85184041 0.84910644 0.82451615 0.81314731 0.81186348 0.81434846\n",
            " 0.81639171 0.81698352 0.81658036 0.81586063 0.81527561 0.81499213\n",
            " 0.81498611 0.81515342 0.81538141 0.81558156 0.81569701 0.81569397\n",
            " 0.81555533 0.81527495 0.81485224 0.81429201 0.81360322 0.81279826\n",
            " 0.81189221 0.81090236 0.80984688 0.80874509]\n",
            "25 day output [[0.8076155]]\n",
            "26 day input [0.86801254 0.86751827 0.86260639 0.89095009 0.88559028 0.88200677\n",
            " 0.89403933 0.90889853 0.89810167 0.90713767 0.90349238 0.89414745\n",
            " 0.8742219  0.84790164 0.85655149 0.87635347 0.87530313 0.87171962\n",
            " 0.86229746 0.8796435  0.86815156 0.87939636 0.87714122 0.87244559\n",
            " 0.85670595 0.84711388 0.83608532 0.83121978 0.83569917 0.80066727\n",
            " 0.80738635 0.79746992 0.8120511  0.78084985 0.79008665 0.8154647\n",
            " 0.8317604  0.82885652 0.81598987 0.81565005 0.82924267 0.83542114\n",
            " 0.83140514 0.83393831 0.84750004 0.84839592 0.82477873 0.82901098\n",
            " 0.85355493 0.85755549 0.85091364 0.83353671 0.83413911 0.86248282\n",
            " 0.86844503 0.86447537 0.8873048  0.89527502 0.8973448  0.91153983\n",
            " 0.91305355 0.88966806 0.8456465  0.88114178 0.87378941 0.86348682\n",
            " 0.85815789 0.85020312 0.84733013 0.8446425  0.8542809  0.85184041\n",
            " 0.84910644 0.82451615 0.81314731 0.81186348 0.81434846 0.81639171\n",
            " 0.81698352 0.81658036 0.81586063 0.81527561 0.81499213 0.81498611\n",
            " 0.81515342 0.81538141 0.81558156 0.81569701 0.81569397 0.81555533\n",
            " 0.81527495 0.81485224 0.81429201 0.81360322 0.81279826 0.81189221\n",
            " 0.81090236 0.80984688 0.80874509 0.80761552]\n",
            "26 day output [[0.8064754]]\n",
            "27 day input [0.86751827 0.86260639 0.89095009 0.88559028 0.88200677 0.89403933\n",
            " 0.90889853 0.89810167 0.90713767 0.90349238 0.89414745 0.8742219\n",
            " 0.84790164 0.85655149 0.87635347 0.87530313 0.87171962 0.86229746\n",
            " 0.8796435  0.86815156 0.87939636 0.87714122 0.87244559 0.85670595\n",
            " 0.84711388 0.83608532 0.83121978 0.83569917 0.80066727 0.80738635\n",
            " 0.79746992 0.8120511  0.78084985 0.79008665 0.8154647  0.8317604\n",
            " 0.82885652 0.81598987 0.81565005 0.82924267 0.83542114 0.83140514\n",
            " 0.83393831 0.84750004 0.84839592 0.82477873 0.82901098 0.85355493\n",
            " 0.85755549 0.85091364 0.83353671 0.83413911 0.86248282 0.86844503\n",
            " 0.86447537 0.8873048  0.89527502 0.8973448  0.91153983 0.91305355\n",
            " 0.88966806 0.8456465  0.88114178 0.87378941 0.86348682 0.85815789\n",
            " 0.85020312 0.84733013 0.8446425  0.8542809  0.85184041 0.84910644\n",
            " 0.82451615 0.81314731 0.81186348 0.81434846 0.81639171 0.81698352\n",
            " 0.81658036 0.81586063 0.81527561 0.81499213 0.81498611 0.81515342\n",
            " 0.81538141 0.81558156 0.81569701 0.81569397 0.81555533 0.81527495\n",
            " 0.81485224 0.81429201 0.81360322 0.81279826 0.81189221 0.81090236\n",
            " 0.80984688 0.80874509 0.80761552 0.8064754 ]\n",
            "27 day output [[0.8053411]]\n",
            "28 day input [0.86260639 0.89095009 0.88559028 0.88200677 0.89403933 0.90889853\n",
            " 0.89810167 0.90713767 0.90349238 0.89414745 0.8742219  0.84790164\n",
            " 0.85655149 0.87635347 0.87530313 0.87171962 0.86229746 0.8796435\n",
            " 0.86815156 0.87939636 0.87714122 0.87244559 0.85670595 0.84711388\n",
            " 0.83608532 0.83121978 0.83569917 0.80066727 0.80738635 0.79746992\n",
            " 0.8120511  0.78084985 0.79008665 0.8154647  0.8317604  0.82885652\n",
            " 0.81598987 0.81565005 0.82924267 0.83542114 0.83140514 0.83393831\n",
            " 0.84750004 0.84839592 0.82477873 0.82901098 0.85355493 0.85755549\n",
            " 0.85091364 0.83353671 0.83413911 0.86248282 0.86844503 0.86447537\n",
            " 0.8873048  0.89527502 0.8973448  0.91153983 0.91305355 0.88966806\n",
            " 0.8456465  0.88114178 0.87378941 0.86348682 0.85815789 0.85020312\n",
            " 0.84733013 0.8446425  0.8542809  0.85184041 0.84910644 0.82451615\n",
            " 0.81314731 0.81186348 0.81434846 0.81639171 0.81698352 0.81658036\n",
            " 0.81586063 0.81527561 0.81499213 0.81498611 0.81515342 0.81538141\n",
            " 0.81558156 0.81569701 0.81569397 0.81555533 0.81527495 0.81485224\n",
            " 0.81429201 0.81360322 0.81279826 0.81189221 0.81090236 0.80984688\n",
            " 0.80874509 0.80761552 0.8064754  0.80534112]\n"
          ]
        },
        {
          "name": "stdout",
          "output_type": "stream",
          "text": [
            "28 day output [[0.80422676]]\n",
            "29 day input [0.89095009 0.88559028 0.88200677 0.89403933 0.90889853 0.89810167\n",
            " 0.90713767 0.90349238 0.89414745 0.8742219  0.84790164 0.85655149\n",
            " 0.87635347 0.87530313 0.87171962 0.86229746 0.8796435  0.86815156\n",
            " 0.87939636 0.87714122 0.87244559 0.85670595 0.84711388 0.83608532\n",
            " 0.83121978 0.83569917 0.80066727 0.80738635 0.79746992 0.8120511\n",
            " 0.78084985 0.79008665 0.8154647  0.8317604  0.82885652 0.81598987\n",
            " 0.81565005 0.82924267 0.83542114 0.83140514 0.83393831 0.84750004\n",
            " 0.84839592 0.82477873 0.82901098 0.85355493 0.85755549 0.85091364\n",
            " 0.83353671 0.83413911 0.86248282 0.86844503 0.86447537 0.8873048\n",
            " 0.89527502 0.8973448  0.91153983 0.91305355 0.88966806 0.8456465\n",
            " 0.88114178 0.87378941 0.86348682 0.85815789 0.85020312 0.84733013\n",
            " 0.8446425  0.8542809  0.85184041 0.84910644 0.82451615 0.81314731\n",
            " 0.81186348 0.81434846 0.81639171 0.81698352 0.81658036 0.81586063\n",
            " 0.81527561 0.81499213 0.81498611 0.81515342 0.81538141 0.81558156\n",
            " 0.81569701 0.81569397 0.81555533 0.81527495 0.81485224 0.81429201\n",
            " 0.81360322 0.81279826 0.81189221 0.81090236 0.80984688 0.80874509\n",
            " 0.80761552 0.8064754  0.80534112 0.80422676]\n",
            "29 day output [[0.80314416]]\n",
            "[[0.8131473064422607], [0.8118634819984436], [0.8143484592437744], [0.8163917064666748], [0.8169835209846497], [0.8165803551673889], [0.8158606290817261], [0.8152756094932556], [0.8149921298027039], [0.8149861097335815], [0.8151534199714661], [0.8153814077377319], [0.8155815601348877], [0.8156970143318176], [0.8156939744949341], [0.8155553340911865], [0.8152749538421631], [0.814852237701416], [0.8142920136451721], [0.8136032223701477], [0.812798261642456], [0.8118922114372253], [0.8109023571014404], [0.8098468780517578], [0.8087450861930847], [0.8076155185699463], [0.8064754009246826], [0.8053411245346069], [0.8042267560958862], [0.8031441569328308]]\n"
          ]
        }
      ],
      "source": [
        "# demonstrate prediction for next 30 days\n",
        "lst_output = []\n",
        "n_steps = 100\n",
        "i = 0\n",
        "while(i < 30):\n",
        "    \n",
        "    if(len(temp_input) > 100):\n",
        "        # print(temp_input)\n",
        "        x_input = np.array(temp_input[1:])\n",
        "        print(\"{} day input {}\".format(i,x_input))\n",
        "        x_input = x_input.reshape(1,-1)\n",
        "        x_input = x_input.reshape((1, n_steps, 1))\n",
        "        # print(x_input)\n",
        "        yhat = model.predict(x_input, verbose = 0)\n",
        "        print(\"{} day output {}\".format(i, yhat))\n",
        "        temp_input.extend(yhat[0].tolist())\n",
        "        temp_input = temp_input[1:]\n",
        "        # print(temp_input)\n",
        "        lst_output.extend(yhat.tolist())\n",
        "        i = i+1\n",
        "    else:\n",
        "        x_input = x_input.reshape((1, n_steps,1))\n",
        "        yhat = model.predict(x_input, verbose = 0)\n",
        "        print(yhat[0])\n",
        "        temp_input.extend(yhat[0].tolist())\n",
        "        print(len(temp_input))\n",
        "        lst_output.extend(yhat.tolist())\n",
        "        i = i+1\n",
        "    \n",
        "print(lst_output)"
      ]
    },
    {
      "cell_type": "code",
      "execution_count": null,
      "metadata": {
        "id": "UfalI-AiqIdM"
      },
      "outputs": [],
      "source": [
        "# creating an instance of ndarray with evenly spaced values\n",
        "day_new = np.arange(1, 101)\n",
        "day_pred = np.arange(101, 131)"
      ]
    },
    {
      "cell_type": "code",
      "execution_count": null,
      "metadata": {
        "id": "_FLFJd9KqIdN",
        "outputId": "a0949311-4179-4256-8123-4fd8ee083ac4"
      },
      "outputs": [
        {
          "name": "stdout",
          "output_type": "stream",
          "text": [
            "4139\n"
          ]
        }
      ],
      "source": [
        "print(len(df_close))"
      ]
    },
    {
      "cell_type": "code",
      "execution_count": null,
      "metadata": {
        "id": "foluVV7xqIdN",
        "outputId": "80c02fe1-d37a-4489-b091-3c06365d772d"
      },
      "outputs": [
        {
          "data": {
            "text/plain": [
              "[<matplotlib.lines.Line2D at 0x289dfe6d30>]"
            ]
          },
          "execution_count": 46,
          "metadata": {},
          "output_type": "execute_result"
        },
        {
          "data": {
            "image/png": "[encoded data removed]",
            "text/plain": [
              "<Figure size 432x288 with 1 Axes>"
            ]
          },
          "metadata": {
            "needs_background": "light"
          },
          "output_type": "display_data"
        }
      ],
      "source": [
        "plt.plot(day_new, scaler.inverse_transform(df_close[4039:]))\n",
        "plt.plot(day_pred, scaler.inverse_transform(lst_output))"
      ]
    },
    {
      "cell_type": "code",
      "execution_count": null,
      "metadata": {
        "id": "sn1CZtirqIdN",
        "outputId": "62821484-237f-47fa-b51e-cba17e1f1b7a"
      },
      "outputs": [
        {
          "data": {
            "text/plain": [
              "[<matplotlib.lines.Line2D at 0x289ddbd0d0>]"
            ]
          },
          "execution_count": 49,
          "metadata": {},
          "output_type": "execute_result"
        },
        {
          "data": {
            "image/png": "[encoded data removed]",
            "text/plain": [
              "<Figure size 432x288 with 1 Axes>"
            ]
          },
          "metadata": {
            "needs_background": "light"
          },
          "output_type": "display_data"
        }
      ],
      "source": [
        "dataset_close = df_close.tolist()\n",
        "dataset_close.extend(lst_output)\n",
        "plt.plot(dataset_close[4059:])"
      ]
    },
    {
      "cell_type": "code",
      "execution_count": null,
      "metadata": {
        "id": "7RfYr5PDqIdO",
        "outputId": "e7b105fe-98e8-4a31-bf89-cf872f61b931"
      },
      "outputs": [
        {
          "data": {
            "text/plain": [
              "[<matplotlib.lines.Line2D at 0x289e055190>]"
            ]
          },
          "execution_count": 51,
          "metadata": {},
          "output_type": "execute_result"
        },
        {
          "data": {
            "image/png": "[encoded data removed]",
            "text/plain": [
              "<Figure size 432x288 with 1 Axes>"
            ]
          },
          "metadata": {
            "needs_background": "light"
          },
          "output_type": "display_data"
        }
      ],
      "source": [
        "dataset_close = scaler.inverse_transform(dataset_close).tolist()\n",
        "plt.plot(dataset_close)"
      ]
    },
    {
      "cell_type": "code",
      "execution_count": null,
      "metadata": {
        "id": "XCo4fcbeqIdO",
        "outputId": "ae00939f-6670-4d66-ff3e-d705e9969a2d"
      },
      "outputs": [
        {
          "name": "stdout",
          "output_type": "stream",
          "text": [
            "Accuracy Score of Train Data: 0.9886779886779887\n",
            "Precision Score of Train Data: 0.782051282051282\n",
            "Recall Score of Train Data: 0.782051282051282\n"
          ]
        }
      ],
      "source": [
        "# calculating performance metrics\n",
        "from sklearn.metrics import accuracy_score\n",
        "from sklearn.metrics import precision_score\n",
        "from sklearn.metrics import recall_score\n",
        "# decide on a cutoff limit\n",
        "cutoff = 0.7  \n",
        "# initialise a matrix full with zeroes\n",
        "train_predict_classes = np.zeros_like(train_predict) \n",
        "# add a 1 if the cutoff was breached\n",
        "train_predict_classes[train_predict > cutoff] = 1 \n",
        "# for the actual values\n",
        "y_train_classes = np.zeros_like(y_train)\n",
        "y_train_classes[y_train > cutoff] = 1\n",
        "# train data\n",
        "print(\"Accuracy Score of Train Data:\", accuracy_score(y_train_classes, train_predict_classes))\n",
        "print(\"Precision Score of Train Data:\", precision_score(y_train_classes, train_predict_classes))\n",
        "print(\"Recall Score of Train Data:\", recall_score(y_train_classes, train_predict_classes))"
      ]
    },
    {
      "cell_type": "code",
      "execution_count": null,
      "metadata": {
        "id": "xp3XJrDdqIdO",
        "outputId": "d218bb99-6105-4008-8ac4-6db6b4fc1dfc"
      },
      "outputs": [
        {
          "name": "stdout",
          "output_type": "stream",
          "text": [
            "Accuracy Score of Test Data: 0.9796573875802997\n",
            "Precision Score of Test Data: 0.9586466165413534\n",
            "Recall Score of Test Data: 0.9695817490494296\n"
          ]
        }
      ],
      "source": [
        "# initialise a matrix full with zeroes\n",
        "test_predict_classes = np.zeros_like(test_predict) \n",
        "# add a 1 if the cutoff was breached\n",
        "test_predict_classes[test_predict > cutoff] = 1 \n",
        "# for the actual values\n",
        "y_test_classes = np.zeros_like(y_test)\n",
        "y_test_classes[y_test > cutoff] = 1\n",
        "# test data\n",
        "print(\"Accuracy Score of Test Data:\", accuracy_score(y_test_classes, test_predict_classes))\n",
        "print(\"Precision Score of Test Data:\", precision_score(y_test_classes, test_predict_classes))\n",
        "print(\"Recall Score of Test Data:\", recall_score(y_test_classes, test_predict_classes))"
      ]
    },
    {
      "cell_type": "code",
      "execution_count": null,
      "metadata": {
        "id": "11QezmxEqIdP"
      },
      "outputs": [],
      "source": [
        ""
      ]
    }
  ],
  "metadata": {
    "kernelspec": {
      "display_name": "Python 3",
      "language": "python",
      "name": "python3"
    },
    "language_info": {
      "codemirror_mode": {
        "name": "ipython",
        "version": 3
      },
      "file_extension": ".py",
      "mimetype": "text/x-python",
      "name": "python",
      "nbconvert_exporter": "python",
      "pygments_lexer": "ipython3",
      "version": "3.8.5"
    },
    "colab": {
      "name": "Stock Price Prediction - LSTM.ipynb",
      "provenance": [],
      "collapsed_sections": []
    }
  },
  "nbformat": 4,
  "nbformat_minor": 0
}