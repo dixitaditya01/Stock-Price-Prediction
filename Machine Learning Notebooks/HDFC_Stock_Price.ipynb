{
  "cells": [
    {
      "cell_type": "code",
      "execution_count": 31,
      "metadata": {
        "id": "deN4GtuuqIc6"
      },
      "outputs": [],
      "source": [
        "# Stock Price Prediction using Recurrent Neural Network  \n",
        "import numpy as np\n",
        "import pandas as pd\n",
        "from keras.models import Sequential\n",
        "from keras.layers import Dense, LSTM\n",
        "import matplotlib.pyplot as plt"
      ]
    },
    {
      "cell_type": "code",
      "execution_count": 32,
      "metadata": {
        "id": "e6P6_aGWqIc8"
      },
      "outputs": [],
      "source": [
        "# Stocks of Tata Consultancy Services (TCS) traded at NSE, Mumbai\n",
        "df = pd.read_csv('/content/HDFCBANK.NS.csv')"
      ]
    },
    {
      "cell_type": "code",
      "execution_count": 33,
      "metadata": {
        "id": "6p9WUsU4qIc9",
        "outputId": "577b1206-8ed7-4fc6-80df-0cff11a66dd7",
        "colab": {
          "base_uri": "https://localhost:8080/",
          "height": 206
        }
      },
      "outputs": [
        {
          "output_type": "execute_result",
          "data": {
            "text/plain": [
              "         Date   Open   High    Low  Close  Adj Close    Volume\n",
              "0  1996-01-01  3.030  3.030  2.925  2.980   0.595425  350000.0\n",
              "1  1996-01-02  2.980  3.025  2.950  2.975   0.594426  412000.0\n",
              "2  1996-01-03  2.975  2.995  2.950  2.985   0.596424  284000.0\n",
              "3  1996-01-04  2.985  2.980  2.940  2.965   0.592428  282000.0\n",
              "4  1996-01-05  2.965  2.980  2.950  2.960   0.591429  189000.0"
            ],
            "text/html": [
              "\n",
              "  <div id=\"df-b91d5af5-d712-40f1-bdcf-d29323ea67be\">\n",
              "    <div class=\"colab-df-container\">\n",
              "      <div>\n",
              "<style scoped>\n",
              "    .dataframe tbody tr th:only-of-type {\n",
              "        vertical-align: middle;\n",
              "    }\n",
              "\n",
              "    .dataframe tbody tr th {\n",
              "        vertical-align: top;\n",
              "    }\n",
              "\n",
              "    .dataframe thead th {\n",
              "        text-align: right;\n",
              "    }\n",
              "</style>\n",
              "<table border=\"1\" class=\"dataframe\">\n",
              "  <thead>\n",
              "    <tr style=\"text-align: right;\">\n",
              "      <th></th>\n",
              "      <th>Date</th>\n",
              "      <th>Open</th>\n",
              "      <th>High</th>\n",
              "      <th>Low</th>\n",
              "      <th>Close</th>\n",
              "      <th>Adj Close</th>\n",
              "      <th>Volume</th>\n",
              "    </tr>\n",
              "  </thead>\n",
              "  <tbody>\n",
              "    <tr>\n",
              "      <th>0</th>\n",
              "      <td>1996-01-01</td>\n",
              "      <td>3.030</td>\n",
              "      <td>3.030</td>\n",
              "      <td>2.925</td>\n",
              "      <td>2.980</td>\n",
              "      <td>0.595425</td>\n",
              "      <td>350000.0</td>\n",
              "    </tr>\n",
              "    <tr>\n",
              "      <th>1</th>\n",
              "      <td>1996-01-02</td>\n",
              "      <td>2.980</td>\n",
              "      <td>3.025</td>\n",
              "      <td>2.950</td>\n",
              "      <td>2.975</td>\n",
              "      <td>0.594426</td>\n",
              "      <td>412000.0</td>\n",
              "    </tr>\n",
              "    <tr>\n",
              "      <th>2</th>\n",
              "      <td>1996-01-03</td>\n",
              "      <td>2.975</td>\n",
              "      <td>2.995</td>\n",
              "      <td>2.950</td>\n",
              "      <td>2.985</td>\n",
              "      <td>0.596424</td>\n",
              "      <td>284000.0</td>\n",
              "    </tr>\n",
              "    <tr>\n",
              "      <th>3</th>\n",
              "      <td>1996-01-04</td>\n",
              "      <td>2.985</td>\n",
              "      <td>2.980</td>\n",
              "      <td>2.940</td>\n",
              "      <td>2.965</td>\n",
              "      <td>0.592428</td>\n",
              "      <td>282000.0</td>\n",
              "    </tr>\n",
              "    <tr>\n",
              "      <th>4</th>\n",
              "      <td>1996-01-05</td>\n",
              "      <td>2.965</td>\n",
              "      <td>2.980</td>\n",
              "      <td>2.950</td>\n",
              "      <td>2.960</td>\n",
              "      <td>0.591429</td>\n",
              "      <td>189000.0</td>\n",
              "    </tr>\n",
              "  </tbody>\n",
              "</table>\n",
              "</div>\n",
              "      <button class=\"colab-df-convert\" onclick=\"convertToInteractive('df-b91d5af5-d712-40f1-bdcf-d29323ea67be')\"\n",
              "              title=\"Convert this dataframe to an interactive table.\"\n",
              "              style=\"display:none;\">\n",
              "        \n",
              "  <svg xmlns=\"http://www.w3.org/2000/svg\" height=\"24px\"viewBox=\"0 0 24 24\"\n",
              "       width=\"24px\">\n",
              "    <path d=\"M0 0h24v24H0V0z\" fill=\"none\"/>\n",
              "    <path d=\"M18.56 5.44l.94 2.06.94-2.06 2.06-.94-2.06-.94-.94-2.06-.94 2.06-2.06.94zm-11 1L8.5 8.5l.94-2.06 2.06-.94-2.06-.94L8.5 2.5l-.94 2.06-2.06.94zm10 10l.94 2.06.94-2.06 2.06-.94-2.06-.94-.94-2.06-.94 2.06-2.06.94z\"/><path d=\"M17.41 7.96l-1.37-1.37c-.4-.4-.92-.59-1.43-.59-.52 0-1.04.2-1.43.59L10.3 9.45l-7.72 7.72c-.78.78-.78 2.05 0 2.83L4 21.41c.39.39.9.59 1.41.59.51 0 1.02-.2 1.41-.59l7.78-7.78 2.81-2.81c.8-.78.8-2.07 0-2.86zM5.41 20L4 18.59l7.72-7.72 1.47 1.35L5.41 20z\"/>\n",
              "  </svg>\n",
              "      </button>\n",
              "      \n",
              "  <style>\n",
              "    .colab-df-container {\n",
              "      display:flex;\n",
              "      flex-wrap:wrap;\n",
              "      gap: 12px;\n",
              "    }\n",
              "\n",
              "    .colab-df-convert {\n",
              "      background-color: #E8F0FE;\n",
              "      border: none;\n",
              "      border-radius: 50%;\n",
              "      cursor: pointer;\n",
              "      display: none;\n",
              "      fill: #1967D2;\n",
              "      height: 32px;\n",
              "      padding: 0 0 0 0;\n",
              "      width: 32px;\n",
              "    }\n",
              "\n",
              "    .colab-df-convert:hover {\n",
              "      background-color: #E2EBFA;\n",
              "      box-shadow: 0px 1px 2px rgba(60, 64, 67, 0.3), 0px 1px 3px 1px rgba(60, 64, 67, 0.15);\n",
              "      fill: #174EA6;\n",
              "    }\n",
              "\n",
              "    [theme=dark] .colab-df-convert {\n",
              "      background-color: #3B4455;\n",
              "      fill: #D2E3FC;\n",
              "    }\n",
              "\n",
              "    [theme=dark] .colab-df-convert:hover {\n",
              "      background-color: #434B5C;\n",
              "      box-shadow: 0px 1px 3px 1px rgba(0, 0, 0, 0.15);\n",
              "      filter: drop-shadow(0px 1px 2px rgba(0, 0, 0, 0.3));\n",
              "      fill: #FFFFFF;\n",
              "    }\n",
              "  </style>\n",
              "\n",
              "      <script>\n",
              "        const buttonEl =\n",
              "          document.querySelector('#df-b91d5af5-d712-40f1-bdcf-d29323ea67be button.colab-df-convert');\n",
              "        buttonEl.style.display =\n",
              "          google.colab.kernel.accessAllowed ? 'block' : 'none';\n",
              "\n",
              "        async function convertToInteractive(key) {\n",
              "          const element = document.querySelector('#df-b91d5af5-d712-40f1-bdcf-d29323ea67be');\n",
              "          const dataTable =\n",
              "            await google.colab.kernel.invokeFunction('convertToInteractive',\n",
              "                                                     [key], {});\n",
              "          if (!dataTable) return;\n",
              "\n",
              "          const docLinkHtml = 'Like what you see? Visit the ' +\n",
              "            '<a target=\"_blank\" href=https://colab.research.google.com/notebooks/data_table.ipynb>data table notebook</a>'\n",
              "            + ' to learn more about interactive tables.';\n",
              "          element.innerHTML = '';\n",
              "          dataTable['output_type'] = 'display_data';\n",
              "          await google.colab.output.renderOutput(dataTable, element);\n",
              "          const docLink = document.createElement('div');\n",
              "          docLink.innerHTML = docLinkHtml;\n",
              "          element.appendChild(docLink);\n",
              "        }\n",
              "      </script>\n",
              "    </div>\n",
              "  </div>\n",
              "  "
            ]
          },
          "metadata": {},
          "execution_count": 33
        }
      ],
      "source": [
        "df.head()"
      ]
    },
    {
      "cell_type": "code",
      "execution_count": 34,
      "metadata": {
        "id": "ZNGjtCzLqIc-",
        "outputId": "70eaa73b-e4dc-4a2f-ec9c-5aa0503d4e38",
        "colab": {
          "base_uri": "https://localhost:8080/"
        }
      },
      "outputs": [
        {
          "output_type": "execute_result",
          "data": {
            "text/plain": [
              "Date           0\n",
              "Open         127\n",
              "High         127\n",
              "Low          127\n",
              "Close        127\n",
              "Adj Close    127\n",
              "Volume       127\n",
              "dtype: int64"
            ]
          },
          "metadata": {},
          "execution_count": 34
        }
      ],
      "source": [
        "df.isnull().sum()"
      ]
    },
    {
      "cell_type": "code",
      "source": [
        "df['Close'].replace(' ',np.nan,inplace=True)\n",
        "df.dropna(subset=['Close'], inplace=True)\n",
        "df.isnull().sum()"
      ],
      "metadata": {
        "colab": {
          "base_uri": "https://localhost:8080/"
        },
        "id": "JUQu0DhIEXhm",
        "outputId": "52841a43-50ee-4c1f-8bf9-33cc6ef46491"
      },
      "execution_count": 35,
      "outputs": [
        {
          "output_type": "execute_result",
          "data": {
            "text/plain": [
              "Date         0\n",
              "Open         0\n",
              "High         0\n",
              "Low          0\n",
              "Close        0\n",
              "Adj Close    0\n",
              "Volume       0\n",
              "dtype: int64"
            ]
          },
          "metadata": {},
          "execution_count": 35
        }
      ]
    },
    {
      "cell_type": "code",
      "execution_count": 36,
      "metadata": {
        "id": "0M8A2_ZTqIc_",
        "outputId": "914b6bd1-4a45-42f6-d566-8ae219d70593",
        "colab": {
          "base_uri": "https://localhost:8080/",
          "height": 300
        }
      },
      "outputs": [
        {
          "output_type": "execute_result",
          "data": {
            "text/plain": [
              "              Open         High          Low        Close    Adj Close  \\\n",
              "count  6102.000000  6102.000000  6102.000000  6102.000000  6102.000000   \n",
              "mean    280.876740   283.718757   277.699139   280.784199   262.166892   \n",
              "std     348.668891   351.470448   345.381472   348.430553   351.118302   \n",
              "min       2.435000     2.450000     2.395000     2.435000     0.486530   \n",
              "25%      23.590000    23.981250    23.126250    23.520000     9.233752   \n",
              "50%     116.000000   119.244999   113.962502   116.799999    82.996315   \n",
              "75%     410.987503   415.281250   406.912498   410.612503   389.092781   \n",
              "max    1305.000000  1305.500000  1288.800049  1302.400024  1302.400024   \n",
              "\n",
              "             Volume  \n",
              "count  6.102000e+03  \n",
              "mean   4.844925e+06  \n",
              "std    5.752826e+06  \n",
              "min    0.000000e+00  \n",
              "25%    1.567042e+06  \n",
              "50%    3.299666e+06  \n",
              "75%    6.137584e+06  \n",
              "max    2.011300e+08  "
            ],
            "text/html": [
              "\n",
              "  <div id=\"df-1d193585-4a16-4c4d-8f9d-1b81270507fc\">\n",
              "    <div class=\"colab-df-container\">\n",
              "      <div>\n",
              "<style scoped>\n",
              "    .dataframe tbody tr th:only-of-type {\n",
              "        vertical-align: middle;\n",
              "    }\n",
              "\n",
              "    .dataframe tbody tr th {\n",
              "        vertical-align: top;\n",
              "    }\n",
              "\n",
              "    .dataframe thead th {\n",
              "        text-align: right;\n",
              "    }\n",
              "</style>\n",
              "<table border=\"1\" class=\"dataframe\">\n",
              "  <thead>\n",
              "    <tr style=\"text-align: right;\">\n",
              "      <th></th>\n",
              "      <th>Open</th>\n",
              "      <th>High</th>\n",
              "      <th>Low</th>\n",
              "      <th>Close</th>\n",
              "      <th>Adj Close</th>\n",
              "      <th>Volume</th>\n",
              "    </tr>\n",
              "  </thead>\n",
              "  <tbody>\n",
              "    <tr>\n",
              "      <th>count</th>\n",
              "      <td>6102.000000</td>\n",
              "      <td>6102.000000</td>\n",
              "      <td>6102.000000</td>\n",
              "      <td>6102.000000</td>\n",
              "      <td>6102.000000</td>\n",
              "      <td>6.102000e+03</td>\n",
              "    </tr>\n",
              "    <tr>\n",
              "      <th>mean</th>\n",
              "      <td>280.876740</td>\n",
              "      <td>283.718757</td>\n",
              "      <td>277.699139</td>\n",
              "      <td>280.784199</td>\n",
              "      <td>262.166892</td>\n",
              "      <td>4.844925e+06</td>\n",
              "    </tr>\n",
              "    <tr>\n",
              "      <th>std</th>\n",
              "      <td>348.668891</td>\n",
              "      <td>351.470448</td>\n",
              "      <td>345.381472</td>\n",
              "      <td>348.430553</td>\n",
              "      <td>351.118302</td>\n",
              "      <td>5.752826e+06</td>\n",
              "    </tr>\n",
              "    <tr>\n",
              "      <th>min</th>\n",
              "      <td>2.435000</td>\n",
              "      <td>2.450000</td>\n",
              "      <td>2.395000</td>\n",
              "      <td>2.435000</td>\n",
              "      <td>0.486530</td>\n",
              "      <td>0.000000e+00</td>\n",
              "    </tr>\n",
              "    <tr>\n",
              "      <th>25%</th>\n",
              "      <td>23.590000</td>\n",
              "      <td>23.981250</td>\n",
              "      <td>23.126250</td>\n",
              "      <td>23.520000</td>\n",
              "      <td>9.233752</td>\n",
              "      <td>1.567042e+06</td>\n",
              "    </tr>\n",
              "    <tr>\n",
              "      <th>50%</th>\n",
              "      <td>116.000000</td>\n",
              "      <td>119.244999</td>\n",
              "      <td>113.962502</td>\n",
              "      <td>116.799999</td>\n",
              "      <td>82.996315</td>\n",
              "      <td>3.299666e+06</td>\n",
              "    </tr>\n",
              "    <tr>\n",
              "      <th>75%</th>\n",
              "      <td>410.987503</td>\n",
              "      <td>415.281250</td>\n",
              "      <td>406.912498</td>\n",
              "      <td>410.612503</td>\n",
              "      <td>389.092781</td>\n",
              "      <td>6.137584e+06</td>\n",
              "    </tr>\n",
              "    <tr>\n",
              "      <th>max</th>\n",
              "      <td>1305.000000</td>\n",
              "      <td>1305.500000</td>\n",
              "      <td>1288.800049</td>\n",
              "      <td>1302.400024</td>\n",
              "      <td>1302.400024</td>\n",
              "      <td>2.011300e+08</td>\n",
              "    </tr>\n",
              "  </tbody>\n",
              "</table>\n",
              "</div>\n",
              "      <button class=\"colab-df-convert\" onclick=\"convertToInteractive('df-1d193585-4a16-4c4d-8f9d-1b81270507fc')\"\n",
              "              title=\"Convert this dataframe to an interactive table.\"\n",
              "              style=\"display:none;\">\n",
              "        \n",
              "  <svg xmlns=\"http://www.w3.org/2000/svg\" height=\"24px\"viewBox=\"0 0 24 24\"\n",
              "       width=\"24px\">\n",
              "    <path d=\"M0 0h24v24H0V0z\" fill=\"none\"/>\n",
              "    <path d=\"M18.56 5.44l.94 2.06.94-2.06 2.06-.94-2.06-.94-.94-2.06-.94 2.06-2.06.94zm-11 1L8.5 8.5l.94-2.06 2.06-.94-2.06-.94L8.5 2.5l-.94 2.06-2.06.94zm10 10l.94 2.06.94-2.06 2.06-.94-2.06-.94-.94-2.06-.94 2.06-2.06.94z\"/><path d=\"M17.41 7.96l-1.37-1.37c-.4-.4-.92-.59-1.43-.59-.52 0-1.04.2-1.43.59L10.3 9.45l-7.72 7.72c-.78.78-.78 2.05 0 2.83L4 21.41c.39.39.9.59 1.41.59.51 0 1.02-.2 1.41-.59l7.78-7.78 2.81-2.81c.8-.78.8-2.07 0-2.86zM5.41 20L4 18.59l7.72-7.72 1.47 1.35L5.41 20z\"/>\n",
              "  </svg>\n",
              "      </button>\n",
              "      \n",
              "  <style>\n",
              "    .colab-df-container {\n",
              "      display:flex;\n",
              "      flex-wrap:wrap;\n",
              "      gap: 12px;\n",
              "    }\n",
              "\n",
              "    .colab-df-convert {\n",
              "      background-color: #E8F0FE;\n",
              "      border: none;\n",
              "      border-radius: 50%;\n",
              "      cursor: pointer;\n",
              "      display: none;\n",
              "      fill: #1967D2;\n",
              "      height: 32px;\n",
              "      padding: 0 0 0 0;\n",
              "      width: 32px;\n",
              "    }\n",
              "\n",
              "    .colab-df-convert:hover {\n",
              "      background-color: #E2EBFA;\n",
              "      box-shadow: 0px 1px 2px rgba(60, 64, 67, 0.3), 0px 1px 3px 1px rgba(60, 64, 67, 0.15);\n",
              "      fill: #174EA6;\n",
              "    }\n",
              "\n",
              "    [theme=dark] .colab-df-convert {\n",
              "      background-color: #3B4455;\n",
              "      fill: #D2E3FC;\n",
              "    }\n",
              "\n",
              "    [theme=dark] .colab-df-convert:hover {\n",
              "      background-color: #434B5C;\n",
              "      box-shadow: 0px 1px 3px 1px rgba(0, 0, 0, 0.15);\n",
              "      filter: drop-shadow(0px 1px 2px rgba(0, 0, 0, 0.3));\n",
              "      fill: #FFFFFF;\n",
              "    }\n",
              "  </style>\n",
              "\n",
              "      <script>\n",
              "        const buttonEl =\n",
              "          document.querySelector('#df-1d193585-4a16-4c4d-8f9d-1b81270507fc button.colab-df-convert');\n",
              "        buttonEl.style.display =\n",
              "          google.colab.kernel.accessAllowed ? 'block' : 'none';\n",
              "\n",
              "        async function convertToInteractive(key) {\n",
              "          const element = document.querySelector('#df-1d193585-4a16-4c4d-8f9d-1b81270507fc');\n",
              "          const dataTable =\n",
              "            await google.colab.kernel.invokeFunction('convertToInteractive',\n",
              "                                                     [key], {});\n",
              "          if (!dataTable) return;\n",
              "\n",
              "          const docLinkHtml = 'Like what you see? Visit the ' +\n",
              "            '<a target=\"_blank\" href=https://colab.research.google.com/notebooks/data_table.ipynb>data table notebook</a>'\n",
              "            + ' to learn more about interactive tables.';\n",
              "          element.innerHTML = '';\n",
              "          dataTable['output_type'] = 'display_data';\n",
              "          await google.colab.output.renderOutput(dataTable, element);\n",
              "          const docLink = document.createElement('div');\n",
              "          docLink.innerHTML = docLinkHtml;\n",
              "          element.appendChild(docLink);\n",
              "        }\n",
              "      </script>\n",
              "    </div>\n",
              "  </div>\n",
              "  "
            ]
          },
          "metadata": {},
          "execution_count": 36
        }
      ],
      "source": [
        "df.describe()"
      ]
    },
    {
      "cell_type": "code",
      "execution_count": 37,
      "metadata": {
        "id": "Fj87mrJlqIc_",
        "outputId": "0bb10d8d-13ed-4fd5-bd76-6a42a40ef1a2",
        "colab": {
          "base_uri": "https://localhost:8080/"
        }
      },
      "outputs": [
        {
          "output_type": "stream",
          "name": "stdout",
          "text": [
            "0          2.980000\n",
            "1          2.975000\n",
            "2          2.985000\n",
            "3          2.965000\n",
            "4          2.960000\n",
            "           ...     \n",
            "6224    1112.449951\n",
            "6225    1096.500000\n",
            "6226    1090.550049\n",
            "6227    1078.650024\n",
            "6228    1057.949951\n",
            "Name: Close, Length: 6102, dtype: float64\n"
          ]
        }
      ],
      "source": [
        "df_close = df['Close']\n",
        "print(df_close)"
      ]
    },
    {
      "cell_type": "code",
      "execution_count": 38,
      "metadata": {
        "id": "wG_ED5ktqIdA",
        "outputId": "19dcf8d4-ebce-49a7-c82f-b90fd7213b7a",
        "colab": {
          "base_uri": "https://localhost:8080/"
        }
      },
      "outputs": [
        {
          "output_type": "execute_result",
          "data": {
            "text/plain": [
              "(6102,)"
            ]
          },
          "metadata": {},
          "execution_count": 38
        }
      ],
      "source": [
        "df_close.shape"
      ]
    },
    {
      "cell_type": "code",
      "execution_count": 39,
      "metadata": {
        "id": "iaVUdrKAqIdA",
        "outputId": "1b30bcf0-1902-49e2-9116-a9c01d3784bd",
        "colab": {
          "base_uri": "https://localhost:8080/",
          "height": 282
        }
      },
      "outputs": [
        {
          "output_type": "execute_result",
          "data": {
            "text/plain": [
              "[<matplotlib.lines.Line2D at 0x7f94660d9610>]"
            ]
          },
          "metadata": {},
          "execution_count": 39
        },
        {
          "output_type": "display_data",
          "data": {
            "text/plain": [
              "<Figure size 432x288 with 1 Axes>"
            ],
            "image/png": "[encoded data removed]"
          },
          "metadata": {
            "needs_background": "light"
          }
        }
      ],
      "source": [
        "%matplotlib inline\n",
        "plt.plot(df_close)"
      ]
    },
    {
      "cell_type": "code",
      "execution_count": 40,
      "metadata": {
        "id": "BxbIik8pqIdB"
      },
      "outputs": [],
      "source": [
        "from sklearn.preprocessing import MinMaxScaler\n",
        "scaler = MinMaxScaler(feature_range = (0,1))\n",
        "df_close = scaler.fit_transform(np.array(df_close).reshape(-1,1))"
      ]
    },
    {
      "cell_type": "code",
      "execution_count": 41,
      "metadata": {
        "id": "DWXxL_k2qIdB",
        "outputId": "229bf12f-2f10-4ef2-c3ae-3508c6b1d50d",
        "colab": {
          "base_uri": "https://localhost:8080/"
        }
      },
      "outputs": [
        {
          "output_type": "stream",
          "name": "stdout",
          "text": [
            "[[4.19242049e-04]\n",
            " [4.15395791e-04]\n",
            " [4.23088306e-04]\n",
            " ...\n",
            " [8.37034096e-01]\n",
            " [8.27879985e-01]\n",
            " [8.11956423e-01]]\n"
          ]
        }
      ],
      "source": [
        "print(df_close)"
      ]
    },
    {
      "cell_type": "code",
      "execution_count": 42,
      "metadata": {
        "id": "QnlTaWEMqIdC"
      },
      "outputs": [],
      "source": [
        "# splitting the dataset into training data and test data\n",
        "train_size = int(len(df_close) * 0.75)\n",
        "test_size = len(df_close) - train_size\n",
        "train_data, test_data = df_close[:train_size, :], df_close[train_size:len(df_close), :]"
      ]
    },
    {
      "cell_type": "code",
      "execution_count": 43,
      "metadata": {
        "id": "rmzxZXo2qIdC",
        "outputId": "c9b6bdc4-bc1f-4e07-ff14-db6c1b6b0b9e",
        "colab": {
          "base_uri": "https://localhost:8080/"
        }
      },
      "outputs": [
        {
          "output_type": "execute_result",
          "data": {
            "text/plain": [
              "(4576, 1526)"
            ]
          },
          "metadata": {},
          "execution_count": 43
        }
      ],
      "source": [
        "train_size, test_size"
      ]
    },
    {
      "cell_type": "code",
      "execution_count": 44,
      "metadata": {
        "id": "xMxwrZpHqIdD",
        "outputId": "c91df82b-8468-4c1f-850a-a958bbe37f5a",
        "colab": {
          "base_uri": "https://localhost:8080/"
        }
      },
      "outputs": [
        {
          "output_type": "stream",
          "name": "stdout",
          "text": [
            "[[0.00041924]\n",
            " [0.0004154 ]\n",
            " [0.00042309]\n",
            " ...\n",
            " [0.31509693]\n",
            " [0.31059683]\n",
            " [0.3120584 ]]\n"
          ]
        }
      ],
      "source": [
        "print(train_data)"
      ]
    },
    {
      "cell_type": "code",
      "execution_count": 45,
      "metadata": {
        "id": "zHy83wyfqIdD",
        "outputId": "39d5903a-2088-487d-e753-a3f499f613b1",
        "colab": {
          "base_uri": "https://localhost:8080/"
        }
      },
      "outputs": [
        {
          "output_type": "stream",
          "name": "stdout",
          "text": [
            "[[0.31411614]\n",
            " [0.31478923]\n",
            " [0.32117403]\n",
            " ...\n",
            " [0.8370341 ]\n",
            " [0.82787998]\n",
            " [0.81195642]]\n"
          ]
        }
      ],
      "source": [
        "print(test_data)"
      ]
    },
    {
      "cell_type": "code",
      "execution_count": 46,
      "metadata": {
        "id": "dfG59zZ-qIdE"
      },
      "outputs": [],
      "source": [
        "# convert an array of values into a dataset matrix\n",
        "def create_dataset(dataset, time_step = 1):\n",
        "    dataX, dataY = [], []\n",
        "    for i in range(len(dataset) - time_step - 1):\n",
        "        a = dataset[i:(i + time_step), 0]  \n",
        "        dataX.append(a)\n",
        "        dataY.append(dataset[i + time_step, 0])\n",
        "    return np.array(dataX), np.array(dataY)"
      ]
    },
    {
      "cell_type": "code",
      "execution_count": 47,
      "metadata": {
        "id": "039oMrRsqIdE"
      },
      "outputs": [],
      "source": [
        "# reshape into X = t,t+1,t+2,t+3 and Y = t+4\n",
        "time_step = 100\n",
        "X_train, y_train = create_dataset(train_data, time_step)\n",
        "X_test, y_test = create_dataset(test_data, time_step)"
      ]
    },
    {
      "cell_type": "code",
      "execution_count": 48,
      "metadata": {
        "id": "CCTep_YqqIdF",
        "outputId": "e814d011-3e28-4eef-a103-c211c3b4afc7",
        "colab": {
          "base_uri": "https://localhost:8080/"
        }
      },
      "outputs": [
        {
          "output_type": "stream",
          "name": "stdout",
          "text": [
            "Shape of X_train: (4475, 100)\n",
            "Shape of y_train: (4475,)\n"
          ]
        }
      ],
      "source": [
        "print(\"Shape of X_train:\", X_train.shape)\n",
        "print(\"Shape of y_train:\", y_train.shape)"
      ]
    },
    {
      "cell_type": "code",
      "execution_count": 49,
      "metadata": {
        "id": "L1xqyZy0qIdG",
        "outputId": "e84fe684-5959-4554-b477-b4bd180452c0",
        "colab": {
          "base_uri": "https://localhost:8080/"
        }
      },
      "outputs": [
        {
          "output_type": "stream",
          "name": "stdout",
          "text": [
            "Shape of X_test: (1425, 100)\n",
            "Shape of y_test: (1425,)\n"
          ]
        }
      ],
      "source": [
        "print(\"Shape of X_test:\", X_test.shape)\n",
        "print(\"Shape of y_test:\", y_test.shape)"
      ]
    },
    {
      "cell_type": "code",
      "execution_count": 50,
      "metadata": {
        "id": "JIZSdH9kqIdG"
      },
      "outputs": [],
      "source": [
        "# reshape input to be [samples, time steps, features] which is required for LSTM\n",
        "X_train = X_train.reshape(X_train.shape[0], X_train.shape[1], 1)\n",
        "X_test = X_test.reshape(X_test.shape[0], X_test.shape[1], 1)"
      ]
    },
    {
      "cell_type": "code",
      "execution_count": 51,
      "metadata": {
        "id": "s79mAJXsqIdH"
      },
      "outputs": [],
      "source": [
        "# Stacked LSTM\n",
        "model = Sequential()\n",
        "model.add(LSTM(50, return_sequences = True, input_shape = (100,1)))\n",
        "model.add(LSTM(50, return_sequences = True))\n",
        "model.add(LSTM(50))\n",
        "model.add(Dense(1))\n",
        "model.compile(loss = 'mean_squared_error', optimizer = 'adam')"
      ]
    },
    {
      "cell_type": "code",
      "execution_count": 52,
      "metadata": {
        "id": "dVWLUGs5qIdH",
        "outputId": "c5b90356-d41a-40be-ccce-57bd727084ad",
        "colab": {
          "base_uri": "https://localhost:8080/"
        }
      },
      "outputs": [
        {
          "output_type": "stream",
          "name": "stdout",
          "text": [
            "Model: \"sequential_1\"\n",
            "_________________________________________________________________\n",
            " Layer (type)                Output Shape              Param #   \n",
            "=================================================================\n",
            " lstm_3 (LSTM)               (None, 100, 50)           10400     \n",
            "                                                                 \n",
            " lstm_4 (LSTM)               (None, 100, 50)           20200     \n",
            "                                                                 \n",
            " lstm_5 (LSTM)               (None, 50)                20200     \n",
            "                                                                 \n",
            " dense_1 (Dense)             (None, 1)                 51        \n",
            "                                                                 \n",
            "=================================================================\n",
            "Total params: 50,851\n",
            "Trainable params: 50,851\n",
            "Non-trainable params: 0\n",
            "_________________________________________________________________\n"
          ]
        }
      ],
      "source": [
        "model.summary()"
      ]
    },
    {
      "cell_type": "code",
      "execution_count": 53,
      "metadata": {
        "id": "-yscuIVnqIdI",
        "outputId": "aec3af7d-8431-4fc8-dff8-3f43ba385f64",
        "colab": {
          "base_uri": "https://localhost:8080/"
        }
      },
      "outputs": [
        {
          "output_type": "stream",
          "name": "stdout",
          "text": [
            "Epoch 1/100\n",
            "70/70 [==============================] - 21s 213ms/step - loss: 9.9164e-04 - val_loss: 8.6106e-04\n",
            "Epoch 2/100\n",
            "70/70 [==============================] - 14s 194ms/step - loss: 3.6944e-05 - val_loss: 9.9757e-04\n",
            "Epoch 3/100\n",
            "70/70 [==============================] - 14s 193ms/step - loss: 3.5768e-05 - val_loss: 0.0015\n",
            "Epoch 4/100\n",
            "70/70 [==============================] - 15s 211ms/step - loss: 3.6601e-05 - val_loss: 0.0016\n",
            "Epoch 5/100\n",
            "70/70 [==============================] - 14s 204ms/step - loss: 3.5030e-05 - val_loss: 0.0026\n",
            "Epoch 6/100\n",
            "70/70 [==============================] - 14s 194ms/step - loss: 3.4674e-05 - val_loss: 0.0013\n",
            "Epoch 7/100\n",
            "70/70 [==============================] - 14s 195ms/step - loss: 3.6088e-05 - val_loss: 0.0026\n",
            "Epoch 8/100\n",
            "70/70 [==============================] - 14s 195ms/step - loss: 3.3060e-05 - val_loss: 0.0019\n",
            "Epoch 9/100\n",
            "70/70 [==============================] - 14s 196ms/step - loss: 4.0986e-05 - val_loss: 0.0018\n",
            "Epoch 10/100\n",
            "70/70 [==============================] - 14s 195ms/step - loss: 3.3413e-05 - val_loss: 0.0022\n",
            "Epoch 11/100\n",
            "70/70 [==============================] - 15s 213ms/step - loss: 3.6473e-05 - val_loss: 8.8715e-04\n",
            "Epoch 12/100\n",
            "70/70 [==============================] - 14s 196ms/step - loss: 3.0542e-05 - val_loss: 0.0017\n",
            "Epoch 13/100\n",
            "70/70 [==============================] - 14s 195ms/step - loss: 2.9943e-05 - val_loss: 0.0011\n",
            "Epoch 14/100\n",
            "70/70 [==============================] - 14s 196ms/step - loss: 3.4187e-05 - val_loss: 0.0015\n",
            "Epoch 15/100\n",
            "70/70 [==============================] - 14s 196ms/step - loss: 3.1638e-05 - val_loss: 9.5479e-04\n",
            "Epoch 16/100\n",
            "70/70 [==============================] - 14s 196ms/step - loss: 2.9339e-05 - val_loss: 0.0014\n",
            "Epoch 17/100\n",
            "70/70 [==============================] - 14s 195ms/step - loss: 2.8357e-05 - val_loss: 9.8516e-04\n",
            "Epoch 18/100\n",
            "70/70 [==============================] - 14s 194ms/step - loss: 2.6855e-05 - val_loss: 0.0016\n",
            "Epoch 19/100\n",
            "70/70 [==============================] - 14s 194ms/step - loss: 2.7575e-05 - val_loss: 9.0410e-04\n",
            "Epoch 20/100\n",
            "70/70 [==============================] - 14s 194ms/step - loss: 2.5898e-05 - val_loss: 4.2815e-04\n",
            "Epoch 21/100\n",
            "70/70 [==============================] - 14s 193ms/step - loss: 3.1791e-05 - val_loss: 0.0013\n",
            "Epoch 22/100\n",
            "70/70 [==============================] - 14s 195ms/step - loss: 2.6200e-05 - val_loss: 0.0011\n",
            "Epoch 23/100\n",
            "70/70 [==============================] - 14s 197ms/step - loss: 2.6569e-05 - val_loss: 5.4984e-04\n",
            "Epoch 24/100\n",
            "70/70 [==============================] - 14s 196ms/step - loss: 2.9476e-05 - val_loss: 8.1748e-04\n",
            "Epoch 25/100\n",
            "70/70 [==============================] - 14s 196ms/step - loss: 2.3685e-05 - val_loss: 5.9210e-04\n",
            "Epoch 26/100\n",
            "70/70 [==============================] - 14s 196ms/step - loss: 2.9473e-05 - val_loss: 5.5980e-04\n",
            "Epoch 27/100\n",
            "70/70 [==============================] - 14s 196ms/step - loss: 2.5332e-05 - val_loss: 4.6502e-04\n",
            "Epoch 28/100\n",
            "70/70 [==============================] - 14s 196ms/step - loss: 2.4289e-05 - val_loss: 9.8078e-04\n",
            "Epoch 29/100\n",
            "70/70 [==============================] - 14s 196ms/step - loss: 2.5336e-05 - val_loss: 6.0524e-04\n",
            "Epoch 30/100\n",
            "70/70 [==============================] - 14s 196ms/step - loss: 2.4358e-05 - val_loss: 4.2395e-04\n",
            "Epoch 31/100\n",
            "70/70 [==============================] - 14s 196ms/step - loss: 2.4625e-05 - val_loss: 9.6076e-04\n",
            "Epoch 32/100\n",
            "70/70 [==============================] - 14s 197ms/step - loss: 2.3389e-05 - val_loss: 7.2951e-04\n",
            "Epoch 33/100\n",
            "70/70 [==============================] - 14s 195ms/step - loss: 2.1592e-05 - val_loss: 4.1261e-04\n",
            "Epoch 34/100\n",
            "70/70 [==============================] - 14s 196ms/step - loss: 2.1964e-05 - val_loss: 7.9391e-04\n",
            "Epoch 35/100\n",
            "70/70 [==============================] - 14s 197ms/step - loss: 2.1787e-05 - val_loss: 7.6215e-04\n",
            "Epoch 36/100\n",
            "70/70 [==============================] - 14s 196ms/step - loss: 2.1602e-05 - val_loss: 2.7858e-04\n",
            "Epoch 37/100\n",
            "70/70 [==============================] - 14s 196ms/step - loss: 2.2335e-05 - val_loss: 5.0326e-04\n",
            "Epoch 38/100\n",
            "70/70 [==============================] - 14s 196ms/step - loss: 2.0825e-05 - val_loss: 5.2888e-04\n",
            "Epoch 39/100\n",
            "70/70 [==============================] - 14s 196ms/step - loss: 2.1566e-05 - val_loss: 3.6163e-04\n",
            "Epoch 40/100\n",
            "70/70 [==============================] - 14s 195ms/step - loss: 2.2616e-05 - val_loss: 4.3672e-04\n",
            "Epoch 41/100\n",
            "70/70 [==============================] - 14s 195ms/step - loss: 2.6685e-05 - val_loss: 0.0011\n",
            "Epoch 42/100\n",
            "70/70 [==============================] - 14s 196ms/step - loss: 2.0077e-05 - val_loss: 3.8001e-04\n",
            "Epoch 43/100\n",
            "70/70 [==============================] - 14s 196ms/step - loss: 2.2042e-05 - val_loss: 2.6877e-04\n",
            "Epoch 44/100\n",
            "70/70 [==============================] - 14s 196ms/step - loss: 1.8276e-05 - val_loss: 8.8709e-04\n",
            "Epoch 45/100\n",
            "70/70 [==============================] - 14s 197ms/step - loss: 1.9756e-05 - val_loss: 6.4124e-04\n",
            "Epoch 46/100\n",
            "70/70 [==============================] - 14s 196ms/step - loss: 1.7461e-05 - val_loss: 1.8550e-04\n",
            "Epoch 47/100\n",
            "70/70 [==============================] - 14s 196ms/step - loss: 1.7154e-05 - val_loss: 4.6676e-04\n",
            "Epoch 48/100\n",
            "70/70 [==============================] - 14s 196ms/step - loss: 1.8940e-05 - val_loss: 2.8394e-04\n",
            "Epoch 49/100\n",
            "70/70 [==============================] - 14s 196ms/step - loss: 1.7833e-05 - val_loss: 2.3135e-04\n",
            "Epoch 50/100\n",
            "70/70 [==============================] - 14s 195ms/step - loss: 1.8521e-05 - val_loss: 2.6343e-04\n",
            "Epoch 51/100\n",
            "70/70 [==============================] - 14s 196ms/step - loss: 2.0675e-05 - val_loss: 3.2241e-04\n",
            "Epoch 52/100\n",
            "70/70 [==============================] - 14s 197ms/step - loss: 1.6919e-05 - val_loss: 2.7986e-04\n",
            "Epoch 53/100\n",
            "70/70 [==============================] - 14s 196ms/step - loss: 1.8053e-05 - val_loss: 2.9557e-04\n",
            "Epoch 54/100\n",
            "70/70 [==============================] - 14s 195ms/step - loss: 1.6611e-05 - val_loss: 5.4585e-04\n",
            "Epoch 55/100\n",
            "70/70 [==============================] - 14s 194ms/step - loss: 1.7380e-05 - val_loss: 2.9904e-04\n",
            "Epoch 56/100\n",
            "70/70 [==============================] - 14s 195ms/step - loss: 1.6764e-05 - val_loss: 1.6980e-04\n",
            "Epoch 57/100\n",
            "70/70 [==============================] - 14s 196ms/step - loss: 1.7481e-05 - val_loss: 2.0961e-04\n",
            "Epoch 58/100\n",
            "70/70 [==============================] - 14s 196ms/step - loss: 1.8537e-05 - val_loss: 1.4171e-04\n",
            "Epoch 59/100\n",
            "70/70 [==============================] - 14s 195ms/step - loss: 1.7081e-05 - val_loss: 2.6520e-04\n",
            "Epoch 60/100\n",
            "70/70 [==============================] - 14s 195ms/step - loss: 1.6229e-05 - val_loss: 2.0170e-04\n",
            "Epoch 61/100\n",
            "70/70 [==============================] - 14s 196ms/step - loss: 1.6855e-05 - val_loss: 5.4676e-04\n",
            "Epoch 62/100\n",
            "70/70 [==============================] - 14s 196ms/step - loss: 1.5725e-05 - val_loss: 1.5890e-04\n",
            "Epoch 63/100\n",
            "70/70 [==============================] - 14s 196ms/step - loss: 1.7499e-05 - val_loss: 1.8382e-04\n",
            "Epoch 64/100\n",
            "70/70 [==============================] - 14s 196ms/step - loss: 1.7036e-05 - val_loss: 3.2006e-04\n",
            "Epoch 65/100\n",
            "70/70 [==============================] - 14s 196ms/step - loss: 1.5226e-05 - val_loss: 5.2389e-04\n",
            "Epoch 66/100\n",
            "70/70 [==============================] - 14s 196ms/step - loss: 1.5650e-05 - val_loss: 2.2819e-04\n",
            "Epoch 67/100\n",
            "70/70 [==============================] - 14s 196ms/step - loss: 1.5255e-05 - val_loss: 3.4530e-04\n",
            "Epoch 68/100\n",
            "70/70 [==============================] - 14s 197ms/step - loss: 1.4087e-05 - val_loss: 1.9072e-04\n",
            "Epoch 69/100\n",
            "70/70 [==============================] - 14s 195ms/step - loss: 1.6330e-05 - val_loss: 2.5765e-04\n",
            "Epoch 70/100\n",
            "70/70 [==============================] - 14s 196ms/step - loss: 1.7897e-05 - val_loss: 1.6356e-04\n",
            "Epoch 71/100\n",
            "70/70 [==============================] - 14s 196ms/step - loss: 1.4172e-05 - val_loss: 3.8798e-04\n",
            "Epoch 72/100\n",
            "70/70 [==============================] - 14s 195ms/step - loss: 1.4578e-05 - val_loss: 8.8330e-04\n",
            "Epoch 73/100\n",
            "70/70 [==============================] - 14s 195ms/step - loss: 1.5043e-05 - val_loss: 5.6074e-04\n",
            "Epoch 74/100\n",
            "70/70 [==============================] - 14s 196ms/step - loss: 1.6932e-05 - val_loss: 1.5013e-04\n",
            "Epoch 75/100\n",
            "70/70 [==============================] - 14s 196ms/step - loss: 1.7376e-05 - val_loss: 4.5126e-04\n",
            "Epoch 76/100\n",
            "70/70 [==============================] - 14s 196ms/step - loss: 1.8097e-05 - val_loss: 1.6655e-04\n",
            "Epoch 77/100\n",
            "70/70 [==============================] - 14s 196ms/step - loss: 1.4450e-05 - val_loss: 6.1042e-04\n",
            "Epoch 78/100\n",
            "70/70 [==============================] - 14s 195ms/step - loss: 1.5195e-05 - val_loss: 1.7684e-04\n",
            "Epoch 79/100\n",
            "70/70 [==============================] - 14s 196ms/step - loss: 1.5458e-05 - val_loss: 2.3428e-04\n",
            "Epoch 80/100\n",
            "70/70 [==============================] - 14s 195ms/step - loss: 1.6616e-05 - val_loss: 3.6316e-04\n",
            "Epoch 81/100\n",
            "70/70 [==============================] - 14s 199ms/step - loss: 1.5798e-05 - val_loss: 4.7110e-04\n",
            "Epoch 82/100\n",
            "70/70 [==============================] - 14s 196ms/step - loss: 1.5556e-05 - val_loss: 2.3458e-04\n",
            "Epoch 83/100\n",
            "70/70 [==============================] - 14s 196ms/step - loss: 1.7609e-05 - val_loss: 2.3348e-04\n",
            "Epoch 84/100\n",
            "70/70 [==============================] - 14s 195ms/step - loss: 1.5027e-05 - val_loss: 3.9844e-04\n",
            "Epoch 85/100\n",
            "70/70 [==============================] - 14s 198ms/step - loss: 1.4442e-05 - val_loss: 2.7912e-04\n",
            "Epoch 86/100\n",
            "70/70 [==============================] - 14s 196ms/step - loss: 1.4970e-05 - val_loss: 3.3072e-04\n",
            "Epoch 87/100\n",
            "70/70 [==============================] - 14s 194ms/step - loss: 1.5126e-05 - val_loss: 3.8763e-04\n",
            "Epoch 88/100\n",
            "70/70 [==============================] - 14s 195ms/step - loss: 1.5865e-05 - val_loss: 3.8655e-04\n",
            "Epoch 89/100\n",
            "70/70 [==============================] - 14s 194ms/step - loss: 1.5144e-05 - val_loss: 4.7181e-04\n",
            "Epoch 90/100\n",
            "70/70 [==============================] - 14s 195ms/step - loss: 1.3340e-05 - val_loss: 3.2093e-04\n",
            "Epoch 91/100\n",
            "70/70 [==============================] - 14s 194ms/step - loss: 1.4452e-05 - val_loss: 2.4240e-04\n",
            "Epoch 92/100\n",
            "70/70 [==============================] - 14s 196ms/step - loss: 1.5194e-05 - val_loss: 2.4875e-04\n",
            "Epoch 93/100\n",
            "70/70 [==============================] - 16s 224ms/step - loss: 1.4091e-05 - val_loss: 5.9889e-04\n",
            "Epoch 94/100\n",
            "70/70 [==============================] - 14s 199ms/step - loss: 1.3796e-05 - val_loss: 8.1915e-04\n",
            "Epoch 95/100\n",
            "70/70 [==============================] - 14s 198ms/step - loss: 1.5034e-05 - val_loss: 2.4002e-04\n",
            "Epoch 96/100\n",
            "70/70 [==============================] - 14s 199ms/step - loss: 1.4297e-05 - val_loss: 6.5134e-04\n",
            "Epoch 97/100\n",
            "70/70 [==============================] - 14s 196ms/step - loss: 1.4326e-05 - val_loss: 7.2377e-04\n",
            "Epoch 98/100\n",
            "70/70 [==============================] - 14s 198ms/step - loss: 1.5166e-05 - val_loss: 2.0831e-04\n",
            "Epoch 99/100\n",
            "70/70 [==============================] - 14s 197ms/step - loss: 1.8061e-05 - val_loss: 3.5378e-04\n",
            "Epoch 100/100\n",
            "70/70 [==============================] - 14s 197ms/step - loss: 1.6654e-05 - val_loss: 1.8671e-04\n"
          ]
        },
        {
          "output_type": "execute_result",
          "data": {
            "text/plain": [
              "<keras.callbacks.History at 0x7f9465eeb350>"
            ]
          },
          "metadata": {},
          "execution_count": 53
        }
      ],
      "source": [
        "model.fit(X_train, y_train, validation_data = (X_test, y_test), epochs=100, batch_size = 64, verbose = 1)"
      ]
    },
    {
      "cell_type": "code",
      "execution_count": 54,
      "metadata": {
        "id": "HayptZYFqIdI"
      },
      "outputs": [],
      "source": [
        "# doing prediction and checking performance metrics\n",
        "train_predict = model.predict(X_train)\n",
        "test_predict = model.predict(X_test)"
      ]
    },
    {
      "cell_type": "code",
      "execution_count": 55,
      "metadata": {
        "id": "YXfXLYgKqIdJ"
      },
      "outputs": [],
      "source": [
        "# transforming back to original form\n",
        "train_predict = scaler.inverse_transform(train_predict)\n",
        "test_predict = scaler.inverse_transform(test_predict)"
      ]
    },
    {
      "cell_type": "code",
      "execution_count": 56,
      "metadata": {
        "id": "yoe7w96mqIdJ",
        "outputId": "abbd2006-627e-451b-cddb-ccb5b5b41a02",
        "colab": {
          "base_uri": "https://localhost:8080/"
        }
      },
      "outputs": [
        {
          "output_type": "execute_result",
          "data": {
            "text/plain": [
              "154.66214626158217"
            ]
          },
          "metadata": {},
          "execution_count": 56
        }
      ],
      "source": [
        "# Calculate RMSE performance metrics\n",
        "import math\n",
        "from sklearn.metrics import mean_squared_error\n",
        "# train data RMSE\n",
        "math.sqrt(mean_squared_error(y_train, train_predict))"
      ]
    },
    {
      "cell_type": "code",
      "execution_count": 57,
      "metadata": {
        "id": "jJYQq5uSqIdJ",
        "outputId": "55863fe4-9bdd-47f0-a23e-3c9c480836b6",
        "colab": {
          "base_uri": "https://localhost:8080/"
        }
      },
      "outputs": [
        {
          "output_type": "execute_result",
          "data": {
            "text/plain": [
              "869.8992884106382"
            ]
          },
          "metadata": {},
          "execution_count": 57
        }
      ],
      "source": [
        "# test data RMSE\n",
        "math.sqrt(mean_squared_error(y_test, test_predict))"
      ]
    },
    {
      "cell_type": "code",
      "execution_count": 58,
      "metadata": {
        "id": "Y4elCaLJqIdK",
        "outputId": "debeb2b9-71cc-4de9-a034-25da4c42bacd",
        "colab": {
          "base_uri": "https://localhost:8080/",
          "height": 265
        }
      },
      "outputs": [
        {
          "output_type": "display_data",
          "data": {
            "text/plain": [
              "<Figure size 432x288 with 1 Axes>"
            ],
            "image/png": "[encoded data removed]"
          },
          "metadata": {
            "needs_background": "light"
          }
        }
      ],
      "source": [
        "# Plotting \n",
        "# shift train predictions for plotting\n",
        "look_back = 100\n",
        "trainPredictPlot = np.empty_like(df_close)\n",
        "trainPredictPlot[:, :] = np.nan\n",
        "trainPredictPlot[look_back:len(train_predict) + look_back, :] = train_predict\n",
        "# shift test predictions for plotting\n",
        "testPredictPlot = np.empty_like(df_close)\n",
        "testPredictPlot[:, :] = np.nan\n",
        "testPredictPlot[len(train_predict) + (look_back*2) +1:len(df_close)-1, :] = test_predict\n",
        "# plot baseline and predictions\n",
        "plt.plot(scaler.inverse_transform(df_close))\n",
        "plt.plot(trainPredictPlot)\n",
        "plt.plot(testPredictPlot)\n",
        "plt.show()"
      ]
    },
    {
      "cell_type": "code",
      "execution_count": 59,
      "metadata": {
        "id": "3iAvyWNwqIdL",
        "outputId": "66daa667-0be7-4074-8a7d-80c653fca599",
        "colab": {
          "base_uri": "https://localhost:8080/"
        }
      },
      "outputs": [
        {
          "output_type": "execute_result",
          "data": {
            "text/plain": [
              "1526"
            ]
          },
          "metadata": {},
          "execution_count": 59
        }
      ],
      "source": [
        "len(test_data)"
      ]
    },
    {
      "cell_type": "code",
      "execution_count": 64,
      "metadata": {
        "id": "XXJhb48qqIdL",
        "outputId": "2acc6fcd-310e-48e2-f5f1-4212a7fba7a9",
        "colab": {
          "base_uri": "https://localhost:8080/"
        }
      },
      "outputs": [
        {
          "output_type": "execute_result",
          "data": {
            "text/plain": [
              "(1, 100)"
            ]
          },
          "metadata": {},
          "execution_count": 64
        }
      ],
      "source": [
        "x_input = test_data[1426:].reshape(1,-1)\n",
        "x_input.shape"
      ]
    },
    {
      "cell_type": "code",
      "execution_count": 65,
      "metadata": {
        "id": "-RsaH64PqIdL"
      },
      "outputs": [],
      "source": [
        "temp_input = list(x_input)\n",
        "temp_input = temp_input[0].tolist()"
      ]
    },
    {
      "cell_type": "code",
      "execution_count": 66,
      "metadata": {
        "id": "xf5_UacTqIdM",
        "outputId": "8ce5c791-ff17-40ea-d40c-78a344719a08",
        "colab": {
          "base_uri": "https://localhost:8080/"
        }
      },
      "outputs": [
        {
          "output_type": "stream",
          "name": "stdout",
          "text": [
            "[0.7197232007989777, 0.7132999695228722, 0.7146077062454873, 0.7497624613014202, 0.7687629817338838, 0.7081459754720292, 0.6992611302748403, 0.7261464782301712, 0.7096844784033204, 0.7127999376081674, 0.7026073556883634, 0.6916455223029138, 0.7117230132493164, 0.6856069167596311, 0.6813375803563158, 0.6417211298755681, 0.6371056210816946, 0.6574522854239498, 0.6593369607457992, 0.6434134461759179, 0.653836840459486, 0.6932609780738224, 0.7252618205826435, 0.7301850484248105, 0.7578781011880515, 0.768147589792385, 0.7844941834373537, 0.7686860750493545, 0.7930328562439845, 0.7796094550925394, 0.7576088354820228, 0.7611089204196927, 0.7432238238434328, 0.754108750544353, 0.728800358862578, 0.759993542718577, 0.7514163704145934, 0.7827249142973864, 0.7930328562439845, 0.78949431796405, 0.7999177130168694, 0.7923790109602209, 0.78949431796405, 0.8108025458691109, 0.825879949982408, 0.818033528877466, 0.8324569938583208, 0.83614943781749, 0.8242644465179088, 0.8466112392882348, 0.848265148401408, 0.8522652190986947, 0.8634962712658336, 0.8482266489040553, 0.8291107684447977, 0.812648768617947, 0.8082640721878375, 0.8154950551961926, 0.8431111074262256, 0.8697272835242065, 0.8739581665852572, 0.864573242549024, 0.867688747908959, 0.8589961694230935, 0.8285338298455635, 0.8340339962869646, 0.8170719645454091, 0.8063409435237235, 0.7926098240932364, 0.7689168412580305, 0.7994176803329133, 0.7885712538985971, 0.798686835285193, 0.8011099966332631, 0.8063409435237235, 0.8186489669740529, 0.8163796189950414, 0.812802675066433, 0.7938790136249081, 0.7925713238266323, 0.8108410461357151, 0.8186104674767002, 0.812764174799829, 0.8332647448213191, 0.857419260073877, 0.8594577010711943, 0.8584961367391373, 0.8536114091635745, 0.855457631143159, 0.8564961021597454, 0.8653040875967443, 0.87057344090513, 0.8680733736417818, 0.8591500758715797, 0.8523806252805767, 0.8538806279452638, 0.8416111047615384, 0.837034096234269, 0.8278799845618, 0.8119564230675793]\n"
          ]
        }
      ],
      "source": [
        "print(temp_input)"
      ]
    },
    {
      "cell_type": "code",
      "execution_count": 67,
      "metadata": {
        "id": "V3lExl_IqIdM",
        "outputId": "94019ba5-1722-42d5-ad65-fb7efc1b4e4a",
        "colab": {
          "base_uri": "https://localhost:8080/"
        }
      },
      "outputs": [
        {
          "output_type": "stream",
          "name": "stdout",
          "text": [
            "[0.8001309]\n",
            "101\n",
            "1 day input [0.71329997 0.71460771 0.74976246 0.76876298 0.70814598 0.69926113\n",
            " 0.72614648 0.70968448 0.71279994 0.70260736 0.69164552 0.71172301\n",
            " 0.68560692 0.68133758 0.64172113 0.63710562 0.65745229 0.65933696\n",
            " 0.64341345 0.65383684 0.69326098 0.72526182 0.73018505 0.7578781\n",
            " 0.76814759 0.78449418 0.76868608 0.79303286 0.77960946 0.75760884\n",
            " 0.76110892 0.74322382 0.75410875 0.72880036 0.75999354 0.75141637\n",
            " 0.78272491 0.79303286 0.78949432 0.79991771 0.79237901 0.78949432\n",
            " 0.81080255 0.82587995 0.81803353 0.83245699 0.83614944 0.82426445\n",
            " 0.84661124 0.84826515 0.85226522 0.86349627 0.84822665 0.82911077\n",
            " 0.81264877 0.80826407 0.81549506 0.84311111 0.86972728 0.87395817\n",
            " 0.86457324 0.86768875 0.85899617 0.82853383 0.834034   0.81707196\n",
            " 0.80634094 0.79260982 0.76891684 0.79941768 0.78857125 0.79868684\n",
            " 0.80111    0.80634094 0.81864897 0.81637962 0.81280268 0.79387901\n",
            " 0.79257132 0.81084105 0.81861047 0.81276417 0.83326474 0.85741926\n",
            " 0.8594577  0.85849614 0.85361141 0.85545763 0.8564961  0.86530409\n",
            " 0.87057344 0.86807337 0.85915008 0.85238063 0.85388063 0.8416111\n",
            " 0.8370341  0.82787998 0.81195642 0.8001309 ]\n",
            "1 day output [[0.78934497]]\n",
            "2 day input [0.71460771 0.74976246 0.76876298 0.70814598 0.69926113 0.72614648\n",
            " 0.70968448 0.71279994 0.70260736 0.69164552 0.71172301 0.68560692\n",
            " 0.68133758 0.64172113 0.63710562 0.65745229 0.65933696 0.64341345\n",
            " 0.65383684 0.69326098 0.72526182 0.73018505 0.7578781  0.76814759\n",
            " 0.78449418 0.76868608 0.79303286 0.77960946 0.75760884 0.76110892\n",
            " 0.74322382 0.75410875 0.72880036 0.75999354 0.75141637 0.78272491\n",
            " 0.79303286 0.78949432 0.79991771 0.79237901 0.78949432 0.81080255\n",
            " 0.82587995 0.81803353 0.83245699 0.83614944 0.82426445 0.84661124\n",
            " 0.84826515 0.85226522 0.86349627 0.84822665 0.82911077 0.81264877\n",
            " 0.80826407 0.81549506 0.84311111 0.86972728 0.87395817 0.86457324\n",
            " 0.86768875 0.85899617 0.82853383 0.834034   0.81707196 0.80634094\n",
            " 0.79260982 0.76891684 0.79941768 0.78857125 0.79868684 0.80111\n",
            " 0.80634094 0.81864897 0.81637962 0.81280268 0.79387901 0.79257132\n",
            " 0.81084105 0.81861047 0.81276417 0.83326474 0.85741926 0.8594577\n",
            " 0.85849614 0.85361141 0.85545763 0.8564961  0.86530409 0.87057344\n",
            " 0.86807337 0.85915008 0.85238063 0.85388063 0.8416111  0.8370341\n",
            " 0.82787998 0.81195642 0.8001309  0.78934497]\n",
            "2 day output [[0.77908117]]\n",
            "3 day input [0.74976246 0.76876298 0.70814598 0.69926113 0.72614648 0.70968448\n",
            " 0.71279994 0.70260736 0.69164552 0.71172301 0.68560692 0.68133758\n",
            " 0.64172113 0.63710562 0.65745229 0.65933696 0.64341345 0.65383684\n",
            " 0.69326098 0.72526182 0.73018505 0.7578781  0.76814759 0.78449418\n",
            " 0.76868608 0.79303286 0.77960946 0.75760884 0.76110892 0.74322382\n",
            " 0.75410875 0.72880036 0.75999354 0.75141637 0.78272491 0.79303286\n",
            " 0.78949432 0.79991771 0.79237901 0.78949432 0.81080255 0.82587995\n",
            " 0.81803353 0.83245699 0.83614944 0.82426445 0.84661124 0.84826515\n",
            " 0.85226522 0.86349627 0.84822665 0.82911077 0.81264877 0.80826407\n",
            " 0.81549506 0.84311111 0.86972728 0.87395817 0.86457324 0.86768875\n",
            " 0.85899617 0.82853383 0.834034   0.81707196 0.80634094 0.79260982\n",
            " 0.76891684 0.79941768 0.78857125 0.79868684 0.80111    0.80634094\n",
            " 0.81864897 0.81637962 0.81280268 0.79387901 0.79257132 0.81084105\n",
            " 0.81861047 0.81276417 0.83326474 0.85741926 0.8594577  0.85849614\n",
            " 0.85361141 0.85545763 0.8564961  0.86530409 0.87057344 0.86807337\n",
            " 0.85915008 0.85238063 0.85388063 0.8416111  0.8370341  0.82787998\n",
            " 0.81195642 0.8001309  0.78934497 0.77908117]\n",
            "3 day output [[0.76964456]]\n",
            "4 day input [0.76876298 0.70814598 0.69926113 0.72614648 0.70968448 0.71279994\n",
            " 0.70260736 0.69164552 0.71172301 0.68560692 0.68133758 0.64172113\n",
            " 0.63710562 0.65745229 0.65933696 0.64341345 0.65383684 0.69326098\n",
            " 0.72526182 0.73018505 0.7578781  0.76814759 0.78449418 0.76868608\n",
            " 0.79303286 0.77960946 0.75760884 0.76110892 0.74322382 0.75410875\n",
            " 0.72880036 0.75999354 0.75141637 0.78272491 0.79303286 0.78949432\n",
            " 0.79991771 0.79237901 0.78949432 0.81080255 0.82587995 0.81803353\n",
            " 0.83245699 0.83614944 0.82426445 0.84661124 0.84826515 0.85226522\n",
            " 0.86349627 0.84822665 0.82911077 0.81264877 0.80826407 0.81549506\n",
            " 0.84311111 0.86972728 0.87395817 0.86457324 0.86768875 0.85899617\n",
            " 0.82853383 0.834034   0.81707196 0.80634094 0.79260982 0.76891684\n",
            " 0.79941768 0.78857125 0.79868684 0.80111    0.80634094 0.81864897\n",
            " 0.81637962 0.81280268 0.79387901 0.79257132 0.81084105 0.81861047\n",
            " 0.81276417 0.83326474 0.85741926 0.8594577  0.85849614 0.85361141\n",
            " 0.85545763 0.8564961  0.86530409 0.87057344 0.86807337 0.85915008\n",
            " 0.85238063 0.85388063 0.8416111  0.8370341  0.82787998 0.81195642\n",
            " 0.8001309  0.78934497 0.77908117 0.76964456]\n",
            "4 day output [[0.7609457]]\n",
            "5 day input [0.70814598 0.69926113 0.72614648 0.70968448 0.71279994 0.70260736\n",
            " 0.69164552 0.71172301 0.68560692 0.68133758 0.64172113 0.63710562\n",
            " 0.65745229 0.65933696 0.64341345 0.65383684 0.69326098 0.72526182\n",
            " 0.73018505 0.7578781  0.76814759 0.78449418 0.76868608 0.79303286\n",
            " 0.77960946 0.75760884 0.76110892 0.74322382 0.75410875 0.72880036\n",
            " 0.75999354 0.75141637 0.78272491 0.79303286 0.78949432 0.79991771\n",
            " 0.79237901 0.78949432 0.81080255 0.82587995 0.81803353 0.83245699\n",
            " 0.83614944 0.82426445 0.84661124 0.84826515 0.85226522 0.86349627\n",
            " 0.84822665 0.82911077 0.81264877 0.80826407 0.81549506 0.84311111\n",
            " 0.86972728 0.87395817 0.86457324 0.86768875 0.85899617 0.82853383\n",
            " 0.834034   0.81707196 0.80634094 0.79260982 0.76891684 0.79941768\n",
            " 0.78857125 0.79868684 0.80111    0.80634094 0.81864897 0.81637962\n",
            " 0.81280268 0.79387901 0.79257132 0.81084105 0.81861047 0.81276417\n",
            " 0.83326474 0.85741926 0.8594577  0.85849614 0.85361141 0.85545763\n",
            " 0.8564961  0.86530409 0.87057344 0.86807337 0.85915008 0.85238063\n",
            " 0.85388063 0.8416111  0.8370341  0.82787998 0.81195642 0.8001309\n",
            " 0.78934497 0.77908117 0.76964456 0.76094568]\n",
            "5 day output [[0.7529433]]\n",
            "6 day input [0.69926113 0.72614648 0.70968448 0.71279994 0.70260736 0.69164552\n",
            " 0.71172301 0.68560692 0.68133758 0.64172113 0.63710562 0.65745229\n",
            " 0.65933696 0.64341345 0.65383684 0.69326098 0.72526182 0.73018505\n",
            " 0.7578781  0.76814759 0.78449418 0.76868608 0.79303286 0.77960946\n",
            " 0.75760884 0.76110892 0.74322382 0.75410875 0.72880036 0.75999354\n",
            " 0.75141637 0.78272491 0.79303286 0.78949432 0.79991771 0.79237901\n",
            " 0.78949432 0.81080255 0.82587995 0.81803353 0.83245699 0.83614944\n",
            " 0.82426445 0.84661124 0.84826515 0.85226522 0.86349627 0.84822665\n",
            " 0.82911077 0.81264877 0.80826407 0.81549506 0.84311111 0.86972728\n",
            " 0.87395817 0.86457324 0.86768875 0.85899617 0.82853383 0.834034\n",
            " 0.81707196 0.80634094 0.79260982 0.76891684 0.79941768 0.78857125\n",
            " 0.79868684 0.80111    0.80634094 0.81864897 0.81637962 0.81280268\n",
            " 0.79387901 0.79257132 0.81084105 0.81861047 0.81276417 0.83326474\n",
            " 0.85741926 0.8594577  0.85849614 0.85361141 0.85545763 0.8564961\n",
            " 0.86530409 0.87057344 0.86807337 0.85915008 0.85238063 0.85388063\n",
            " 0.8416111  0.8370341  0.82787998 0.81195642 0.8001309  0.78934497\n",
            " 0.77908117 0.76964456 0.76094568 0.75294328]\n",
            "6 day output [[0.74560803]]\n",
            "7 day input [0.72614648 0.70968448 0.71279994 0.70260736 0.69164552 0.71172301\n",
            " 0.68560692 0.68133758 0.64172113 0.63710562 0.65745229 0.65933696\n",
            " 0.64341345 0.65383684 0.69326098 0.72526182 0.73018505 0.7578781\n",
            " 0.76814759 0.78449418 0.76868608 0.79303286 0.77960946 0.75760884\n",
            " 0.76110892 0.74322382 0.75410875 0.72880036 0.75999354 0.75141637\n",
            " 0.78272491 0.79303286 0.78949432 0.79991771 0.79237901 0.78949432\n",
            " 0.81080255 0.82587995 0.81803353 0.83245699 0.83614944 0.82426445\n",
            " 0.84661124 0.84826515 0.85226522 0.86349627 0.84822665 0.82911077\n",
            " 0.81264877 0.80826407 0.81549506 0.84311111 0.86972728 0.87395817\n",
            " 0.86457324 0.86768875 0.85899617 0.82853383 0.834034   0.81707196\n",
            " 0.80634094 0.79260982 0.76891684 0.79941768 0.78857125 0.79868684\n",
            " 0.80111    0.80634094 0.81864897 0.81637962 0.81280268 0.79387901\n",
            " 0.79257132 0.81084105 0.81861047 0.81276417 0.83326474 0.85741926\n",
            " 0.8594577  0.85849614 0.85361141 0.85545763 0.8564961  0.86530409\n",
            " 0.87057344 0.86807337 0.85915008 0.85238063 0.85388063 0.8416111\n",
            " 0.8370341  0.82787998 0.81195642 0.8001309  0.78934497 0.77908117\n",
            " 0.76964456 0.76094568 0.75294328 0.74560803]\n",
            "7 day output [[0.73891574]]\n",
            "8 day input [0.70968448 0.71279994 0.70260736 0.69164552 0.71172301 0.68560692\n",
            " 0.68133758 0.64172113 0.63710562 0.65745229 0.65933696 0.64341345\n",
            " 0.65383684 0.69326098 0.72526182 0.73018505 0.7578781  0.76814759\n",
            " 0.78449418 0.76868608 0.79303286 0.77960946 0.75760884 0.76110892\n",
            " 0.74322382 0.75410875 0.72880036 0.75999354 0.75141637 0.78272491\n",
            " 0.79303286 0.78949432 0.79991771 0.79237901 0.78949432 0.81080255\n",
            " 0.82587995 0.81803353 0.83245699 0.83614944 0.82426445 0.84661124\n",
            " 0.84826515 0.85226522 0.86349627 0.84822665 0.82911077 0.81264877\n",
            " 0.80826407 0.81549506 0.84311111 0.86972728 0.87395817 0.86457324\n",
            " 0.86768875 0.85899617 0.82853383 0.834034   0.81707196 0.80634094\n",
            " 0.79260982 0.76891684 0.79941768 0.78857125 0.79868684 0.80111\n",
            " 0.80634094 0.81864897 0.81637962 0.81280268 0.79387901 0.79257132\n",
            " 0.81084105 0.81861047 0.81276417 0.83326474 0.85741926 0.8594577\n",
            " 0.85849614 0.85361141 0.85545763 0.8564961  0.86530409 0.87057344\n",
            " 0.86807337 0.85915008 0.85238063 0.85388063 0.8416111  0.8370341\n",
            " 0.82787998 0.81195642 0.8001309  0.78934497 0.77908117 0.76964456\n",
            " 0.76094568 0.75294328 0.74560803 0.73891574]\n",
            "8 day output [[0.73283947]]\n",
            "9 day input [0.71279994 0.70260736 0.69164552 0.71172301 0.68560692 0.68133758\n",
            " 0.64172113 0.63710562 0.65745229 0.65933696 0.64341345 0.65383684\n",
            " 0.69326098 0.72526182 0.73018505 0.7578781  0.76814759 0.78449418\n",
            " 0.76868608 0.79303286 0.77960946 0.75760884 0.76110892 0.74322382\n",
            " 0.75410875 0.72880036 0.75999354 0.75141637 0.78272491 0.79303286\n",
            " 0.78949432 0.79991771 0.79237901 0.78949432 0.81080255 0.82587995\n",
            " 0.81803353 0.83245699 0.83614944 0.82426445 0.84661124 0.84826515\n",
            " 0.85226522 0.86349627 0.84822665 0.82911077 0.81264877 0.80826407\n",
            " 0.81549506 0.84311111 0.86972728 0.87395817 0.86457324 0.86768875\n",
            " 0.85899617 0.82853383 0.834034   0.81707196 0.80634094 0.79260982\n",
            " 0.76891684 0.79941768 0.78857125 0.79868684 0.80111    0.80634094\n",
            " 0.81864897 0.81637962 0.81280268 0.79387901 0.79257132 0.81084105\n",
            " 0.81861047 0.81276417 0.83326474 0.85741926 0.8594577  0.85849614\n",
            " 0.85361141 0.85545763 0.8564961  0.86530409 0.87057344 0.86807337\n",
            " 0.85915008 0.85238063 0.85388063 0.8416111  0.8370341  0.82787998\n",
            " 0.81195642 0.8001309  0.78934497 0.77908117 0.76964456 0.76094568\n",
            " 0.75294328 0.74560803 0.73891574 0.73283947]\n",
            "9 day output [[0.7273449]]\n",
            "10 day input [0.70260736 0.69164552 0.71172301 0.68560692 0.68133758 0.64172113\n",
            " 0.63710562 0.65745229 0.65933696 0.64341345 0.65383684 0.69326098\n",
            " 0.72526182 0.73018505 0.7578781  0.76814759 0.78449418 0.76868608\n",
            " 0.79303286 0.77960946 0.75760884 0.76110892 0.74322382 0.75410875\n",
            " 0.72880036 0.75999354 0.75141637 0.78272491 0.79303286 0.78949432\n",
            " 0.79991771 0.79237901 0.78949432 0.81080255 0.82587995 0.81803353\n",
            " 0.83245699 0.83614944 0.82426445 0.84661124 0.84826515 0.85226522\n",
            " 0.86349627 0.84822665 0.82911077 0.81264877 0.80826407 0.81549506\n",
            " 0.84311111 0.86972728 0.87395817 0.86457324 0.86768875 0.85899617\n",
            " 0.82853383 0.834034   0.81707196 0.80634094 0.79260982 0.76891684\n",
            " 0.79941768 0.78857125 0.79868684 0.80111    0.80634094 0.81864897\n",
            " 0.81637962 0.81280268 0.79387901 0.79257132 0.81084105 0.81861047\n",
            " 0.81276417 0.83326474 0.85741926 0.8594577  0.85849614 0.85361141\n",
            " 0.85545763 0.8564961  0.86530409 0.87057344 0.86807337 0.85915008\n",
            " 0.85238063 0.85388063 0.8416111  0.8370341  0.82787998 0.81195642\n",
            " 0.8001309  0.78934497 0.77908117 0.76964456 0.76094568 0.75294328\n",
            " 0.74560803 0.73891574 0.73283947 0.72734487]\n",
            "10 day output [[0.72239286]]\n",
            "11 day input [0.69164552 0.71172301 0.68560692 0.68133758 0.64172113 0.63710562\n",
            " 0.65745229 0.65933696 0.64341345 0.65383684 0.69326098 0.72526182\n",
            " 0.73018505 0.7578781  0.76814759 0.78449418 0.76868608 0.79303286\n",
            " 0.77960946 0.75760884 0.76110892 0.74322382 0.75410875 0.72880036\n",
            " 0.75999354 0.75141637 0.78272491 0.79303286 0.78949432 0.79991771\n",
            " 0.79237901 0.78949432 0.81080255 0.82587995 0.81803353 0.83245699\n",
            " 0.83614944 0.82426445 0.84661124 0.84826515 0.85226522 0.86349627\n",
            " 0.84822665 0.82911077 0.81264877 0.80826407 0.81549506 0.84311111\n",
            " 0.86972728 0.87395817 0.86457324 0.86768875 0.85899617 0.82853383\n",
            " 0.834034   0.81707196 0.80634094 0.79260982 0.76891684 0.79941768\n",
            " 0.78857125 0.79868684 0.80111    0.80634094 0.81864897 0.81637962\n",
            " 0.81280268 0.79387901 0.79257132 0.81084105 0.81861047 0.81276417\n",
            " 0.83326474 0.85741926 0.8594577  0.85849614 0.85361141 0.85545763\n",
            " 0.8564961  0.86530409 0.87057344 0.86807337 0.85915008 0.85238063\n",
            " 0.85388063 0.8416111  0.8370341  0.82787998 0.81195642 0.8001309\n",
            " 0.78934497 0.77908117 0.76964456 0.76094568 0.75294328 0.74560803\n",
            " 0.73891574 0.73283947 0.72734487 0.72239286]\n",
            "11 day output [[0.71793795]]\n",
            "12 day input [0.71172301 0.68560692 0.68133758 0.64172113 0.63710562 0.65745229\n",
            " 0.65933696 0.64341345 0.65383684 0.69326098 0.72526182 0.73018505\n",
            " 0.7578781  0.76814759 0.78449418 0.76868608 0.79303286 0.77960946\n",
            " 0.75760884 0.76110892 0.74322382 0.75410875 0.72880036 0.75999354\n",
            " 0.75141637 0.78272491 0.79303286 0.78949432 0.79991771 0.79237901\n",
            " 0.78949432 0.81080255 0.82587995 0.81803353 0.83245699 0.83614944\n",
            " 0.82426445 0.84661124 0.84826515 0.85226522 0.86349627 0.84822665\n",
            " 0.82911077 0.81264877 0.80826407 0.81549506 0.84311111 0.86972728\n",
            " 0.87395817 0.86457324 0.86768875 0.85899617 0.82853383 0.834034\n",
            " 0.81707196 0.80634094 0.79260982 0.76891684 0.79941768 0.78857125\n",
            " 0.79868684 0.80111    0.80634094 0.81864897 0.81637962 0.81280268\n",
            " 0.79387901 0.79257132 0.81084105 0.81861047 0.81276417 0.83326474\n",
            " 0.85741926 0.8594577  0.85849614 0.85361141 0.85545763 0.8564961\n",
            " 0.86530409 0.87057344 0.86807337 0.85915008 0.85238063 0.85388063\n",
            " 0.8416111  0.8370341  0.82787998 0.81195642 0.8001309  0.78934497\n",
            " 0.77908117 0.76964456 0.76094568 0.75294328 0.74560803 0.73891574\n",
            " 0.73283947 0.72734487 0.72239286 0.71793795]\n",
            "12 day output [[0.7139325]]\n",
            "13 day input [0.68560692 0.68133758 0.64172113 0.63710562 0.65745229 0.65933696\n",
            " 0.64341345 0.65383684 0.69326098 0.72526182 0.73018505 0.7578781\n",
            " 0.76814759 0.78449418 0.76868608 0.79303286 0.77960946 0.75760884\n",
            " 0.76110892 0.74322382 0.75410875 0.72880036 0.75999354 0.75141637\n",
            " 0.78272491 0.79303286 0.78949432 0.79991771 0.79237901 0.78949432\n",
            " 0.81080255 0.82587995 0.81803353 0.83245699 0.83614944 0.82426445\n",
            " 0.84661124 0.84826515 0.85226522 0.86349627 0.84822665 0.82911077\n",
            " 0.81264877 0.80826407 0.81549506 0.84311111 0.86972728 0.87395817\n",
            " 0.86457324 0.86768875 0.85899617 0.82853383 0.834034   0.81707196\n",
            " 0.80634094 0.79260982 0.76891684 0.79941768 0.78857125 0.79868684\n",
            " 0.80111    0.80634094 0.81864897 0.81637962 0.81280268 0.79387901\n",
            " 0.79257132 0.81084105 0.81861047 0.81276417 0.83326474 0.85741926\n",
            " 0.8594577  0.85849614 0.85361141 0.85545763 0.8564961  0.86530409\n",
            " 0.87057344 0.86807337 0.85915008 0.85238063 0.85388063 0.8416111\n",
            " 0.8370341  0.82787998 0.81195642 0.8001309  0.78934497 0.77908117\n",
            " 0.76964456 0.76094568 0.75294328 0.74560803 0.73891574 0.73283947\n",
            " 0.72734487 0.72239286 0.71793795 0.71393251]\n",
            "13 day output [[0.71032804]]\n",
            "14 day input [0.68133758 0.64172113 0.63710562 0.65745229 0.65933696 0.64341345\n",
            " 0.65383684 0.69326098 0.72526182 0.73018505 0.7578781  0.76814759\n",
            " 0.78449418 0.76868608 0.79303286 0.77960946 0.75760884 0.76110892\n",
            " 0.74322382 0.75410875 0.72880036 0.75999354 0.75141637 0.78272491\n",
            " 0.79303286 0.78949432 0.79991771 0.79237901 0.78949432 0.81080255\n",
            " 0.82587995 0.81803353 0.83245699 0.83614944 0.82426445 0.84661124\n",
            " 0.84826515 0.85226522 0.86349627 0.84822665 0.82911077 0.81264877\n",
            " 0.80826407 0.81549506 0.84311111 0.86972728 0.87395817 0.86457324\n",
            " 0.86768875 0.85899617 0.82853383 0.834034   0.81707196 0.80634094\n",
            " 0.79260982 0.76891684 0.79941768 0.78857125 0.79868684 0.80111\n",
            " 0.80634094 0.81864897 0.81637962 0.81280268 0.79387901 0.79257132\n",
            " 0.81084105 0.81861047 0.81276417 0.83326474 0.85741926 0.8594577\n",
            " 0.85849614 0.85361141 0.85545763 0.8564961  0.86530409 0.87057344\n",
            " 0.86807337 0.85915008 0.85238063 0.85388063 0.8416111  0.8370341\n",
            " 0.82787998 0.81195642 0.8001309  0.78934497 0.77908117 0.76964456\n",
            " 0.76094568 0.75294328 0.74560803 0.73891574 0.73283947 0.72734487\n",
            " 0.72239286 0.71793795 0.71393251 0.71032804]\n",
            "14 day output [[0.7070786]]\n",
            "15 day input [0.64172113 0.63710562 0.65745229 0.65933696 0.64341345 0.65383684\n",
            " 0.69326098 0.72526182 0.73018505 0.7578781  0.76814759 0.78449418\n",
            " 0.76868608 0.79303286 0.77960946 0.75760884 0.76110892 0.74322382\n",
            " 0.75410875 0.72880036 0.75999354 0.75141637 0.78272491 0.79303286\n",
            " 0.78949432 0.79991771 0.79237901 0.78949432 0.81080255 0.82587995\n",
            " 0.81803353 0.83245699 0.83614944 0.82426445 0.84661124 0.84826515\n",
            " 0.85226522 0.86349627 0.84822665 0.82911077 0.81264877 0.80826407\n",
            " 0.81549506 0.84311111 0.86972728 0.87395817 0.86457324 0.86768875\n",
            " 0.85899617 0.82853383 0.834034   0.81707196 0.80634094 0.79260982\n",
            " 0.76891684 0.79941768 0.78857125 0.79868684 0.80111    0.80634094\n",
            " 0.81864897 0.81637962 0.81280268 0.79387901 0.79257132 0.81084105\n",
            " 0.81861047 0.81276417 0.83326474 0.85741926 0.8594577  0.85849614\n",
            " 0.85361141 0.85545763 0.8564961  0.86530409 0.87057344 0.86807337\n",
            " 0.85915008 0.85238063 0.85388063 0.8416111  0.8370341  0.82787998\n",
            " 0.81195642 0.8001309  0.78934497 0.77908117 0.76964456 0.76094568\n",
            " 0.75294328 0.74560803 0.73891574 0.73283947 0.72734487 0.72239286\n",
            " 0.71793795 0.71393251 0.71032804 0.70707858]\n",
            "15 day output [[0.70414066]]\n",
            "16 day input [0.63710562 0.65745229 0.65933696 0.64341345 0.65383684 0.69326098\n",
            " 0.72526182 0.73018505 0.7578781  0.76814759 0.78449418 0.76868608\n",
            " 0.79303286 0.77960946 0.75760884 0.76110892 0.74322382 0.75410875\n",
            " 0.72880036 0.75999354 0.75141637 0.78272491 0.79303286 0.78949432\n",
            " 0.79991771 0.79237901 0.78949432 0.81080255 0.82587995 0.81803353\n",
            " 0.83245699 0.83614944 0.82426445 0.84661124 0.84826515 0.85226522\n",
            " 0.86349627 0.84822665 0.82911077 0.81264877 0.80826407 0.81549506\n",
            " 0.84311111 0.86972728 0.87395817 0.86457324 0.86768875 0.85899617\n",
            " 0.82853383 0.834034   0.81707196 0.80634094 0.79260982 0.76891684\n",
            " 0.79941768 0.78857125 0.79868684 0.80111    0.80634094 0.81864897\n",
            " 0.81637962 0.81280268 0.79387901 0.79257132 0.81084105 0.81861047\n",
            " 0.81276417 0.83326474 0.85741926 0.8594577  0.85849614 0.85361141\n",
            " 0.85545763 0.8564961  0.86530409 0.87057344 0.86807337 0.85915008\n",
            " 0.85238063 0.85388063 0.8416111  0.8370341  0.82787998 0.81195642\n",
            " 0.8001309  0.78934497 0.77908117 0.76964456 0.76094568 0.75294328\n",
            " 0.74560803 0.73891574 0.73283947 0.72734487 0.72239286 0.71793795\n",
            " 0.71393251 0.71032804 0.70707858 0.70414066]\n",
            "16 day output [[0.7014748]]\n",
            "17 day input [0.65745229 0.65933696 0.64341345 0.65383684 0.69326098 0.72526182\n",
            " 0.73018505 0.7578781  0.76814759 0.78449418 0.76868608 0.79303286\n",
            " 0.77960946 0.75760884 0.76110892 0.74322382 0.75410875 0.72880036\n",
            " 0.75999354 0.75141637 0.78272491 0.79303286 0.78949432 0.79991771\n",
            " 0.79237901 0.78949432 0.81080255 0.82587995 0.81803353 0.83245699\n",
            " 0.83614944 0.82426445 0.84661124 0.84826515 0.85226522 0.86349627\n",
            " 0.84822665 0.82911077 0.81264877 0.80826407 0.81549506 0.84311111\n",
            " 0.86972728 0.87395817 0.86457324 0.86768875 0.85899617 0.82853383\n",
            " 0.834034   0.81707196 0.80634094 0.79260982 0.76891684 0.79941768\n",
            " 0.78857125 0.79868684 0.80111    0.80634094 0.81864897 0.81637962\n",
            " 0.81280268 0.79387901 0.79257132 0.81084105 0.81861047 0.81276417\n",
            " 0.83326474 0.85741926 0.8594577  0.85849614 0.85361141 0.85545763\n",
            " 0.8564961  0.86530409 0.87057344 0.86807337 0.85915008 0.85238063\n",
            " 0.85388063 0.8416111  0.8370341  0.82787998 0.81195642 0.8001309\n",
            " 0.78934497 0.77908117 0.76964456 0.76094568 0.75294328 0.74560803\n",
            " 0.73891574 0.73283947 0.72734487 0.72239286 0.71793795 0.71393251\n",
            " 0.71032804 0.70707858 0.70414066 0.70147479]\n",
            "17 day output [[0.69904506]]\n",
            "18 day input [0.65933696 0.64341345 0.65383684 0.69326098 0.72526182 0.73018505\n",
            " 0.7578781  0.76814759 0.78449418 0.76868608 0.79303286 0.77960946\n",
            " 0.75760884 0.76110892 0.74322382 0.75410875 0.72880036 0.75999354\n",
            " 0.75141637 0.78272491 0.79303286 0.78949432 0.79991771 0.79237901\n",
            " 0.78949432 0.81080255 0.82587995 0.81803353 0.83245699 0.83614944\n",
            " 0.82426445 0.84661124 0.84826515 0.85226522 0.86349627 0.84822665\n",
            " 0.82911077 0.81264877 0.80826407 0.81549506 0.84311111 0.86972728\n",
            " 0.87395817 0.86457324 0.86768875 0.85899617 0.82853383 0.834034\n",
            " 0.81707196 0.80634094 0.79260982 0.76891684 0.79941768 0.78857125\n",
            " 0.79868684 0.80111    0.80634094 0.81864897 0.81637962 0.81280268\n",
            " 0.79387901 0.79257132 0.81084105 0.81861047 0.81276417 0.83326474\n",
            " 0.85741926 0.8594577  0.85849614 0.85361141 0.85545763 0.8564961\n",
            " 0.86530409 0.87057344 0.86807337 0.85915008 0.85238063 0.85388063\n",
            " 0.8416111  0.8370341  0.82787998 0.81195642 0.8001309  0.78934497\n",
            " 0.77908117 0.76964456 0.76094568 0.75294328 0.74560803 0.73891574\n",
            " 0.73283947 0.72734487 0.72239286 0.71793795 0.71393251 0.71032804\n",
            " 0.70707858 0.70414066 0.70147479 0.69904506]\n",
            "18 day output [[0.69681966]]\n",
            "19 day input [0.64341345 0.65383684 0.69326098 0.72526182 0.73018505 0.7578781\n",
            " 0.76814759 0.78449418 0.76868608 0.79303286 0.77960946 0.75760884\n",
            " 0.76110892 0.74322382 0.75410875 0.72880036 0.75999354 0.75141637\n",
            " 0.78272491 0.79303286 0.78949432 0.79991771 0.79237901 0.78949432\n",
            " 0.81080255 0.82587995 0.81803353 0.83245699 0.83614944 0.82426445\n",
            " 0.84661124 0.84826515 0.85226522 0.86349627 0.84822665 0.82911077\n",
            " 0.81264877 0.80826407 0.81549506 0.84311111 0.86972728 0.87395817\n",
            " 0.86457324 0.86768875 0.85899617 0.82853383 0.834034   0.81707196\n",
            " 0.80634094 0.79260982 0.76891684 0.79941768 0.78857125 0.79868684\n",
            " 0.80111    0.80634094 0.81864897 0.81637962 0.81280268 0.79387901\n",
            " 0.79257132 0.81084105 0.81861047 0.81276417 0.83326474 0.85741926\n",
            " 0.8594577  0.85849614 0.85361141 0.85545763 0.8564961  0.86530409\n",
            " 0.87057344 0.86807337 0.85915008 0.85238063 0.85388063 0.8416111\n",
            " 0.8370341  0.82787998 0.81195642 0.8001309  0.78934497 0.77908117\n",
            " 0.76964456 0.76094568 0.75294328 0.74560803 0.73891574 0.73283947\n",
            " 0.72734487 0.72239286 0.71793795 0.71393251 0.71032804 0.70707858\n",
            " 0.70414066 0.70147479 0.69904506 0.69681966]\n",
            "19 day output [[0.69477075]]\n",
            "20 day input [0.65383684 0.69326098 0.72526182 0.73018505 0.7578781  0.76814759\n",
            " 0.78449418 0.76868608 0.79303286 0.77960946 0.75760884 0.76110892\n",
            " 0.74322382 0.75410875 0.72880036 0.75999354 0.75141637 0.78272491\n",
            " 0.79303286 0.78949432 0.79991771 0.79237901 0.78949432 0.81080255\n",
            " 0.82587995 0.81803353 0.83245699 0.83614944 0.82426445 0.84661124\n",
            " 0.84826515 0.85226522 0.86349627 0.84822665 0.82911077 0.81264877\n",
            " 0.80826407 0.81549506 0.84311111 0.86972728 0.87395817 0.86457324\n",
            " 0.86768875 0.85899617 0.82853383 0.834034   0.81707196 0.80634094\n",
            " 0.79260982 0.76891684 0.79941768 0.78857125 0.79868684 0.80111\n",
            " 0.80634094 0.81864897 0.81637962 0.81280268 0.79387901 0.79257132\n",
            " 0.81084105 0.81861047 0.81276417 0.83326474 0.85741926 0.8594577\n",
            " 0.85849614 0.85361141 0.85545763 0.8564961  0.86530409 0.87057344\n",
            " 0.86807337 0.85915008 0.85238063 0.85388063 0.8416111  0.8370341\n",
            " 0.82787998 0.81195642 0.8001309  0.78934497 0.77908117 0.76964456\n",
            " 0.76094568 0.75294328 0.74560803 0.73891574 0.73283947 0.72734487\n",
            " 0.72239286 0.71793795 0.71393251 0.71032804 0.70707858 0.70414066\n",
            " 0.70147479 0.69904506 0.69681966 0.69477075]\n",
            "20 day output [[0.6928736]]\n",
            "21 day input [0.69326098 0.72526182 0.73018505 0.7578781  0.76814759 0.78449418\n",
            " 0.76868608 0.79303286 0.77960946 0.75760884 0.76110892 0.74322382\n",
            " 0.75410875 0.72880036 0.75999354 0.75141637 0.78272491 0.79303286\n",
            " 0.78949432 0.79991771 0.79237901 0.78949432 0.81080255 0.82587995\n",
            " 0.81803353 0.83245699 0.83614944 0.82426445 0.84661124 0.84826515\n",
            " 0.85226522 0.86349627 0.84822665 0.82911077 0.81264877 0.80826407\n",
            " 0.81549506 0.84311111 0.86972728 0.87395817 0.86457324 0.86768875\n",
            " 0.85899617 0.82853383 0.834034   0.81707196 0.80634094 0.79260982\n",
            " 0.76891684 0.79941768 0.78857125 0.79868684 0.80111    0.80634094\n",
            " 0.81864897 0.81637962 0.81280268 0.79387901 0.79257132 0.81084105\n",
            " 0.81861047 0.81276417 0.83326474 0.85741926 0.8594577  0.85849614\n",
            " 0.85361141 0.85545763 0.8564961  0.86530409 0.87057344 0.86807337\n",
            " 0.85915008 0.85238063 0.85388063 0.8416111  0.8370341  0.82787998\n",
            " 0.81195642 0.8001309  0.78934497 0.77908117 0.76964456 0.76094568\n",
            " 0.75294328 0.74560803 0.73891574 0.73283947 0.72734487 0.72239286\n",
            " 0.71793795 0.71393251 0.71032804 0.70707858 0.70414066 0.70147479\n",
            " 0.69904506 0.69681966 0.69477075 0.6928736 ]\n",
            "21 day output [[0.6911072]]\n",
            "22 day input [0.72526182 0.73018505 0.7578781  0.76814759 0.78449418 0.76868608\n",
            " 0.79303286 0.77960946 0.75760884 0.76110892 0.74322382 0.75410875\n",
            " 0.72880036 0.75999354 0.75141637 0.78272491 0.79303286 0.78949432\n",
            " 0.79991771 0.79237901 0.78949432 0.81080255 0.82587995 0.81803353\n",
            " 0.83245699 0.83614944 0.82426445 0.84661124 0.84826515 0.85226522\n",
            " 0.86349627 0.84822665 0.82911077 0.81264877 0.80826407 0.81549506\n",
            " 0.84311111 0.86972728 0.87395817 0.86457324 0.86768875 0.85899617\n",
            " 0.82853383 0.834034   0.81707196 0.80634094 0.79260982 0.76891684\n",
            " 0.79941768 0.78857125 0.79868684 0.80111    0.80634094 0.81864897\n",
            " 0.81637962 0.81280268 0.79387901 0.79257132 0.81084105 0.81861047\n",
            " 0.81276417 0.83326474 0.85741926 0.8594577  0.85849614 0.85361141\n",
            " 0.85545763 0.8564961  0.86530409 0.87057344 0.86807337 0.85915008\n",
            " 0.85238063 0.85388063 0.8416111  0.8370341  0.82787998 0.81195642\n",
            " 0.8001309  0.78934497 0.77908117 0.76964456 0.76094568 0.75294328\n",
            " 0.74560803 0.73891574 0.73283947 0.72734487 0.72239286 0.71793795\n",
            " 0.71393251 0.71032804 0.70707858 0.70414066 0.70147479 0.69904506\n",
            " 0.69681966 0.69477075 0.6928736  0.69110721]\n",
            "22 day output [[0.6894539]]\n",
            "23 day input [0.73018505 0.7578781  0.76814759 0.78449418 0.76868608 0.79303286\n",
            " 0.77960946 0.75760884 0.76110892 0.74322382 0.75410875 0.72880036\n",
            " 0.75999354 0.75141637 0.78272491 0.79303286 0.78949432 0.79991771\n",
            " 0.79237901 0.78949432 0.81080255 0.82587995 0.81803353 0.83245699\n",
            " 0.83614944 0.82426445 0.84661124 0.84826515 0.85226522 0.86349627\n",
            " 0.84822665 0.82911077 0.81264877 0.80826407 0.81549506 0.84311111\n",
            " 0.86972728 0.87395817 0.86457324 0.86768875 0.85899617 0.82853383\n",
            " 0.834034   0.81707196 0.80634094 0.79260982 0.76891684 0.79941768\n",
            " 0.78857125 0.79868684 0.80111    0.80634094 0.81864897 0.81637962\n",
            " 0.81280268 0.79387901 0.79257132 0.81084105 0.81861047 0.81276417\n",
            " 0.83326474 0.85741926 0.8594577  0.85849614 0.85361141 0.85545763\n",
            " 0.8564961  0.86530409 0.87057344 0.86807337 0.85915008 0.85238063\n",
            " 0.85388063 0.8416111  0.8370341  0.82787998 0.81195642 0.8001309\n",
            " 0.78934497 0.77908117 0.76964456 0.76094568 0.75294328 0.74560803\n",
            " 0.73891574 0.73283947 0.72734487 0.72239286 0.71793795 0.71393251\n",
            " 0.71032804 0.70707858 0.70414066 0.70147479 0.69904506 0.69681966\n",
            " 0.69477075 0.6928736  0.69110721 0.6894539 ]\n",
            "23 day output [[0.6878975]]\n",
            "24 day input [0.7578781  0.76814759 0.78449418 0.76868608 0.79303286 0.77960946\n",
            " 0.75760884 0.76110892 0.74322382 0.75410875 0.72880036 0.75999354\n",
            " 0.75141637 0.78272491 0.79303286 0.78949432 0.79991771 0.79237901\n",
            " 0.78949432 0.81080255 0.82587995 0.81803353 0.83245699 0.83614944\n",
            " 0.82426445 0.84661124 0.84826515 0.85226522 0.86349627 0.84822665\n",
            " 0.82911077 0.81264877 0.80826407 0.81549506 0.84311111 0.86972728\n",
            " 0.87395817 0.86457324 0.86768875 0.85899617 0.82853383 0.834034\n",
            " 0.81707196 0.80634094 0.79260982 0.76891684 0.79941768 0.78857125\n",
            " 0.79868684 0.80111    0.80634094 0.81864897 0.81637962 0.81280268\n",
            " 0.79387901 0.79257132 0.81084105 0.81861047 0.81276417 0.83326474\n",
            " 0.85741926 0.8594577  0.85849614 0.85361141 0.85545763 0.8564961\n",
            " 0.86530409 0.87057344 0.86807337 0.85915008 0.85238063 0.85388063\n",
            " 0.8416111  0.8370341  0.82787998 0.81195642 0.8001309  0.78934497\n",
            " 0.77908117 0.76964456 0.76094568 0.75294328 0.74560803 0.73891574\n",
            " 0.73283947 0.72734487 0.72239286 0.71793795 0.71393251 0.71032804\n",
            " 0.70707858 0.70414066 0.70147479 0.69904506 0.69681966 0.69477075\n",
            " 0.6928736  0.69110721 0.6894539  0.6878975 ]\n",
            "24 day output [[0.6864259]]\n",
            "25 day input [0.76814759 0.78449418 0.76868608 0.79303286 0.77960946 0.75760884\n",
            " 0.76110892 0.74322382 0.75410875 0.72880036 0.75999354 0.75141637\n",
            " 0.78272491 0.79303286 0.78949432 0.79991771 0.79237901 0.78949432\n",
            " 0.81080255 0.82587995 0.81803353 0.83245699 0.83614944 0.82426445\n",
            " 0.84661124 0.84826515 0.85226522 0.86349627 0.84822665 0.82911077\n",
            " 0.81264877 0.80826407 0.81549506 0.84311111 0.86972728 0.87395817\n",
            " 0.86457324 0.86768875 0.85899617 0.82853383 0.834034   0.81707196\n",
            " 0.80634094 0.79260982 0.76891684 0.79941768 0.78857125 0.79868684\n",
            " 0.80111    0.80634094 0.81864897 0.81637962 0.81280268 0.79387901\n",
            " 0.79257132 0.81084105 0.81861047 0.81276417 0.83326474 0.85741926\n",
            " 0.8594577  0.85849614 0.85361141 0.85545763 0.8564961  0.86530409\n",
            " 0.87057344 0.86807337 0.85915008 0.85238063 0.85388063 0.8416111\n",
            " 0.8370341  0.82787998 0.81195642 0.8001309  0.78934497 0.77908117\n",
            " 0.76964456 0.76094568 0.75294328 0.74560803 0.73891574 0.73283947\n",
            " 0.72734487 0.72239286 0.71793795 0.71393251 0.71032804 0.70707858\n",
            " 0.70414066 0.70147479 0.69904506 0.69681966 0.69477075 0.6928736\n",
            " 0.69110721 0.6894539  0.6878975  0.68642592]\n",
            "25 day output [[0.68502754]]\n",
            "26 day input [0.78449418 0.76868608 0.79303286 0.77960946 0.75760884 0.76110892\n",
            " 0.74322382 0.75410875 0.72880036 0.75999354 0.75141637 0.78272491\n",
            " 0.79303286 0.78949432 0.79991771 0.79237901 0.78949432 0.81080255\n",
            " 0.82587995 0.81803353 0.83245699 0.83614944 0.82426445 0.84661124\n",
            " 0.84826515 0.85226522 0.86349627 0.84822665 0.82911077 0.81264877\n",
            " 0.80826407 0.81549506 0.84311111 0.86972728 0.87395817 0.86457324\n",
            " 0.86768875 0.85899617 0.82853383 0.834034   0.81707196 0.80634094\n",
            " 0.79260982 0.76891684 0.79941768 0.78857125 0.79868684 0.80111\n",
            " 0.80634094 0.81864897 0.81637962 0.81280268 0.79387901 0.79257132\n",
            " 0.81084105 0.81861047 0.81276417 0.83326474 0.85741926 0.8594577\n",
            " 0.85849614 0.85361141 0.85545763 0.8564961  0.86530409 0.87057344\n",
            " 0.86807337 0.85915008 0.85238063 0.85388063 0.8416111  0.8370341\n",
            " 0.82787998 0.81195642 0.8001309  0.78934497 0.77908117 0.76964456\n",
            " 0.76094568 0.75294328 0.74560803 0.73891574 0.73283947 0.72734487\n",
            " 0.72239286 0.71793795 0.71393251 0.71032804 0.70707858 0.70414066\n",
            " 0.70147479 0.69904506 0.69681966 0.69477075 0.6928736  0.69110721\n",
            " 0.6894539  0.6878975  0.68642592 0.68502754]\n",
            "26 day output [[0.68369323]]\n",
            "27 day input [0.76868608 0.79303286 0.77960946 0.75760884 0.76110892 0.74322382\n",
            " 0.75410875 0.72880036 0.75999354 0.75141637 0.78272491 0.79303286\n",
            " 0.78949432 0.79991771 0.79237901 0.78949432 0.81080255 0.82587995\n",
            " 0.81803353 0.83245699 0.83614944 0.82426445 0.84661124 0.84826515\n",
            " 0.85226522 0.86349627 0.84822665 0.82911077 0.81264877 0.80826407\n",
            " 0.81549506 0.84311111 0.86972728 0.87395817 0.86457324 0.86768875\n",
            " 0.85899617 0.82853383 0.834034   0.81707196 0.80634094 0.79260982\n",
            " 0.76891684 0.79941768 0.78857125 0.79868684 0.80111    0.80634094\n",
            " 0.81864897 0.81637962 0.81280268 0.79387901 0.79257132 0.81084105\n",
            " 0.81861047 0.81276417 0.83326474 0.85741926 0.8594577  0.85849614\n",
            " 0.85361141 0.85545763 0.8564961  0.86530409 0.87057344 0.86807337\n",
            " 0.85915008 0.85238063 0.85388063 0.8416111  0.8370341  0.82787998\n",
            " 0.81195642 0.8001309  0.78934497 0.77908117 0.76964456 0.76094568\n",
            " 0.75294328 0.74560803 0.73891574 0.73283947 0.72734487 0.72239286\n",
            " 0.71793795 0.71393251 0.71032804 0.70707858 0.70414066 0.70147479\n",
            " 0.69904506 0.69681966 0.69477075 0.6928736  0.69110721 0.6894539\n",
            " 0.6878975  0.68642592 0.68502754 0.68369323]\n",
            "27 day output [[0.682416]]\n",
            "28 day input [0.79303286 0.77960946 0.75760884 0.76110892 0.74322382 0.75410875\n",
            " 0.72880036 0.75999354 0.75141637 0.78272491 0.79303286 0.78949432\n",
            " 0.79991771 0.79237901 0.78949432 0.81080255 0.82587995 0.81803353\n",
            " 0.83245699 0.83614944 0.82426445 0.84661124 0.84826515 0.85226522\n",
            " 0.86349627 0.84822665 0.82911077 0.81264877 0.80826407 0.81549506\n",
            " 0.84311111 0.86972728 0.87395817 0.86457324 0.86768875 0.85899617\n",
            " 0.82853383 0.834034   0.81707196 0.80634094 0.79260982 0.76891684\n",
            " 0.79941768 0.78857125 0.79868684 0.80111    0.80634094 0.81864897\n",
            " 0.81637962 0.81280268 0.79387901 0.79257132 0.81084105 0.81861047\n",
            " 0.81276417 0.83326474 0.85741926 0.8594577  0.85849614 0.85361141\n",
            " 0.85545763 0.8564961  0.86530409 0.87057344 0.86807337 0.85915008\n",
            " 0.85238063 0.85388063 0.8416111  0.8370341  0.82787998 0.81195642\n",
            " 0.8001309  0.78934497 0.77908117 0.76964456 0.76094568 0.75294328\n",
            " 0.74560803 0.73891574 0.73283947 0.72734487 0.72239286 0.71793795\n",
            " 0.71393251 0.71032804 0.70707858 0.70414066 0.70147479 0.69904506\n",
            " 0.69681966 0.69477075 0.6928736  0.69110721 0.6894539  0.6878975\n",
            " 0.68642592 0.68502754 0.68369323 0.68241602]\n",
            "28 day output [[0.68119013]]\n",
            "29 day input [0.77960946 0.75760884 0.76110892 0.74322382 0.75410875 0.72880036\n",
            " 0.75999354 0.75141637 0.78272491 0.79303286 0.78949432 0.79991771\n",
            " 0.79237901 0.78949432 0.81080255 0.82587995 0.81803353 0.83245699\n",
            " 0.83614944 0.82426445 0.84661124 0.84826515 0.85226522 0.86349627\n",
            " 0.84822665 0.82911077 0.81264877 0.80826407 0.81549506 0.84311111\n",
            " 0.86972728 0.87395817 0.86457324 0.86768875 0.85899617 0.82853383\n",
            " 0.834034   0.81707196 0.80634094 0.79260982 0.76891684 0.79941768\n",
            " 0.78857125 0.79868684 0.80111    0.80634094 0.81864897 0.81637962\n",
            " 0.81280268 0.79387901 0.79257132 0.81084105 0.81861047 0.81276417\n",
            " 0.83326474 0.85741926 0.8594577  0.85849614 0.85361141 0.85545763\n",
            " 0.8564961  0.86530409 0.87057344 0.86807337 0.85915008 0.85238063\n",
            " 0.85388063 0.8416111  0.8370341  0.82787998 0.81195642 0.8001309\n",
            " 0.78934497 0.77908117 0.76964456 0.76094568 0.75294328 0.74560803\n",
            " 0.73891574 0.73283947 0.72734487 0.72239286 0.71793795 0.71393251\n",
            " 0.71032804 0.70707858 0.70414066 0.70147479 0.69904506 0.69681966\n",
            " 0.69477075 0.6928736  0.69110721 0.6894539  0.6878975  0.68642592\n",
            " 0.68502754 0.68369323 0.68241602 0.68119013]\n",
            "29 day output [[0.68000966]]\n",
            "[[0.8001309037208557], [0.7893449664115906], [0.7790811657905579], [0.769644558429718], [0.7609456777572632], [0.7529432773590088], [0.7456080317497253], [0.738915741443634], [0.7328394651412964], [0.7273448705673218], [0.7223928570747375], [0.7179379463195801], [0.7139325141906738], [0.7103280425071716], [0.7070785760879517], [0.7041406631469727], [0.7014747858047485], [0.6990450620651245], [0.6968196630477905], [0.6947707533836365], [0.6928735971450806], [0.6911072134971619], [0.6894538998603821], [0.6878975033760071], [0.6864259243011475], [0.685027539730072], [0.6836932301521301], [0.6824160218238831], [0.6811901330947876], [0.680009663105011]]\n"
          ]
        }
      ],
      "source": [
        "# demonstrate prediction for next 30 days\n",
        "lst_output = []\n",
        "n_steps = 100\n",
        "i = 0\n",
        "while(i < 30):\n",
        "    \n",
        "    if(len(temp_input) > 100):\n",
        "        # print(temp_input)\n",
        "        x_input = np.array(temp_input[1:])\n",
        "        print(\"{} day input {}\".format(i,x_input))\n",
        "        x_input = x_input.reshape(1,-1)\n",
        "        x_input = x_input.reshape((1, n_steps, 1))\n",
        "        # print(x_input)\n",
        "        yhat = model.predict(x_input, verbose = 0)\n",
        "        print(\"{} day output {}\".format(i, yhat))\n",
        "        temp_input.extend(yhat[0].tolist())\n",
        "        temp_input = temp_input[1:]\n",
        "        # print(temp_input)\n",
        "        lst_output.extend(yhat.tolist())\n",
        "        i = i+1\n",
        "    else:\n",
        "        x_input = x_input.reshape((1, n_steps,1))\n",
        "        yhat = model.predict(x_input, verbose = 0)\n",
        "        print(yhat[0])\n",
        "        temp_input.extend(yhat[0].tolist())\n",
        "        print(len(temp_input))\n",
        "        lst_output.extend(yhat.tolist())\n",
        "        i = i+1\n",
        "    \n",
        "print(lst_output)"
      ]
    },
    {
      "cell_type": "code",
      "execution_count": 68,
      "metadata": {
        "id": "UfalI-AiqIdM"
      },
      "outputs": [],
      "source": [
        "# creating an instance of ndarray with evenly spaced values\n",
        "day_new = np.arange(1, 101)\n",
        "day_pred = np.arange(101, 131)"
      ]
    },
    {
      "cell_type": "code",
      "execution_count": 69,
      "metadata": {
        "id": "_FLFJd9KqIdN",
        "outputId": "db2c9d58-2acf-4452-bfd6-e6801a1602bd",
        "colab": {
          "base_uri": "https://localhost:8080/"
        }
      },
      "outputs": [
        {
          "output_type": "stream",
          "name": "stdout",
          "text": [
            "6102\n"
          ]
        }
      ],
      "source": [
        "print(len(df_close))"
      ]
    },
    {
      "cell_type": "code",
      "execution_count": 71,
      "metadata": {
        "id": "foluVV7xqIdN",
        "outputId": "ef0f7311-4dd1-4024-8306-756cc8e93287",
        "colab": {
          "base_uri": "https://localhost:8080/",
          "height": 284
        }
      },
      "outputs": [
        {
          "output_type": "execute_result",
          "data": {
            "text/plain": [
              "[<matplotlib.lines.Line2D at 0x7f946db72510>]"
            ]
          },
          "metadata": {},
          "execution_count": 71
        },
        {
          "output_type": "display_data",
          "data": {
            "text/plain": [
              "<Figure size 432x288 with 1 Axes>"
            ],
            "image/png": "[encoded data removed]"
          },
          "metadata": {
            "needs_background": "light"
          }
        }
      ],
      "source": [
        "plt.plot(day_new, scaler.inverse_transform(df_close[6002:]))\n",
        "plt.plot(day_pred, scaler.inverse_transform(lst_output))"
      ]
    },
    {
      "cell_type": "code",
      "execution_count": 72,
      "metadata": {
        "id": "sn1CZtirqIdN",
        "outputId": "995424e4-bd70-4aec-af68-387ca8d331db",
        "colab": {
          "base_uri": "https://localhost:8080/",
          "height": 282
        }
      },
      "outputs": [
        {
          "output_type": "execute_result",
          "data": {
            "text/plain": [
              "[<matplotlib.lines.Line2D at 0x7f946d24fa10>]"
            ]
          },
          "metadata": {},
          "execution_count": 72
        },
        {
          "output_type": "display_data",
          "data": {
            "text/plain": [
              "<Figure size 432x288 with 1 Axes>"
            ],
            "image/png": "[encoded data removed]"
          },
          "metadata": {
            "needs_background": "light"
          }
        }
      ],
      "source": [
        "dataset_close = df_close.tolist()\n",
        "dataset_close.extend(lst_output)\n",
        "plt.plot(dataset_close[4059:])"
      ]
    },
    {
      "cell_type": "code",
      "execution_count": 73,
      "metadata": {
        "id": "7RfYr5PDqIdO",
        "outputId": "79ef4304-6559-4b1b-fec1-ac7756a3367a",
        "colab": {
          "base_uri": "https://localhost:8080/",
          "height": 282
        }
      },
      "outputs": [
        {
          "output_type": "execute_result",
          "data": {
            "text/plain": [
              "[<matplotlib.lines.Line2D at 0x7f946c2f96d0>]"
            ]
          },
          "metadata": {},
          "execution_count": 73
        },
        {
          "output_type": "display_data",
          "data": {
            "text/plain": [
              "<Figure size 432x288 with 1 Axes>"
            ],
            "image/png": "[encoded data removed]"
          },
          "metadata": {
            "needs_background": "light"
          }
        }
      ],
      "source": [
        "dataset_close = scaler.inverse_transform(dataset_close).tolist()\n",
        "plt.plot(dataset_close)"
      ]
    },
    {
      "cell_type": "code",
      "execution_count": 74,
      "metadata": {
        "id": "XCo4fcbeqIdO",
        "outputId": "7d2e3744-25b1-49cf-8403-aed5c19573b5",
        "colab": {
          "base_uri": "https://localhost:8080/"
        }
      },
      "outputs": [
        {
          "output_type": "stream",
          "name": "stdout",
          "text": [
            "Accuracy Score of Train Data: 0.0\n",
            "Precision Score of Train Data: 0.0\n",
            "Recall Score of Train Data: 0.0\n"
          ]
        },
        {
          "output_type": "stream",
          "name": "stderr",
          "text": [
            "/usr/local/lib/python3.7/dist-packages/sklearn/metrics/_classification.py:1318: UndefinedMetricWarning: Recall is ill-defined and being set to 0.0 due to no true samples. Use `zero_division` parameter to control this behavior.\n",
            "  _warn_prf(average, modifier, msg_start, len(result))\n"
          ]
        }
      ],
      "source": [
        "# calculating performance metrics\n",
        "from sklearn.metrics import accuracy_score\n",
        "from sklearn.metrics import precision_score\n",
        "from sklearn.metrics import recall_score\n",
        "# decide on a cutoff limit\n",
        "cutoff = 0.7  \n",
        "# initialise a matrix full with zeroes\n",
        "train_predict_classes = np.zeros_like(train_predict) \n",
        "# add a 1 if the cutoff was breached\n",
        "train_predict_classes[train_predict > cutoff] = 1 \n",
        "# for the actual values\n",
        "y_train_classes = np.zeros_like(y_train)\n",
        "y_train_classes[y_train > cutoff] = 1\n",
        "# train data\n",
        "print(\"Accuracy Score of Train Data:\", accuracy_score(y_train_classes, train_predict_classes))\n",
        "print(\"Precision Score of Train Data:\", precision_score(y_train_classes, train_predict_classes))\n",
        "print(\"Recall Score of Train Data:\", recall_score(y_train_classes, train_predict_classes))"
      ]
    },
    {
      "cell_type": "code",
      "execution_count": 75,
      "metadata": {
        "id": "xp3XJrDdqIdO",
        "outputId": "c2400300-6231-4ec2-c51d-83498f7a6573",
        "colab": {
          "base_uri": "https://localhost:8080/"
        }
      },
      "outputs": [
        {
          "output_type": "stream",
          "name": "stdout",
          "text": [
            "Accuracy Score of Test Data: 0.47578947368421054\n",
            "Precision Score of Test Data: 0.47578947368421054\n",
            "Recall Score of Test Data: 1.0\n"
          ]
        }
      ],
      "source": [
        "# initialise a matrix full with zeroes\n",
        "test_predict_classes = np.zeros_like(test_predict) \n",
        "# add a 1 if the cutoff was breached\n",
        "test_predict_classes[test_predict > cutoff] = 1 \n",
        "# for the actual values\n",
        "y_test_classes = np.zeros_like(y_test)\n",
        "y_test_classes[y_test > cutoff] = 1\n",
        "# test data\n",
        "print(\"Accuracy Score of Test Data:\", accuracy_score(y_test_classes, test_predict_classes))\n",
        "print(\"Precision Score of Test Data:\", precision_score(y_test_classes, test_predict_classes))\n",
        "print(\"Recall Score of Test Data:\", recall_score(y_test_classes, test_predict_classes))"
      ]
    },
    {
      "cell_type": "code",
      "execution_count": 75,
      "metadata": {
        "id": "11QezmxEqIdP"
      },
      "outputs": [],
      "source": [
        ""
      ]
    }
  ],
  "metadata": {
    "kernelspec": {
      "display_name": "Python 3",
      "language": "python",
      "name": "python3"
    },
    "language_info": {
      "codemirror_mode": {
        "name": "ipython",
        "version": 3
      },
      "file_extension": ".py",
      "mimetype": "text/x-python",
      "name": "python",
      "nbconvert_exporter": "python",
      "pygments_lexer": "ipython3",
      "version": "3.8.5"
    },
    "colab": {
      "name": "HDFC_Stock_Price.ipynb",
      "provenance": [],
      "collapsed_sections": []
    }
  },
  "nbformat": 4,
  "nbformat_minor": 0
}