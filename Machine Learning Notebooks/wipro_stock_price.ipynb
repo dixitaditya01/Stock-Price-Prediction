{
  "cells": [
    {
      "cell_type": "code",
      "execution_count": 1,
      "metadata": {
        "id": "deN4GtuuqIc6"
      },
      "outputs": [],
      "source": [
        "# Stock Price Prediction using Recurrent Neural Network  \n",
        "import numpy as np\n",
        "import pandas as pd\n",
        "from keras.models import Sequential\n",
        "from keras.layers import Dense, LSTM\n",
        "import matplotlib.pyplot as plt"
      ]
    },
    {
      "cell_type": "code",
      "execution_count": 2,
      "metadata": {
        "id": "e6P6_aGWqIc8"
      },
      "outputs": [],
      "source": [
        "# Stocks of Tata Consultancy Services (TCS) traded at NSE, Mumbai\n",
        "df = pd.read_csv('/content/WIPRO.csv')"
      ]
    },
    {
      "cell_type": "code",
      "execution_count": 3,
      "metadata": {
        "id": "6p9WUsU4qIc9",
        "outputId": "6c6d6968-9ac1-4a8a-c318-d4b637ff6f11",
        "colab": {
          "base_uri": "https://localhost:8080/",
          "height": 206
        }
      },
      "outputs": [
        {
          "output_type": "execute_result",
          "data": {
            "text/plain": [
              "         Date   Open     High    Low    Close  Adj Close  Volume\n",
              "0  1991-01-25  0.400  0.40000  0.350  0.35000   0.045882     0.0\n",
              "1  1991-01-28    NaN      NaN    NaN      NaN        NaN     NaN\n",
              "2  1991-01-29    NaN      NaN    NaN      NaN        NaN     NaN\n",
              "3  1991-01-30    NaN      NaN    NaN      NaN        NaN     NaN\n",
              "4  1991-01-31  0.375  0.38333  0.375  0.38333   0.050251     0.0"
            ],
            "text/html": [
              "\n",
              "  <div id=\"df-aca3afcd-9641-40ed-ae32-f3618a67bcfc\">\n",
              "    <div class=\"colab-df-container\">\n",
              "      <div>\n",
              "<style scoped>\n",
              "    .dataframe tbody tr th:only-of-type {\n",
              "        vertical-align: middle;\n",
              "    }\n",
              "\n",
              "    .dataframe tbody tr th {\n",
              "        vertical-align: top;\n",
              "    }\n",
              "\n",
              "    .dataframe thead th {\n",
              "        text-align: right;\n",
              "    }\n",
              "</style>\n",
              "<table border=\"1\" class=\"dataframe\">\n",
              "  <thead>\n",
              "    <tr style=\"text-align: right;\">\n",
              "      <th></th>\n",
              "      <th>Date</th>\n",
              "      <th>Open</th>\n",
              "      <th>High</th>\n",
              "      <th>Low</th>\n",
              "      <th>Close</th>\n",
              "      <th>Adj Close</th>\n",
              "      <th>Volume</th>\n",
              "    </tr>\n",
              "  </thead>\n",
              "  <tbody>\n",
              "    <tr>\n",
              "      <th>0</th>\n",
              "      <td>1991-01-25</td>\n",
              "      <td>0.400</td>\n",
              "      <td>0.40000</td>\n",
              "      <td>0.350</td>\n",
              "      <td>0.35000</td>\n",
              "      <td>0.045882</td>\n",
              "      <td>0.0</td>\n",
              "    </tr>\n",
              "    <tr>\n",
              "      <th>1</th>\n",
              "      <td>1991-01-28</td>\n",
              "      <td>NaN</td>\n",
              "      <td>NaN</td>\n",
              "      <td>NaN</td>\n",
              "      <td>NaN</td>\n",
              "      <td>NaN</td>\n",
              "      <td>NaN</td>\n",
              "    </tr>\n",
              "    <tr>\n",
              "      <th>2</th>\n",
              "      <td>1991-01-29</td>\n",
              "      <td>NaN</td>\n",
              "      <td>NaN</td>\n",
              "      <td>NaN</td>\n",
              "      <td>NaN</td>\n",
              "      <td>NaN</td>\n",
              "      <td>NaN</td>\n",
              "    </tr>\n",
              "    <tr>\n",
              "      <th>3</th>\n",
              "      <td>1991-01-30</td>\n",
              "      <td>NaN</td>\n",
              "      <td>NaN</td>\n",
              "      <td>NaN</td>\n",
              "      <td>NaN</td>\n",
              "      <td>NaN</td>\n",
              "      <td>NaN</td>\n",
              "    </tr>\n",
              "    <tr>\n",
              "      <th>4</th>\n",
              "      <td>1991-01-31</td>\n",
              "      <td>0.375</td>\n",
              "      <td>0.38333</td>\n",
              "      <td>0.375</td>\n",
              "      <td>0.38333</td>\n",
              "      <td>0.050251</td>\n",
              "      <td>0.0</td>\n",
              "    </tr>\n",
              "  </tbody>\n",
              "</table>\n",
              "</div>\n",
              "      <button class=\"colab-df-convert\" onclick=\"convertToInteractive('df-aca3afcd-9641-40ed-ae32-f3618a67bcfc')\"\n",
              "              title=\"Convert this dataframe to an interactive table.\"\n",
              "              style=\"display:none;\">\n",
              "        \n",
              "  <svg xmlns=\"http://www.w3.org/2000/svg\" height=\"24px\"viewBox=\"0 0 24 24\"\n",
              "       width=\"24px\">\n",
              "    <path d=\"M0 0h24v24H0V0z\" fill=\"none\"/>\n",
              "    <path d=\"M18.56 5.44l.94 2.06.94-2.06 2.06-.94-2.06-.94-.94-2.06-.94 2.06-2.06.94zm-11 1L8.5 8.5l.94-2.06 2.06-.94-2.06-.94L8.5 2.5l-.94 2.06-2.06.94zm10 10l.94 2.06.94-2.06 2.06-.94-2.06-.94-.94-2.06-.94 2.06-2.06.94z\"/><path d=\"M17.41 7.96l-1.37-1.37c-.4-.4-.92-.59-1.43-.59-.52 0-1.04.2-1.43.59L10.3 9.45l-7.72 7.72c-.78.78-.78 2.05 0 2.83L4 21.41c.39.39.9.59 1.41.59.51 0 1.02-.2 1.41-.59l7.78-7.78 2.81-2.81c.8-.78.8-2.07 0-2.86zM5.41 20L4 18.59l7.72-7.72 1.47 1.35L5.41 20z\"/>\n",
              "  </svg>\n",
              "      </button>\n",
              "      \n",
              "  <style>\n",
              "    .colab-df-container {\n",
              "      display:flex;\n",
              "      flex-wrap:wrap;\n",
              "      gap: 12px;\n",
              "    }\n",
              "\n",
              "    .colab-df-convert {\n",
              "      background-color: #E8F0FE;\n",
              "      border: none;\n",
              "      border-radius: 50%;\n",
              "      cursor: pointer;\n",
              "      display: none;\n",
              "      fill: #1967D2;\n",
              "      height: 32px;\n",
              "      padding: 0 0 0 0;\n",
              "      width: 32px;\n",
              "    }\n",
              "\n",
              "    .colab-df-convert:hover {\n",
              "      background-color: #E2EBFA;\n",
              "      box-shadow: 0px 1px 2px rgba(60, 64, 67, 0.3), 0px 1px 3px 1px rgba(60, 64, 67, 0.15);\n",
              "      fill: #174EA6;\n",
              "    }\n",
              "\n",
              "    [theme=dark] .colab-df-convert {\n",
              "      background-color: #3B4455;\n",
              "      fill: #D2E3FC;\n",
              "    }\n",
              "\n",
              "    [theme=dark] .colab-df-convert:hover {\n",
              "      background-color: #434B5C;\n",
              "      box-shadow: 0px 1px 3px 1px rgba(0, 0, 0, 0.15);\n",
              "      filter: drop-shadow(0px 1px 2px rgba(0, 0, 0, 0.3));\n",
              "      fill: #FFFFFF;\n",
              "    }\n",
              "  </style>\n",
              "\n",
              "      <script>\n",
              "        const buttonEl =\n",
              "          document.querySelector('#df-aca3afcd-9641-40ed-ae32-f3618a67bcfc button.colab-df-convert');\n",
              "        buttonEl.style.display =\n",
              "          google.colab.kernel.accessAllowed ? 'block' : 'none';\n",
              "\n",
              "        async function convertToInteractive(key) {\n",
              "          const element = document.querySelector('#df-aca3afcd-9641-40ed-ae32-f3618a67bcfc');\n",
              "          const dataTable =\n",
              "            await google.colab.kernel.invokeFunction('convertToInteractive',\n",
              "                                                     [key], {});\n",
              "          if (!dataTable) return;\n",
              "\n",
              "          const docLinkHtml = 'Like what you see? Visit the ' +\n",
              "            '<a target=\"_blank\" href=https://colab.research.google.com/notebooks/data_table.ipynb>data table notebook</a>'\n",
              "            + ' to learn more about interactive tables.';\n",
              "          element.innerHTML = '';\n",
              "          dataTable['output_type'] = 'display_data';\n",
              "          await google.colab.output.renderOutput(dataTable, element);\n",
              "          const docLink = document.createElement('div');\n",
              "          docLink.innerHTML = docLinkHtml;\n",
              "          element.appendChild(docLink);\n",
              "        }\n",
              "      </script>\n",
              "    </div>\n",
              "  </div>\n",
              "  "
            ]
          },
          "metadata": {},
          "execution_count": 3
        }
      ],
      "source": [
        "df.head()"
      ]
    },
    {
      "cell_type": "code",
      "execution_count": 4,
      "metadata": {
        "id": "ZNGjtCzLqIc-",
        "outputId": "e9d388da-7026-4571-8962-7960c97105a3",
        "colab": {
          "base_uri": "https://localhost:8080/"
        }
      },
      "outputs": [
        {
          "output_type": "execute_result",
          "data": {
            "text/plain": [
              "Date           0\n",
              "Open         825\n",
              "High         825\n",
              "Low          825\n",
              "Close        825\n",
              "Adj Close    825\n",
              "Volume       825\n",
              "dtype: int64"
            ]
          },
          "metadata": {},
          "execution_count": 4
        }
      ],
      "source": [
        "df.isnull().sum()"
      ]
    },
    {
      "cell_type": "code",
      "source": [
        "df['Close'].replace(' ',np.nan,inplace=True)\n",
        "df.dropna(subset=['Close'], inplace=True)\n",
        "df.isnull().sum()"
      ],
      "metadata": {
        "colab": {
          "base_uri": "https://localhost:8080/"
        },
        "id": "kodXL-6HF_Mv",
        "outputId": "fb8724c6-f3b4-49f0-9cb9-2fb8fc935bf6"
      },
      "execution_count": 5,
      "outputs": [
        {
          "output_type": "execute_result",
          "data": {
            "text/plain": [
              "Date         0\n",
              "Open         0\n",
              "High         0\n",
              "Low          0\n",
              "Close        0\n",
              "Adj Close    0\n",
              "Volume       0\n",
              "dtype: int64"
            ]
          },
          "metadata": {},
          "execution_count": 5
        }
      ]
    },
    {
      "cell_type": "code",
      "execution_count": 6,
      "metadata": {
        "id": "0M8A2_ZTqIc_",
        "outputId": "3d3e8b97-69cb-45fd-a10b-9bd2e269138d",
        "colab": {
          "base_uri": "https://localhost:8080/",
          "height": 300
        }
      },
      "outputs": [
        {
          "output_type": "execute_result",
          "data": {
            "text/plain": [
              "                Open           High          Low        Close    Adj Close  \\\n",
              "count    6060.000000    6060.000000  6060.000000  6060.000000  6060.000000   \n",
              "mean      282.190532     284.132525   128.529955   130.511846   101.970192   \n",
              "std     11699.993922   11700.696837    96.504840    97.528607    93.976138   \n",
              "min         0.308330       0.329170     0.308330     0.316670    -0.120943   \n",
              "25%        47.474901      48.474901    46.296776    47.196149    19.382424   \n",
              "50%       126.000000     129.000000   121.154999   124.199997    74.280834   \n",
              "75%       211.281254     214.188748   206.447495   209.096249   168.599067   \n",
              "max    910897.000000  910953.000000   493.123993   493.123993   330.821350   \n",
              "\n",
              "             Volume  \n",
              "count  6.060000e+03  \n",
              "mean   1.977338e+06  \n",
              "std    4.186646e+06  \n",
              "min    0.000000e+00  \n",
              "25%    1.323750e+05  \n",
              "50%    4.148410e+05  \n",
              "75%    1.426366e+06  \n",
              "max    4.327439e+07  "
            ],
            "text/html": [
              "\n",
              "  <div id=\"df-547bdbee-b7fd-4e8a-8320-584cbd7006df\">\n",
              "    <div class=\"colab-df-container\">\n",
              "      <div>\n",
              "<style scoped>\n",
              "    .dataframe tbody tr th:only-of-type {\n",
              "        vertical-align: middle;\n",
              "    }\n",
              "\n",
              "    .dataframe tbody tr th {\n",
              "        vertical-align: top;\n",
              "    }\n",
              "\n",
              "    .dataframe thead th {\n",
              "        text-align: right;\n",
              "    }\n",
              "</style>\n",
              "<table border=\"1\" class=\"dataframe\">\n",
              "  <thead>\n",
              "    <tr style=\"text-align: right;\">\n",
              "      <th></th>\n",
              "      <th>Open</th>\n",
              "      <th>High</th>\n",
              "      <th>Low</th>\n",
              "      <th>Close</th>\n",
              "      <th>Adj Close</th>\n",
              "      <th>Volume</th>\n",
              "    </tr>\n",
              "  </thead>\n",
              "  <tbody>\n",
              "    <tr>\n",
              "      <th>count</th>\n",
              "      <td>6060.000000</td>\n",
              "      <td>6060.000000</td>\n",
              "      <td>6060.000000</td>\n",
              "      <td>6060.000000</td>\n",
              "      <td>6060.000000</td>\n",
              "      <td>6.060000e+03</td>\n",
              "    </tr>\n",
              "    <tr>\n",
              "      <th>mean</th>\n",
              "      <td>282.190532</td>\n",
              "      <td>284.132525</td>\n",
              "      <td>128.529955</td>\n",
              "      <td>130.511846</td>\n",
              "      <td>101.970192</td>\n",
              "      <td>1.977338e+06</td>\n",
              "    </tr>\n",
              "    <tr>\n",
              "      <th>std</th>\n",
              "      <td>11699.993922</td>\n",
              "      <td>11700.696837</td>\n",
              "      <td>96.504840</td>\n",
              "      <td>97.528607</td>\n",
              "      <td>93.976138</td>\n",
              "      <td>4.186646e+06</td>\n",
              "    </tr>\n",
              "    <tr>\n",
              "      <th>min</th>\n",
              "      <td>0.308330</td>\n",
              "      <td>0.329170</td>\n",
              "      <td>0.308330</td>\n",
              "      <td>0.316670</td>\n",
              "      <td>-0.120943</td>\n",
              "      <td>0.000000e+00</td>\n",
              "    </tr>\n",
              "    <tr>\n",
              "      <th>25%</th>\n",
              "      <td>47.474901</td>\n",
              "      <td>48.474901</td>\n",
              "      <td>46.296776</td>\n",
              "      <td>47.196149</td>\n",
              "      <td>19.382424</td>\n",
              "      <td>1.323750e+05</td>\n",
              "    </tr>\n",
              "    <tr>\n",
              "      <th>50%</th>\n",
              "      <td>126.000000</td>\n",
              "      <td>129.000000</td>\n",
              "      <td>121.154999</td>\n",
              "      <td>124.199997</td>\n",
              "      <td>74.280834</td>\n",
              "      <td>4.148410e+05</td>\n",
              "    </tr>\n",
              "    <tr>\n",
              "      <th>75%</th>\n",
              "      <td>211.281254</td>\n",
              "      <td>214.188748</td>\n",
              "      <td>206.447495</td>\n",
              "      <td>209.096249</td>\n",
              "      <td>168.599067</td>\n",
              "      <td>1.426366e+06</td>\n",
              "    </tr>\n",
              "    <tr>\n",
              "      <th>max</th>\n",
              "      <td>910897.000000</td>\n",
              "      <td>910953.000000</td>\n",
              "      <td>493.123993</td>\n",
              "      <td>493.123993</td>\n",
              "      <td>330.821350</td>\n",
              "      <td>4.327439e+07</td>\n",
              "    </tr>\n",
              "  </tbody>\n",
              "</table>\n",
              "</div>\n",
              "      <button class=\"colab-df-convert\" onclick=\"convertToInteractive('df-547bdbee-b7fd-4e8a-8320-584cbd7006df')\"\n",
              "              title=\"Convert this dataframe to an interactive table.\"\n",
              "              style=\"display:none;\">\n",
              "        \n",
              "  <svg xmlns=\"http://www.w3.org/2000/svg\" height=\"24px\"viewBox=\"0 0 24 24\"\n",
              "       width=\"24px\">\n",
              "    <path d=\"M0 0h24v24H0V0z\" fill=\"none\"/>\n",
              "    <path d=\"M18.56 5.44l.94 2.06.94-2.06 2.06-.94-2.06-.94-.94-2.06-.94 2.06-2.06.94zm-11 1L8.5 8.5l.94-2.06 2.06-.94-2.06-.94L8.5 2.5l-.94 2.06-2.06.94zm10 10l.94 2.06.94-2.06 2.06-.94-2.06-.94-.94-2.06-.94 2.06-2.06.94z\"/><path d=\"M17.41 7.96l-1.37-1.37c-.4-.4-.92-.59-1.43-.59-.52 0-1.04.2-1.43.59L10.3 9.45l-7.72 7.72c-.78.78-.78 2.05 0 2.83L4 21.41c.39.39.9.59 1.41.59.51 0 1.02-.2 1.41-.59l7.78-7.78 2.81-2.81c.8-.78.8-2.07 0-2.86zM5.41 20L4 18.59l7.72-7.72 1.47 1.35L5.41 20z\"/>\n",
              "  </svg>\n",
              "      </button>\n",
              "      \n",
              "  <style>\n",
              "    .colab-df-container {\n",
              "      display:flex;\n",
              "      flex-wrap:wrap;\n",
              "      gap: 12px;\n",
              "    }\n",
              "\n",
              "    .colab-df-convert {\n",
              "      background-color: #E8F0FE;\n",
              "      border: none;\n",
              "      border-radius: 50%;\n",
              "      cursor: pointer;\n",
              "      display: none;\n",
              "      fill: #1967D2;\n",
              "      height: 32px;\n",
              "      padding: 0 0 0 0;\n",
              "      width: 32px;\n",
              "    }\n",
              "\n",
              "    .colab-df-convert:hover {\n",
              "      background-color: #E2EBFA;\n",
              "      box-shadow: 0px 1px 2px rgba(60, 64, 67, 0.3), 0px 1px 3px 1px rgba(60, 64, 67, 0.15);\n",
              "      fill: #174EA6;\n",
              "    }\n",
              "\n",
              "    [theme=dark] .colab-df-convert {\n",
              "      background-color: #3B4455;\n",
              "      fill: #D2E3FC;\n",
              "    }\n",
              "\n",
              "    [theme=dark] .colab-df-convert:hover {\n",
              "      background-color: #434B5C;\n",
              "      box-shadow: 0px 1px 3px 1px rgba(0, 0, 0, 0.15);\n",
              "      filter: drop-shadow(0px 1px 2px rgba(0, 0, 0, 0.3));\n",
              "      fill: #FFFFFF;\n",
              "    }\n",
              "  </style>\n",
              "\n",
              "      <script>\n",
              "        const buttonEl =\n",
              "          document.querySelector('#df-547bdbee-b7fd-4e8a-8320-584cbd7006df button.colab-df-convert');\n",
              "        buttonEl.style.display =\n",
              "          google.colab.kernel.accessAllowed ? 'block' : 'none';\n",
              "\n",
              "        async function convertToInteractive(key) {\n",
              "          const element = document.querySelector('#df-547bdbee-b7fd-4e8a-8320-584cbd7006df');\n",
              "          const dataTable =\n",
              "            await google.colab.kernel.invokeFunction('convertToInteractive',\n",
              "                                                     [key], {});\n",
              "          if (!dataTable) return;\n",
              "\n",
              "          const docLinkHtml = 'Like what you see? Visit the ' +\n",
              "            '<a target=\"_blank\" href=https://colab.research.google.com/notebooks/data_table.ipynb>data table notebook</a>'\n",
              "            + ' to learn more about interactive tables.';\n",
              "          element.innerHTML = '';\n",
              "          dataTable['output_type'] = 'display_data';\n",
              "          await google.colab.output.renderOutput(dataTable, element);\n",
              "          const docLink = document.createElement('div');\n",
              "          docLink.innerHTML = docLinkHtml;\n",
              "          element.appendChild(docLink);\n",
              "        }\n",
              "      </script>\n",
              "    </div>\n",
              "  </div>\n",
              "  "
            ]
          },
          "metadata": {},
          "execution_count": 6
        }
      ],
      "source": [
        "df.describe()"
      ]
    },
    {
      "cell_type": "code",
      "execution_count": 7,
      "metadata": {
        "id": "Fj87mrJlqIc_",
        "outputId": "6edd9d04-888e-4878-ba71-5f2b1cb9d9e1",
        "colab": {
          "base_uri": "https://localhost:8080/"
        }
      },
      "outputs": [
        {
          "output_type": "stream",
          "name": "stdout",
          "text": [
            "0         0.350000\n",
            "4         0.383330\n",
            "9         0.375000\n",
            "10        0.375000\n",
            "15        0.366670\n",
            "           ...    \n",
            "6880    293.000000\n",
            "6881    291.549988\n",
            "6882    290.700012\n",
            "6883    290.049988\n",
            "6884    291.350006\n",
            "Name: Close, Length: 6060, dtype: float64\n"
          ]
        }
      ],
      "source": [
        "df_close = df['Close']\n",
        "print(df_close)"
      ]
    },
    {
      "cell_type": "code",
      "execution_count": 8,
      "metadata": {
        "id": "wG_ED5ktqIdA",
        "outputId": "5af393b7-7a25-4c23-d0f6-52600cbe4d16",
        "colab": {
          "base_uri": "https://localhost:8080/"
        }
      },
      "outputs": [
        {
          "output_type": "execute_result",
          "data": {
            "text/plain": [
              "(6060,)"
            ]
          },
          "metadata": {},
          "execution_count": 8
        }
      ],
      "source": [
        "df_close.shape"
      ]
    },
    {
      "cell_type": "code",
      "execution_count": 9,
      "metadata": {
        "id": "iaVUdrKAqIdA",
        "outputId": "06ec4531-b1ae-46a4-e738-897a71a2b226",
        "colab": {
          "base_uri": "https://localhost:8080/",
          "height": 282
        }
      },
      "outputs": [
        {
          "output_type": "execute_result",
          "data": {
            "text/plain": [
              "[<matplotlib.lines.Line2D at 0x7fd2b1f33650>]"
            ]
          },
          "metadata": {},
          "execution_count": 9
        },
        {
          "output_type": "display_data",
          "data": {
            "text/plain": [
              "<Figure size 432x288 with 1 Axes>"
            ],
            "image/png": "[encoded data removed]"
          },
          "metadata": {
            "needs_background": "light"
          }
        }
      ],
      "source": [
        "%matplotlib inline\n",
        "plt.plot(df_close)"
      ]
    },
    {
      "cell_type": "code",
      "execution_count": 10,
      "metadata": {
        "id": "BxbIik8pqIdB"
      },
      "outputs": [],
      "source": [
        "from sklearn.preprocessing import MinMaxScaler\n",
        "scaler = MinMaxScaler(feature_range = (0,1))\n",
        "df_close = scaler.fit_transform(np.array(df_close).reshape(-1,1))"
      ]
    },
    {
      "cell_type": "code",
      "execution_count": 11,
      "metadata": {
        "id": "DWXxL_k2qIdB",
        "outputId": "04dfea91-4fe7-42b9-d4ac-1994c3456cf4",
        "colab": {
          "base_uri": "https://localhost:8080/"
        }
      },
      "outputs": [
        {
          "output_type": "stream",
          "name": "stdout",
          "text": [
            "[[6.76329235e-05]\n",
            " [1.35265847e-04]\n",
            " [1.18362689e-04]\n",
            " ...\n",
            " [5.89243155e-01]\n",
            " [5.87924133e-01]\n",
            " [5.90562117e-01]]\n"
          ]
        }
      ],
      "source": [
        "print(df_close)"
      ]
    },
    {
      "cell_type": "code",
      "execution_count": 12,
      "metadata": {
        "id": "QnlTaWEMqIdC"
      },
      "outputs": [],
      "source": [
        "# splitting the dataset into training data and test data\n",
        "train_size = int(len(df_close) * 0.75)\n",
        "test_size = len(df_close) - train_size\n",
        "train_data, test_data = df_close[:train_size, :], df_close[train_size:len(df_close), :]"
      ]
    },
    {
      "cell_type": "code",
      "execution_count": 13,
      "metadata": {
        "id": "rmzxZXo2qIdC",
        "outputId": "856ce1c7-87f7-4446-8dc5-ec5ce40d598f",
        "colab": {
          "base_uri": "https://localhost:8080/"
        }
      },
      "outputs": [
        {
          "output_type": "execute_result",
          "data": {
            "text/plain": [
              "(4545, 1515)"
            ]
          },
          "metadata": {},
          "execution_count": 13
        }
      ],
      "source": [
        "train_size, test_size"
      ]
    },
    {
      "cell_type": "code",
      "execution_count": 14,
      "metadata": {
        "id": "xMxwrZpHqIdD",
        "outputId": "ae9f89ae-ad17-4971-ed72-c433ed4f160b",
        "colab": {
          "base_uri": "https://localhost:8080/"
        }
      },
      "outputs": [
        {
          "output_type": "stream",
          "name": "stdout",
          "text": [
            "[[6.76329235e-05]\n",
            " [1.35265847e-04]\n",
            " [1.18362689e-04]\n",
            " ...\n",
            " [4.12906472e-01]\n",
            " [4.01847389e-01]\n",
            " [4.10572884e-01]]\n"
          ]
        }
      ],
      "source": [
        "print(train_data)"
      ]
    },
    {
      "cell_type": "code",
      "execution_count": 15,
      "metadata": {
        "id": "zHy83wyfqIdD",
        "outputId": "6ae7de99-7756-4b31-cc57-836638f7645d",
        "colab": {
          "base_uri": "https://localhost:8080/"
        }
      },
      "outputs": [
        {
          "output_type": "stream",
          "name": "stdout",
          "text": [
            "[[0.41179041]\n",
            " [0.41189188]\n",
            " [0.40250687]\n",
            " ...\n",
            " [0.58924316]\n",
            " [0.58792413]\n",
            " [0.59056212]]\n"
          ]
        }
      ],
      "source": [
        "print(test_data)"
      ]
    },
    {
      "cell_type": "code",
      "execution_count": 16,
      "metadata": {
        "id": "dfG59zZ-qIdE"
      },
      "outputs": [],
      "source": [
        "# convert an array of values into a dataset matrix\n",
        "def create_dataset(dataset, time_step = 1):\n",
        "    dataX, dataY = [], []\n",
        "    for i in range(len(dataset) - time_step - 1):\n",
        "        a = dataset[i:(i + time_step), 0]  \n",
        "        dataX.append(a)\n",
        "        dataY.append(dataset[i + time_step, 0])\n",
        "    return np.array(dataX), np.array(dataY)"
      ]
    },
    {
      "cell_type": "code",
      "execution_count": 17,
      "metadata": {
        "id": "039oMrRsqIdE"
      },
      "outputs": [],
      "source": [
        "# reshape into X = t,t+1,t+2,t+3 and Y = t+4\n",
        "time_step = 100\n",
        "X_train, y_train = create_dataset(train_data, time_step)\n",
        "X_test, y_test = create_dataset(test_data, time_step)"
      ]
    },
    {
      "cell_type": "code",
      "execution_count": 18,
      "metadata": {
        "id": "CCTep_YqqIdF",
        "outputId": "314f0cec-9ac6-4534-d94d-1e7cad607849",
        "colab": {
          "base_uri": "https://localhost:8080/"
        }
      },
      "outputs": [
        {
          "output_type": "stream",
          "name": "stdout",
          "text": [
            "Shape of X_train: (4444, 100)\n",
            "Shape of y_train: (4444,)\n"
          ]
        }
      ],
      "source": [
        "print(\"Shape of X_train:\", X_train.shape)\n",
        "print(\"Shape of y_train:\", y_train.shape)"
      ]
    },
    {
      "cell_type": "code",
      "execution_count": 19,
      "metadata": {
        "id": "L1xqyZy0qIdG",
        "outputId": "8f3af443-9f92-4f9d-ff48-dcd1fe2d2a88",
        "colab": {
          "base_uri": "https://localhost:8080/"
        }
      },
      "outputs": [
        {
          "output_type": "stream",
          "name": "stdout",
          "text": [
            "Shape of X_test: (1414, 100)\n",
            "Shape of y_test: (1414,)\n"
          ]
        }
      ],
      "source": [
        "print(\"Shape of X_test:\", X_test.shape)\n",
        "print(\"Shape of y_test:\", y_test.shape)"
      ]
    },
    {
      "cell_type": "code",
      "execution_count": 20,
      "metadata": {
        "id": "JIZSdH9kqIdG"
      },
      "outputs": [],
      "source": [
        "# reshape input to be [samples, time steps, features] which is required for LSTM\n",
        "X_train = X_train.reshape(X_train.shape[0], X_train.shape[1], 1)\n",
        "X_test = X_test.reshape(X_test.shape[0], X_test.shape[1], 1)"
      ]
    },
    {
      "cell_type": "code",
      "execution_count": 21,
      "metadata": {
        "id": "s79mAJXsqIdH"
      },
      "outputs": [],
      "source": [
        "# Stacked LSTM\n",
        "model = Sequential()\n",
        "model.add(LSTM(50, return_sequences = True, input_shape = (100,1)))\n",
        "model.add(LSTM(50, return_sequences = True))\n",
        "model.add(LSTM(50))\n",
        "model.add(Dense(1))\n",
        "model.compile(loss = 'mean_squared_error', optimizer = 'adam')"
      ]
    },
    {
      "cell_type": "code",
      "execution_count": 22,
      "metadata": {
        "id": "dVWLUGs5qIdH",
        "outputId": "32a740ba-d21f-40b1-8a0a-e3753affbf73",
        "colab": {
          "base_uri": "https://localhost:8080/"
        }
      },
      "outputs": [
        {
          "output_type": "stream",
          "name": "stdout",
          "text": [
            "Model: \"sequential\"\n",
            "_________________________________________________________________\n",
            " Layer (type)                Output Shape              Param #   \n",
            "=================================================================\n",
            " lstm (LSTM)                 (None, 100, 50)           10400     \n",
            "                                                                 \n",
            " lstm_1 (LSTM)               (None, 100, 50)           20200     \n",
            "                                                                 \n",
            " lstm_2 (LSTM)               (None, 50)                20200     \n",
            "                                                                 \n",
            " dense (Dense)               (None, 1)                 51        \n",
            "                                                                 \n",
            "=================================================================\n",
            "Total params: 50,851\n",
            "Trainable params: 50,851\n",
            "Non-trainable params: 0\n",
            "_________________________________________________________________\n"
          ]
        }
      ],
      "source": [
        "model.summary()"
      ]
    },
    {
      "cell_type": "code",
      "execution_count": 23,
      "metadata": {
        "id": "-yscuIVnqIdI",
        "outputId": "aa46eb7b-7d59-47d8-a56d-5abdb8d8d7e9",
        "colab": {
          "base_uri": "https://localhost:8080/"
        }
      },
      "outputs": [
        {
          "output_type": "stream",
          "name": "stdout",
          "text": [
            "Epoch 1/100\n",
            "70/70 [==============================] - 20s 205ms/step - loss: 0.0054 - val_loss: 4.8630e-04\n",
            "Epoch 2/100\n",
            "70/70 [==============================] - 13s 186ms/step - loss: 0.0011 - val_loss: 5.3513e-04\n",
            "Epoch 3/100\n",
            "70/70 [==============================] - 13s 186ms/step - loss: 0.0010 - val_loss: 5.7587e-04\n",
            "Epoch 4/100\n",
            "70/70 [==============================] - 14s 200ms/step - loss: 9.0153e-04 - val_loss: 9.7106e-04\n",
            "Epoch 5/100\n",
            "70/70 [==============================] - 13s 187ms/step - loss: 9.0073e-04 - val_loss: 0.0019\n",
            "Epoch 6/100\n",
            "70/70 [==============================] - 13s 186ms/step - loss: 8.8491e-04 - val_loss: 0.0034\n",
            "Epoch 7/100\n",
            "70/70 [==============================] - 13s 187ms/step - loss: 8.5737e-04 - val_loss: 2.4534e-04\n",
            "Epoch 8/100\n",
            "70/70 [==============================] - 13s 187ms/step - loss: 9.3042e-04 - val_loss: 5.2587e-04\n",
            "Epoch 9/100\n",
            "70/70 [==============================] - 13s 187ms/step - loss: 8.0436e-04 - val_loss: 4.0034e-04\n",
            "Epoch 10/100\n",
            "70/70 [==============================] - 13s 186ms/step - loss: 8.4768e-04 - val_loss: 0.0012\n",
            "Epoch 11/100\n",
            "70/70 [==============================] - 13s 187ms/step - loss: 8.2035e-04 - val_loss: 1.9069e-04\n",
            "Epoch 12/100\n",
            "70/70 [==============================] - 14s 197ms/step - loss: 7.8363e-04 - val_loss: 2.5286e-04\n",
            "Epoch 13/100\n",
            "70/70 [==============================] - 13s 188ms/step - loss: 7.9757e-04 - val_loss: 6.6188e-04\n",
            "Epoch 14/100\n",
            "70/70 [==============================] - 14s 199ms/step - loss: 7.5508e-04 - val_loss: 9.0435e-04\n",
            "Epoch 15/100\n",
            "70/70 [==============================] - 13s 191ms/step - loss: 7.6397e-04 - val_loss: 2.5500e-04\n",
            "Epoch 16/100\n",
            "70/70 [==============================] - 14s 193ms/step - loss: 7.7493e-04 - val_loss: 0.0019\n",
            "Epoch 17/100\n",
            "70/70 [==============================] - 14s 194ms/step - loss: 7.6208e-04 - val_loss: 6.9032e-04\n",
            "Epoch 18/100\n",
            "70/70 [==============================] - 14s 197ms/step - loss: 7.7802e-04 - val_loss: 3.0303e-04\n",
            "Epoch 19/100\n",
            "70/70 [==============================] - 14s 195ms/step - loss: 7.2760e-04 - val_loss: 3.2008e-04\n",
            "Epoch 20/100\n",
            "70/70 [==============================] - 14s 193ms/step - loss: 7.1592e-04 - val_loss: 1.9876e-04\n",
            "Epoch 21/100\n",
            "70/70 [==============================] - 14s 195ms/step - loss: 7.3331e-04 - val_loss: 0.0011\n",
            "Epoch 22/100\n",
            "70/70 [==============================] - 14s 194ms/step - loss: 7.2516e-04 - val_loss: 1.6394e-04\n",
            "Epoch 23/100\n",
            "70/70 [==============================] - 13s 191ms/step - loss: 7.5088e-04 - val_loss: 4.4468e-04\n",
            "Epoch 24/100\n",
            "70/70 [==============================] - 14s 193ms/step - loss: 7.4199e-04 - val_loss: 0.0011\n",
            "Epoch 25/100\n",
            "70/70 [==============================] - 13s 192ms/step - loss: 7.5668e-04 - val_loss: 4.9277e-04\n",
            "Epoch 26/100\n",
            "70/70 [==============================] - 14s 194ms/step - loss: 7.6502e-04 - val_loss: 0.0011\n",
            "Epoch 27/100\n",
            "70/70 [==============================] - 14s 194ms/step - loss: 7.6962e-04 - val_loss: 3.3970e-04\n",
            "Epoch 28/100\n",
            "70/70 [==============================] - 13s 191ms/step - loss: 6.9827e-04 - val_loss: 1.6341e-04\n",
            "Epoch 29/100\n",
            "70/70 [==============================] - 13s 191ms/step - loss: 7.5733e-04 - val_loss: 2.2709e-04\n",
            "Epoch 30/100\n",
            "70/70 [==============================] - 13s 193ms/step - loss: 7.9401e-04 - val_loss: 4.0989e-04\n",
            "Epoch 31/100\n",
            "70/70 [==============================] - 14s 193ms/step - loss: 7.0026e-04 - val_loss: 1.6560e-04\n",
            "Epoch 32/100\n",
            "70/70 [==============================] - 13s 193ms/step - loss: 7.6206e-04 - val_loss: 3.2568e-04\n",
            "Epoch 33/100\n",
            "70/70 [==============================] - 14s 194ms/step - loss: 6.8660e-04 - val_loss: 4.8502e-04\n",
            "Epoch 34/100\n",
            "70/70 [==============================] - 13s 191ms/step - loss: 6.9336e-04 - val_loss: 1.5947e-04\n",
            "Epoch 35/100\n",
            "70/70 [==============================] - 14s 196ms/step - loss: 7.1596e-04 - val_loss: 1.7911e-04\n",
            "Epoch 36/100\n",
            "70/70 [==============================] - 14s 193ms/step - loss: 6.9567e-04 - val_loss: 4.0642e-04\n",
            "Epoch 37/100\n",
            "70/70 [==============================] - 13s 192ms/step - loss: 6.9403e-04 - val_loss: 3.9329e-04\n",
            "Epoch 38/100\n",
            "70/70 [==============================] - 13s 192ms/step - loss: 6.9547e-04 - val_loss: 1.3205e-04\n",
            "Epoch 39/100\n",
            "70/70 [==============================] - 13s 192ms/step - loss: 7.0233e-04 - val_loss: 1.8042e-04\n",
            "Epoch 40/100\n",
            "70/70 [==============================] - 14s 193ms/step - loss: 6.9563e-04 - val_loss: 5.7705e-04\n",
            "Epoch 41/100\n",
            "70/70 [==============================] - 13s 192ms/step - loss: 7.2695e-04 - val_loss: 2.0347e-04\n",
            "Epoch 42/100\n",
            "70/70 [==============================] - 13s 192ms/step - loss: 7.3053e-04 - val_loss: 2.0222e-04\n",
            "Epoch 43/100\n",
            "70/70 [==============================] - 14s 193ms/step - loss: 7.3088e-04 - val_loss: 7.7841e-04\n",
            "Epoch 44/100\n",
            "70/70 [==============================] - 14s 194ms/step - loss: 6.9270e-04 - val_loss: 2.8671e-04\n",
            "Epoch 45/100\n",
            "70/70 [==============================] - 13s 192ms/step - loss: 6.9345e-04 - val_loss: 3.7507e-04\n",
            "Epoch 46/100\n",
            "70/70 [==============================] - 13s 192ms/step - loss: 6.8252e-04 - val_loss: 3.0051e-04\n",
            "Epoch 47/100\n",
            "70/70 [==============================] - 13s 190ms/step - loss: 6.9735e-04 - val_loss: 2.5560e-04\n",
            "Epoch 48/100\n",
            "70/70 [==============================] - 13s 190ms/step - loss: 6.4599e-04 - val_loss: 8.8803e-04\n",
            "Epoch 49/100\n",
            "70/70 [==============================] - 13s 191ms/step - loss: 6.7529e-04 - val_loss: 2.3098e-04\n",
            "Epoch 50/100\n",
            "70/70 [==============================] - 13s 190ms/step - loss: 6.4920e-04 - val_loss: 3.9935e-04\n",
            "Epoch 51/100\n",
            "70/70 [==============================] - 13s 190ms/step - loss: 7.0630e-04 - val_loss: 4.7049e-04\n",
            "Epoch 52/100\n",
            "70/70 [==============================] - 13s 190ms/step - loss: 6.9108e-04 - val_loss: 1.4035e-04\n",
            "Epoch 53/100\n",
            "70/70 [==============================] - 13s 190ms/step - loss: 6.5432e-04 - val_loss: 5.7914e-04\n",
            "Epoch 54/100\n",
            "70/70 [==============================] - 13s 189ms/step - loss: 6.5851e-04 - val_loss: 0.0014\n",
            "Epoch 55/100\n",
            "70/70 [==============================] - 13s 190ms/step - loss: 6.5619e-04 - val_loss: 1.9083e-04\n",
            "Epoch 56/100\n",
            "70/70 [==============================] - 13s 191ms/step - loss: 6.4161e-04 - val_loss: 5.3269e-04\n",
            "Epoch 57/100\n",
            "70/70 [==============================] - 13s 191ms/step - loss: 6.8562e-04 - val_loss: 2.4563e-04\n",
            "Epoch 58/100\n",
            "70/70 [==============================] - 13s 191ms/step - loss: 6.5047e-04 - val_loss: 1.6435e-04\n",
            "Epoch 59/100\n",
            "70/70 [==============================] - 13s 190ms/step - loss: 6.4097e-04 - val_loss: 1.1244e-04\n",
            "Epoch 60/100\n",
            "70/70 [==============================] - 13s 192ms/step - loss: 7.0120e-04 - val_loss: 3.0954e-04\n",
            "Epoch 61/100\n",
            "70/70 [==============================] - 13s 192ms/step - loss: 6.6048e-04 - val_loss: 1.0998e-04\n",
            "Epoch 62/100\n",
            "70/70 [==============================] - 13s 191ms/step - loss: 6.4054e-04 - val_loss: 2.7254e-04\n",
            "Epoch 63/100\n",
            "70/70 [==============================] - 13s 191ms/step - loss: 6.5404e-04 - val_loss: 1.3970e-04\n",
            "Epoch 64/100\n",
            "70/70 [==============================] - 13s 190ms/step - loss: 6.6137e-04 - val_loss: 1.6766e-04\n",
            "Epoch 65/100\n",
            "70/70 [==============================] - 13s 190ms/step - loss: 6.3145e-04 - val_loss: 0.0011\n",
            "Epoch 66/100\n",
            "70/70 [==============================] - 13s 190ms/step - loss: 6.4935e-04 - val_loss: 6.5667e-04\n",
            "Epoch 67/100\n",
            "70/70 [==============================] - 13s 190ms/step - loss: 6.4326e-04 - val_loss: 4.0519e-04\n",
            "Epoch 68/100\n",
            "70/70 [==============================] - 13s 189ms/step - loss: 6.5664e-04 - val_loss: 3.6900e-04\n",
            "Epoch 69/100\n",
            "70/70 [==============================] - 13s 191ms/step - loss: 6.8596e-04 - val_loss: 2.8031e-04\n",
            "Epoch 70/100\n",
            "70/70 [==============================] - 13s 190ms/step - loss: 6.4309e-04 - val_loss: 3.2852e-04\n",
            "Epoch 71/100\n",
            "70/70 [==============================] - 14s 194ms/step - loss: 6.2406e-04 - val_loss: 2.7337e-04\n",
            "Epoch 72/100\n",
            "70/70 [==============================] - 14s 195ms/step - loss: 6.5932e-04 - val_loss: 1.2413e-04\n",
            "Epoch 73/100\n",
            "70/70 [==============================] - 14s 194ms/step - loss: 6.3451e-04 - val_loss: 1.9417e-04\n",
            "Epoch 74/100\n",
            "70/70 [==============================] - 14s 195ms/step - loss: 6.3342e-04 - val_loss: 4.3194e-04\n",
            "Epoch 75/100\n",
            "70/70 [==============================] - 27s 387ms/step - loss: 6.4285e-04 - val_loss: 3.6202e-04\n",
            "Epoch 76/100\n",
            "70/70 [==============================] - 13s 193ms/step - loss: 6.5902e-04 - val_loss: 8.5919e-04\n",
            "Epoch 77/100\n",
            "70/70 [==============================] - 13s 192ms/step - loss: 6.1361e-04 - val_loss: 7.1072e-04\n",
            "Epoch 78/100\n",
            "70/70 [==============================] - 13s 192ms/step - loss: 6.3037e-04 - val_loss: 5.3818e-04\n",
            "Epoch 79/100\n",
            "70/70 [==============================] - 13s 190ms/step - loss: 7.0117e-04 - val_loss: 3.0455e-04\n",
            "Epoch 80/100\n",
            "70/70 [==============================] - 13s 189ms/step - loss: 6.3651e-04 - val_loss: 9.2781e-04\n",
            "Epoch 81/100\n",
            "70/70 [==============================] - 13s 192ms/step - loss: 6.2757e-04 - val_loss: 0.0012\n",
            "Epoch 82/100\n",
            "70/70 [==============================] - 14s 204ms/step - loss: 6.5707e-04 - val_loss: 3.1421e-04\n",
            "Epoch 83/100\n",
            "70/70 [==============================] - 15s 210ms/step - loss: 6.3097e-04 - val_loss: 0.0025\n",
            "Epoch 84/100\n",
            "70/70 [==============================] - 14s 193ms/step - loss: 7.0923e-04 - val_loss: 0.0020\n",
            "Epoch 85/100\n",
            "70/70 [==============================] - 13s 193ms/step - loss: 6.5471e-04 - val_loss: 1.7719e-04\n",
            "Epoch 86/100\n",
            "70/70 [==============================] - 14s 194ms/step - loss: 6.2007e-04 - val_loss: 8.2197e-04\n",
            "Epoch 87/100\n",
            "70/70 [==============================] - 14s 194ms/step - loss: 6.1582e-04 - val_loss: 4.0804e-04\n",
            "Epoch 88/100\n",
            "70/70 [==============================] - 14s 195ms/step - loss: 5.9207e-04 - val_loss: 1.8908e-04\n",
            "Epoch 89/100\n",
            "70/70 [==============================] - 14s 194ms/step - loss: 6.0817e-04 - val_loss: 7.8868e-04\n",
            "Epoch 90/100\n",
            "70/70 [==============================] - 13s 193ms/step - loss: 5.8920e-04 - val_loss: 0.0013\n",
            "Epoch 91/100\n",
            "70/70 [==============================] - 14s 193ms/step - loss: 5.9807e-04 - val_loss: 2.2647e-04\n",
            "Epoch 92/100\n",
            "70/70 [==============================] - 14s 194ms/step - loss: 6.1937e-04 - val_loss: 6.1531e-04\n",
            "Epoch 93/100\n",
            "70/70 [==============================] - 13s 192ms/step - loss: 6.0018e-04 - val_loss: 0.0013\n",
            "Epoch 94/100\n",
            "70/70 [==============================] - 14s 194ms/step - loss: 5.9507e-04 - val_loss: 3.4832e-04\n",
            "Epoch 95/100\n",
            "70/70 [==============================] - 14s 194ms/step - loss: 6.1400e-04 - val_loss: 5.5467e-04\n",
            "Epoch 96/100\n",
            "70/70 [==============================] - 13s 192ms/step - loss: 6.1719e-04 - val_loss: 8.8280e-04\n",
            "Epoch 97/100\n",
            "70/70 [==============================] - 13s 191ms/step - loss: 6.4916e-04 - val_loss: 3.8347e-04\n",
            "Epoch 98/100\n",
            "70/70 [==============================] - 13s 191ms/step - loss: 6.5557e-04 - val_loss: 2.2831e-04\n",
            "Epoch 99/100\n",
            "70/70 [==============================] - 13s 191ms/step - loss: 6.0275e-04 - val_loss: 2.1266e-04\n",
            "Epoch 100/100\n",
            "70/70 [==============================] - 13s 192ms/step - loss: 5.8292e-04 - val_loss: 5.1316e-04\n"
          ]
        },
        {
          "output_type": "execute_result",
          "data": {
            "text/plain": [
              "<keras.callbacks.History at 0x7fd2b12fbb50>"
            ]
          },
          "metadata": {},
          "execution_count": 23
        }
      ],
      "source": [
        "model.fit(X_train, y_train, validation_data = (X_test, y_test), epochs=100, batch_size = 64, verbose = 1)"
      ]
    },
    {
      "cell_type": "code",
      "execution_count": 24,
      "metadata": {
        "id": "HayptZYFqIdI"
      },
      "outputs": [],
      "source": [
        "# doing prediction and checking performance metrics\n",
        "train_predict = model.predict(X_train)\n",
        "test_predict = model.predict(X_test)"
      ]
    },
    {
      "cell_type": "code",
      "execution_count": 25,
      "metadata": {
        "id": "YXfXLYgKqIdJ"
      },
      "outputs": [],
      "source": [
        "# transforming back to original form\n",
        "train_predict = scaler.inverse_transform(train_predict)\n",
        "test_predict = scaler.inverse_transform(test_predict)"
      ]
    },
    {
      "cell_type": "code",
      "execution_count": 26,
      "metadata": {
        "id": "yoe7w96mqIdJ",
        "outputId": "8ee7092f-4523-43c4-8e36-710ddc6280bb",
        "colab": {
          "base_uri": "https://localhost:8080/"
        }
      },
      "outputs": [
        {
          "output_type": "execute_result",
          "data": {
            "text/plain": [
              "121.83647612981787"
            ]
          },
          "metadata": {},
          "execution_count": 26
        }
      ],
      "source": [
        "# Calculate RMSE performance metrics\n",
        "import math\n",
        "from sklearn.metrics import mean_squared_error\n",
        "# train data RMSE\n",
        "math.sqrt(mean_squared_error(y_train, train_predict))"
      ]
    },
    {
      "cell_type": "code",
      "execution_count": 27,
      "metadata": {
        "id": "jJYQq5uSqIdJ",
        "outputId": "be18a8e4-6435-4c77-9271-b4c6f7959d7b",
        "colab": {
          "base_uri": "https://localhost:8080/"
        }
      },
      "outputs": [
        {
          "output_type": "execute_result",
          "data": {
            "text/plain": [
              "253.50136684015624"
            ]
          },
          "metadata": {},
          "execution_count": 27
        }
      ],
      "source": [
        "# test data RMSE\n",
        "math.sqrt(mean_squared_error(y_test, test_predict))"
      ]
    },
    {
      "cell_type": "code",
      "execution_count": 28,
      "metadata": {
        "id": "Y4elCaLJqIdK",
        "outputId": "611711a1-629e-4bf4-fcff-5fca2a0a53ab",
        "colab": {
          "base_uri": "https://localhost:8080/",
          "height": 265
        }
      },
      "outputs": [
        {
          "output_type": "display_data",
          "data": {
            "text/plain": [
              "<Figure size 432x288 with 1 Axes>"
            ],
            "image/png": "[encoded data removed]"
          },
          "metadata": {
            "needs_background": "light"
          }
        }
      ],
      "source": [
        "# Plotting \n",
        "# shift train predictions for plotting\n",
        "look_back = 100\n",
        "trainPredictPlot = np.empty_like(df_close)\n",
        "trainPredictPlot[:, :] = np.nan\n",
        "trainPredictPlot[look_back:len(train_predict) + look_back, :] = train_predict\n",
        "# shift test predictions for plotting\n",
        "testPredictPlot = np.empty_like(df_close)\n",
        "testPredictPlot[:, :] = np.nan\n",
        "testPredictPlot[len(train_predict) + (look_back*2) +1:len(df_close)-1, :] = test_predict\n",
        "# plot baseline and predictions\n",
        "plt.plot(scaler.inverse_transform(df_close))\n",
        "plt.plot(trainPredictPlot)\n",
        "plt.plot(testPredictPlot)\n",
        "plt.show()"
      ]
    },
    {
      "cell_type": "code",
      "execution_count": 29,
      "metadata": {
        "id": "3iAvyWNwqIdL",
        "outputId": "777eb280-bb2c-4798-8803-feaa4d6afbce",
        "colab": {
          "base_uri": "https://localhost:8080/"
        }
      },
      "outputs": [
        {
          "output_type": "execute_result",
          "data": {
            "text/plain": [
              "1515"
            ]
          },
          "metadata": {},
          "execution_count": 29
        }
      ],
      "source": [
        "len(test_data)"
      ]
    },
    {
      "cell_type": "code",
      "execution_count": 34,
      "metadata": {
        "id": "XXJhb48qqIdL",
        "outputId": "0f192cd9-cf2f-400f-ed01-2a8d595bddc9",
        "colab": {
          "base_uri": "https://localhost:8080/"
        }
      },
      "outputs": [
        {
          "output_type": "execute_result",
          "data": {
            "text/plain": [
              "(1, 100)"
            ]
          },
          "metadata": {},
          "execution_count": 34
        }
      ],
      "source": [
        "x_input = test_data[1415:].reshape(1,-1)\n",
        "x_input.shape"
      ]
    },
    {
      "cell_type": "code",
      "execution_count": 35,
      "metadata": {
        "id": "-RsaH64PqIdL"
      },
      "outputs": [],
      "source": [
        "temp_input = list(x_input)\n",
        "temp_input = temp_input[0].tolist()"
      ]
    },
    {
      "cell_type": "code",
      "execution_count": 36,
      "metadata": {
        "id": "xf5_UacTqIdM",
        "outputId": "33c0f69c-84dd-4c23-c226-0a02a754eef9",
        "colab": {
          "base_uri": "https://localhost:8080/"
        }
      },
      "outputs": [
        {
          "output_type": "stream",
          "name": "stdout",
          "text": [
            "[0.5910694147700399, 0.5883299952504968, 0.5849818428935968, 0.579401568673524, 0.5694585467838107, 0.5737197983967458, 0.5738212944534512, 0.5756475538412403, 0.5802132327485726, 0.5808219655859294, 0.5808219655859294, 0.5891416593255454, 0.5927942389768426, 0.5915767124264102, 0.587924132775113, 0.5865037358627075, 0.5980700859025181, 0.5915767124264102, 0.601215367897445, 0.6006065741843694, 0.6059839780424692, 0.6118686186812204, 0.601215367897445, 0.5943161319459533, 0.5959394600960506, 0.5941132007082615, 0.5940117046515561, 0.5965481929334073, 0.6071000085361963, 0.6123759163375907, 0.6113613210248502, 0.6133905116503312, 0.6122744202808853, 0.605679550748072, 0.6061868484044423, 0.6004037038223964, 0.6033459937039126, 0.5974613530651613, 0.597156986646483, 0.5958380249150641, 0.596243826514729, 0.5947219335456182, 0.5929971093388156, 0.5975627882461478, 0.5959394600960506, 0.6038532913602829, 0.5914752163697048, 0.5867066671003994, 0.587924132775113, 0.5744300272908079, 0.572197905427635, 0.5702702108588594, 0.5741256608721296, 0.5863008046250158, 0.5821409881930671, 0.5821409881930671, 0.5835613851054725, 0.5874168351187428, 0.5985773835588883, 0.5921854452637669, 0.6013168030784315, 0.6033459937039126, 0.6103467257121097, 0.6147094733817501, 0.618970785870404, 0.623434968721031, 0.6353057460552387, 0.644132737451225, 0.6464662944953844, 0.6288123725791307, 0.6314502960419686, 0.6278992124473768, 0.6305371359102145, 0.6438283710325465, 0.66097499529243, 0.6508290421650248, 0.646161928076706, 0.6414948139883871, 0.6728457726266377, 0.6603662624550731, 0.66097499529243, 0.6658451014941594, 0.6503217445086545, 0.638755394468844, 0.6360159749493008, 0.6323634561737226, 0.6323634561737226, 0.6237393960154282, 0.6091291991616773, 0.6051722530917018, 0.5977657194838397, 0.5867066671003994, 0.5870110335190778, 0.5776767444667213, 0.5835613851054725, 0.5939102694705696, 0.5909679187133345, 0.5892431553822507, 0.587924132775113, 0.5905621171136697]\n"
          ]
        }
      ],
      "source": [
        "print(temp_input)"
      ]
    },
    {
      "cell_type": "code",
      "execution_count": 37,
      "metadata": {
        "id": "V3lExl_IqIdM",
        "outputId": "0f94e2a8-ec1d-4176-d1f0-8eea22d50d67",
        "colab": {
          "base_uri": "https://localhost:8080/"
        }
      },
      "outputs": [
        {
          "output_type": "stream",
          "name": "stdout",
          "text": [
            "[0.55437446]\n",
            "101\n",
            "1 day input [0.58833    0.58498184 0.57940157 0.56945855 0.5737198  0.57382129\n",
            " 0.57564755 0.58021323 0.58082197 0.58082197 0.58914166 0.59279424\n",
            " 0.59157671 0.58792413 0.58650374 0.59807009 0.59157671 0.60121537\n",
            " 0.60060657 0.60598398 0.61186862 0.60121537 0.59431613 0.59593946\n",
            " 0.5941132  0.5940117  0.59654819 0.60710001 0.61237592 0.61136132\n",
            " 0.61339051 0.61227442 0.60567955 0.60618685 0.6004037  0.60334599\n",
            " 0.59746135 0.59715699 0.59583802 0.59624383 0.59472193 0.59299711\n",
            " 0.59756279 0.59593946 0.60385329 0.59147522 0.58670667 0.58792413\n",
            " 0.57443003 0.57219791 0.57027021 0.57412566 0.5863008  0.58214099\n",
            " 0.58214099 0.58356139 0.58741684 0.59857738 0.59218545 0.6013168\n",
            " 0.60334599 0.61034673 0.61470947 0.61897079 0.62343497 0.63530575\n",
            " 0.64413274 0.64646629 0.62881237 0.6314503  0.62789921 0.63053714\n",
            " 0.64382837 0.660975   0.65082904 0.64616193 0.64149481 0.67284577\n",
            " 0.66036626 0.660975   0.6658451  0.65032174 0.63875539 0.63601597\n",
            " 0.63236346 0.63236346 0.6237394  0.6091292  0.60517225 0.59776572\n",
            " 0.58670667 0.58701103 0.57767674 0.58356139 0.59391027 0.59096792\n",
            " 0.58924316 0.58792413 0.59056212 0.55437446]\n",
            "1 day output [[0.54478395]]\n",
            "2 day input [0.58498184 0.57940157 0.56945855 0.5737198  0.57382129 0.57564755\n",
            " 0.58021323 0.58082197 0.58082197 0.58914166 0.59279424 0.59157671\n",
            " 0.58792413 0.58650374 0.59807009 0.59157671 0.60121537 0.60060657\n",
            " 0.60598398 0.61186862 0.60121537 0.59431613 0.59593946 0.5941132\n",
            " 0.5940117  0.59654819 0.60710001 0.61237592 0.61136132 0.61339051\n",
            " 0.61227442 0.60567955 0.60618685 0.6004037  0.60334599 0.59746135\n",
            " 0.59715699 0.59583802 0.59624383 0.59472193 0.59299711 0.59756279\n",
            " 0.59593946 0.60385329 0.59147522 0.58670667 0.58792413 0.57443003\n",
            " 0.57219791 0.57027021 0.57412566 0.5863008  0.58214099 0.58214099\n",
            " 0.58356139 0.58741684 0.59857738 0.59218545 0.6013168  0.60334599\n",
            " 0.61034673 0.61470947 0.61897079 0.62343497 0.63530575 0.64413274\n",
            " 0.64646629 0.62881237 0.6314503  0.62789921 0.63053714 0.64382837\n",
            " 0.660975   0.65082904 0.64616193 0.64149481 0.67284577 0.66036626\n",
            " 0.660975   0.6658451  0.65032174 0.63875539 0.63601597 0.63236346\n",
            " 0.63236346 0.6237394  0.6091292  0.60517225 0.59776572 0.58670667\n",
            " 0.58701103 0.57767674 0.58356139 0.59391027 0.59096792 0.58924316\n",
            " 0.58792413 0.59056212 0.55437446 0.54478395]\n",
            "2 day output [[0.5501264]]\n",
            "3 day input [0.57940157 0.56945855 0.5737198  0.57382129 0.57564755 0.58021323\n",
            " 0.58082197 0.58082197 0.58914166 0.59279424 0.59157671 0.58792413\n",
            " 0.58650374 0.59807009 0.59157671 0.60121537 0.60060657 0.60598398\n",
            " 0.61186862 0.60121537 0.59431613 0.59593946 0.5941132  0.5940117\n",
            " 0.59654819 0.60710001 0.61237592 0.61136132 0.61339051 0.61227442\n",
            " 0.60567955 0.60618685 0.6004037  0.60334599 0.59746135 0.59715699\n",
            " 0.59583802 0.59624383 0.59472193 0.59299711 0.59756279 0.59593946\n",
            " 0.60385329 0.59147522 0.58670667 0.58792413 0.57443003 0.57219791\n",
            " 0.57027021 0.57412566 0.5863008  0.58214099 0.58214099 0.58356139\n",
            " 0.58741684 0.59857738 0.59218545 0.6013168  0.60334599 0.61034673\n",
            " 0.61470947 0.61897079 0.62343497 0.63530575 0.64413274 0.64646629\n",
            " 0.62881237 0.6314503  0.62789921 0.63053714 0.64382837 0.660975\n",
            " 0.65082904 0.64616193 0.64149481 0.67284577 0.66036626 0.660975\n",
            " 0.6658451  0.65032174 0.63875539 0.63601597 0.63236346 0.63236346\n",
            " 0.6237394  0.6091292  0.60517225 0.59776572 0.58670667 0.58701103\n",
            " 0.57767674 0.58356139 0.59391027 0.59096792 0.58924316 0.58792413\n",
            " 0.59056212 0.55437446 0.54478395 0.55012637]\n",
            "3 day output [[0.5533844]]\n",
            "4 day input [0.56945855 0.5737198  0.57382129 0.57564755 0.58021323 0.58082197\n",
            " 0.58082197 0.58914166 0.59279424 0.59157671 0.58792413 0.58650374\n",
            " 0.59807009 0.59157671 0.60121537 0.60060657 0.60598398 0.61186862\n",
            " 0.60121537 0.59431613 0.59593946 0.5941132  0.5940117  0.59654819\n",
            " 0.60710001 0.61237592 0.61136132 0.61339051 0.61227442 0.60567955\n",
            " 0.60618685 0.6004037  0.60334599 0.59746135 0.59715699 0.59583802\n",
            " 0.59624383 0.59472193 0.59299711 0.59756279 0.59593946 0.60385329\n",
            " 0.59147522 0.58670667 0.58792413 0.57443003 0.57219791 0.57027021\n",
            " 0.57412566 0.5863008  0.58214099 0.58214099 0.58356139 0.58741684\n",
            " 0.59857738 0.59218545 0.6013168  0.60334599 0.61034673 0.61470947\n",
            " 0.61897079 0.62343497 0.63530575 0.64413274 0.64646629 0.62881237\n",
            " 0.6314503  0.62789921 0.63053714 0.64382837 0.660975   0.65082904\n",
            " 0.64616193 0.64149481 0.67284577 0.66036626 0.660975   0.6658451\n",
            " 0.65032174 0.63875539 0.63601597 0.63236346 0.63236346 0.6237394\n",
            " 0.6091292  0.60517225 0.59776572 0.58670667 0.58701103 0.57767674\n",
            " 0.58356139 0.59391027 0.59096792 0.58924316 0.58792413 0.59056212\n",
            " 0.55437446 0.54478395 0.55012637 0.55338442]\n",
            "4 day output [[0.55280685]]\n",
            "5 day input [0.5737198  0.57382129 0.57564755 0.58021323 0.58082197 0.58082197\n",
            " 0.58914166 0.59279424 0.59157671 0.58792413 0.58650374 0.59807009\n",
            " 0.59157671 0.60121537 0.60060657 0.60598398 0.61186862 0.60121537\n",
            " 0.59431613 0.59593946 0.5941132  0.5940117  0.59654819 0.60710001\n",
            " 0.61237592 0.61136132 0.61339051 0.61227442 0.60567955 0.60618685\n",
            " 0.6004037  0.60334599 0.59746135 0.59715699 0.59583802 0.59624383\n",
            " 0.59472193 0.59299711 0.59756279 0.59593946 0.60385329 0.59147522\n",
            " 0.58670667 0.58792413 0.57443003 0.57219791 0.57027021 0.57412566\n",
            " 0.5863008  0.58214099 0.58214099 0.58356139 0.58741684 0.59857738\n",
            " 0.59218545 0.6013168  0.60334599 0.61034673 0.61470947 0.61897079\n",
            " 0.62343497 0.63530575 0.64413274 0.64646629 0.62881237 0.6314503\n",
            " 0.62789921 0.63053714 0.64382837 0.660975   0.65082904 0.64616193\n",
            " 0.64149481 0.67284577 0.66036626 0.660975   0.6658451  0.65032174\n",
            " 0.63875539 0.63601597 0.63236346 0.63236346 0.6237394  0.6091292\n",
            " 0.60517225 0.59776572 0.58670667 0.58701103 0.57767674 0.58356139\n",
            " 0.59391027 0.59096792 0.58924316 0.58792413 0.59056212 0.55437446\n",
            " 0.54478395 0.55012637 0.55338442 0.55280685]\n",
            "5 day output [[0.5473956]]\n",
            "6 day input [0.57382129 0.57564755 0.58021323 0.58082197 0.58082197 0.58914166\n",
            " 0.59279424 0.59157671 0.58792413 0.58650374 0.59807009 0.59157671\n",
            " 0.60121537 0.60060657 0.60598398 0.61186862 0.60121537 0.59431613\n",
            " 0.59593946 0.5941132  0.5940117  0.59654819 0.60710001 0.61237592\n",
            " 0.61136132 0.61339051 0.61227442 0.60567955 0.60618685 0.6004037\n",
            " 0.60334599 0.59746135 0.59715699 0.59583802 0.59624383 0.59472193\n",
            " 0.59299711 0.59756279 0.59593946 0.60385329 0.59147522 0.58670667\n",
            " 0.58792413 0.57443003 0.57219791 0.57027021 0.57412566 0.5863008\n",
            " 0.58214099 0.58214099 0.58356139 0.58741684 0.59857738 0.59218545\n",
            " 0.6013168  0.60334599 0.61034673 0.61470947 0.61897079 0.62343497\n",
            " 0.63530575 0.64413274 0.64646629 0.62881237 0.6314503  0.62789921\n",
            " 0.63053714 0.64382837 0.660975   0.65082904 0.64616193 0.64149481\n",
            " 0.67284577 0.66036626 0.660975   0.6658451  0.65032174 0.63875539\n",
            " 0.63601597 0.63236346 0.63236346 0.6237394  0.6091292  0.60517225\n",
            " 0.59776572 0.58670667 0.58701103 0.57767674 0.58356139 0.59391027\n",
            " 0.59096792 0.58924316 0.58792413 0.59056212 0.55437446 0.54478395\n",
            " 0.55012637 0.55338442 0.55280685 0.54739559]\n",
            "6 day output [[0.5391394]]\n",
            "7 day input [0.57564755 0.58021323 0.58082197 0.58082197 0.58914166 0.59279424\n",
            " 0.59157671 0.58792413 0.58650374 0.59807009 0.59157671 0.60121537\n",
            " 0.60060657 0.60598398 0.61186862 0.60121537 0.59431613 0.59593946\n",
            " 0.5941132  0.5940117  0.59654819 0.60710001 0.61237592 0.61136132\n",
            " 0.61339051 0.61227442 0.60567955 0.60618685 0.6004037  0.60334599\n",
            " 0.59746135 0.59715699 0.59583802 0.59624383 0.59472193 0.59299711\n",
            " 0.59756279 0.59593946 0.60385329 0.59147522 0.58670667 0.58792413\n",
            " 0.57443003 0.57219791 0.57027021 0.57412566 0.5863008  0.58214099\n",
            " 0.58214099 0.58356139 0.58741684 0.59857738 0.59218545 0.6013168\n",
            " 0.60334599 0.61034673 0.61470947 0.61897079 0.62343497 0.63530575\n",
            " 0.64413274 0.64646629 0.62881237 0.6314503  0.62789921 0.63053714\n",
            " 0.64382837 0.660975   0.65082904 0.64616193 0.64149481 0.67284577\n",
            " 0.66036626 0.660975   0.6658451  0.65032174 0.63875539 0.63601597\n",
            " 0.63236346 0.63236346 0.6237394  0.6091292  0.60517225 0.59776572\n",
            " 0.58670667 0.58701103 0.57767674 0.58356139 0.59391027 0.59096792\n",
            " 0.58924316 0.58792413 0.59056212 0.55437446 0.54478395 0.55012637\n",
            " 0.55338442 0.55280685 0.54739559 0.53913939]\n",
            "7 day output [[0.5306155]]\n",
            "8 day input [0.58021323 0.58082197 0.58082197 0.58914166 0.59279424 0.59157671\n",
            " 0.58792413 0.58650374 0.59807009 0.59157671 0.60121537 0.60060657\n",
            " 0.60598398 0.61186862 0.60121537 0.59431613 0.59593946 0.5941132\n",
            " 0.5940117  0.59654819 0.60710001 0.61237592 0.61136132 0.61339051\n",
            " 0.61227442 0.60567955 0.60618685 0.6004037  0.60334599 0.59746135\n",
            " 0.59715699 0.59583802 0.59624383 0.59472193 0.59299711 0.59756279\n",
            " 0.59593946 0.60385329 0.59147522 0.58670667 0.58792413 0.57443003\n",
            " 0.57219791 0.57027021 0.57412566 0.5863008  0.58214099 0.58214099\n",
            " 0.58356139 0.58741684 0.59857738 0.59218545 0.6013168  0.60334599\n",
            " 0.61034673 0.61470947 0.61897079 0.62343497 0.63530575 0.64413274\n",
            " 0.64646629 0.62881237 0.6314503  0.62789921 0.63053714 0.64382837\n",
            " 0.660975   0.65082904 0.64616193 0.64149481 0.67284577 0.66036626\n",
            " 0.660975   0.6658451  0.65032174 0.63875539 0.63601597 0.63236346\n",
            " 0.63236346 0.6237394  0.6091292  0.60517225 0.59776572 0.58670667\n",
            " 0.58701103 0.57767674 0.58356139 0.59391027 0.59096792 0.58924316\n",
            " 0.58792413 0.59056212 0.55437446 0.54478395 0.55012637 0.55338442\n",
            " 0.55280685 0.54739559 0.53913939 0.53061551]\n",
            "8 day output [[0.52342206]]\n",
            "9 day input [0.58082197 0.58082197 0.58914166 0.59279424 0.59157671 0.58792413\n",
            " 0.58650374 0.59807009 0.59157671 0.60121537 0.60060657 0.60598398\n",
            " 0.61186862 0.60121537 0.59431613 0.59593946 0.5941132  0.5940117\n",
            " 0.59654819 0.60710001 0.61237592 0.61136132 0.61339051 0.61227442\n",
            " 0.60567955 0.60618685 0.6004037  0.60334599 0.59746135 0.59715699\n",
            " 0.59583802 0.59624383 0.59472193 0.59299711 0.59756279 0.59593946\n",
            " 0.60385329 0.59147522 0.58670667 0.58792413 0.57443003 0.57219791\n",
            " 0.57027021 0.57412566 0.5863008  0.58214099 0.58214099 0.58356139\n",
            " 0.58741684 0.59857738 0.59218545 0.6013168  0.60334599 0.61034673\n",
            " 0.61470947 0.61897079 0.62343497 0.63530575 0.64413274 0.64646629\n",
            " 0.62881237 0.6314503  0.62789921 0.63053714 0.64382837 0.660975\n",
            " 0.65082904 0.64616193 0.64149481 0.67284577 0.66036626 0.660975\n",
            " 0.6658451  0.65032174 0.63875539 0.63601597 0.63236346 0.63236346\n",
            " 0.6237394  0.6091292  0.60517225 0.59776572 0.58670667 0.58701103\n",
            " 0.57767674 0.58356139 0.59391027 0.59096792 0.58924316 0.58792413\n",
            " 0.59056212 0.55437446 0.54478395 0.55012637 0.55338442 0.55280685\n",
            " 0.54739559 0.53913939 0.53061551 0.52342206]\n",
            "9 day output [[0.51779246]]\n",
            "10 day input [0.58082197 0.58914166 0.59279424 0.59157671 0.58792413 0.58650374\n",
            " 0.59807009 0.59157671 0.60121537 0.60060657 0.60598398 0.61186862\n",
            " 0.60121537 0.59431613 0.59593946 0.5941132  0.5940117  0.59654819\n",
            " 0.60710001 0.61237592 0.61136132 0.61339051 0.61227442 0.60567955\n",
            " 0.60618685 0.6004037  0.60334599 0.59746135 0.59715699 0.59583802\n",
            " 0.59624383 0.59472193 0.59299711 0.59756279 0.59593946 0.60385329\n",
            " 0.59147522 0.58670667 0.58792413 0.57443003 0.57219791 0.57027021\n",
            " 0.57412566 0.5863008  0.58214099 0.58214099 0.58356139 0.58741684\n",
            " 0.59857738 0.59218545 0.6013168  0.60334599 0.61034673 0.61470947\n",
            " 0.61897079 0.62343497 0.63530575 0.64413274 0.64646629 0.62881237\n",
            " 0.6314503  0.62789921 0.63053714 0.64382837 0.660975   0.65082904\n",
            " 0.64616193 0.64149481 0.67284577 0.66036626 0.660975   0.6658451\n",
            " 0.65032174 0.63875539 0.63601597 0.63236346 0.63236346 0.6237394\n",
            " 0.6091292  0.60517225 0.59776572 0.58670667 0.58701103 0.57767674\n",
            " 0.58356139 0.59391027 0.59096792 0.58924316 0.58792413 0.59056212\n",
            " 0.55437446 0.54478395 0.55012637 0.55338442 0.55280685 0.54739559\n",
            " 0.53913939 0.53061551 0.52342206 0.51779246]\n",
            "10 day output [[0.5130212]]\n",
            "11 day input [0.58914166 0.59279424 0.59157671 0.58792413 0.58650374 0.59807009\n",
            " 0.59157671 0.60121537 0.60060657 0.60598398 0.61186862 0.60121537\n",
            " 0.59431613 0.59593946 0.5941132  0.5940117  0.59654819 0.60710001\n",
            " 0.61237592 0.61136132 0.61339051 0.61227442 0.60567955 0.60618685\n",
            " 0.6004037  0.60334599 0.59746135 0.59715699 0.59583802 0.59624383\n",
            " 0.59472193 0.59299711 0.59756279 0.59593946 0.60385329 0.59147522\n",
            " 0.58670667 0.58792413 0.57443003 0.57219791 0.57027021 0.57412566\n",
            " 0.5863008  0.58214099 0.58214099 0.58356139 0.58741684 0.59857738\n",
            " 0.59218545 0.6013168  0.60334599 0.61034673 0.61470947 0.61897079\n",
            " 0.62343497 0.63530575 0.64413274 0.64646629 0.62881237 0.6314503\n",
            " 0.62789921 0.63053714 0.64382837 0.660975   0.65082904 0.64616193\n",
            " 0.64149481 0.67284577 0.66036626 0.660975   0.6658451  0.65032174\n",
            " 0.63875539 0.63601597 0.63236346 0.63236346 0.6237394  0.6091292\n",
            " 0.60517225 0.59776572 0.58670667 0.58701103 0.57767674 0.58356139\n",
            " 0.59391027 0.59096792 0.58924316 0.58792413 0.59056212 0.55437446\n",
            " 0.54478395 0.55012637 0.55338442 0.55280685 0.54739559 0.53913939\n",
            " 0.53061551 0.52342206 0.51779246 0.51302117]\n",
            "11 day output [[0.5081856]]\n",
            "12 day input [0.59279424 0.59157671 0.58792413 0.58650374 0.59807009 0.59157671\n",
            " 0.60121537 0.60060657 0.60598398 0.61186862 0.60121537 0.59431613\n",
            " 0.59593946 0.5941132  0.5940117  0.59654819 0.60710001 0.61237592\n",
            " 0.61136132 0.61339051 0.61227442 0.60567955 0.60618685 0.6004037\n",
            " 0.60334599 0.59746135 0.59715699 0.59583802 0.59624383 0.59472193\n",
            " 0.59299711 0.59756279 0.59593946 0.60385329 0.59147522 0.58670667\n",
            " 0.58792413 0.57443003 0.57219791 0.57027021 0.57412566 0.5863008\n",
            " 0.58214099 0.58214099 0.58356139 0.58741684 0.59857738 0.59218545\n",
            " 0.6013168  0.60334599 0.61034673 0.61470947 0.61897079 0.62343497\n",
            " 0.63530575 0.64413274 0.64646629 0.62881237 0.6314503  0.62789921\n",
            " 0.63053714 0.64382837 0.660975   0.65082904 0.64616193 0.64149481\n",
            " 0.67284577 0.66036626 0.660975   0.6658451  0.65032174 0.63875539\n",
            " 0.63601597 0.63236346 0.63236346 0.6237394  0.6091292  0.60517225\n",
            " 0.59776572 0.58670667 0.58701103 0.57767674 0.58356139 0.59391027\n",
            " 0.59096792 0.58924316 0.58792413 0.59056212 0.55437446 0.54478395\n",
            " 0.55012637 0.55338442 0.55280685 0.54739559 0.53913939 0.53061551\n",
            " 0.52342206 0.51779246 0.51302117 0.50818563]\n",
            "12 day output [[0.50267756]]\n",
            "13 day input [0.59157671 0.58792413 0.58650374 0.59807009 0.59157671 0.60121537\n",
            " 0.60060657 0.60598398 0.61186862 0.60121537 0.59431613 0.59593946\n",
            " 0.5941132  0.5940117  0.59654819 0.60710001 0.61237592 0.61136132\n",
            " 0.61339051 0.61227442 0.60567955 0.60618685 0.6004037  0.60334599\n",
            " 0.59746135 0.59715699 0.59583802 0.59624383 0.59472193 0.59299711\n",
            " 0.59756279 0.59593946 0.60385329 0.59147522 0.58670667 0.58792413\n",
            " 0.57443003 0.57219791 0.57027021 0.57412566 0.5863008  0.58214099\n",
            " 0.58214099 0.58356139 0.58741684 0.59857738 0.59218545 0.6013168\n",
            " 0.60334599 0.61034673 0.61470947 0.61897079 0.62343497 0.63530575\n",
            " 0.64413274 0.64646629 0.62881237 0.6314503  0.62789921 0.63053714\n",
            " 0.64382837 0.660975   0.65082904 0.64616193 0.64149481 0.67284577\n",
            " 0.66036626 0.660975   0.6658451  0.65032174 0.63875539 0.63601597\n",
            " 0.63236346 0.63236346 0.6237394  0.6091292  0.60517225 0.59776572\n",
            " 0.58670667 0.58701103 0.57767674 0.58356139 0.59391027 0.59096792\n",
            " 0.58924316 0.58792413 0.59056212 0.55437446 0.54478395 0.55012637\n",
            " 0.55338442 0.55280685 0.54739559 0.53913939 0.53061551 0.52342206\n",
            " 0.51779246 0.51302117 0.50818563 0.50267756]\n",
            "13 day output [[0.49635962]]\n",
            "14 day input [0.58792413 0.58650374 0.59807009 0.59157671 0.60121537 0.60060657\n",
            " 0.60598398 0.61186862 0.60121537 0.59431613 0.59593946 0.5941132\n",
            " 0.5940117  0.59654819 0.60710001 0.61237592 0.61136132 0.61339051\n",
            " 0.61227442 0.60567955 0.60618685 0.6004037  0.60334599 0.59746135\n",
            " 0.59715699 0.59583802 0.59624383 0.59472193 0.59299711 0.59756279\n",
            " 0.59593946 0.60385329 0.59147522 0.58670667 0.58792413 0.57443003\n",
            " 0.57219791 0.57027021 0.57412566 0.5863008  0.58214099 0.58214099\n",
            " 0.58356139 0.58741684 0.59857738 0.59218545 0.6013168  0.60334599\n",
            " 0.61034673 0.61470947 0.61897079 0.62343497 0.63530575 0.64413274\n",
            " 0.64646629 0.62881237 0.6314503  0.62789921 0.63053714 0.64382837\n",
            " 0.660975   0.65082904 0.64616193 0.64149481 0.67284577 0.66036626\n",
            " 0.660975   0.6658451  0.65032174 0.63875539 0.63601597 0.63236346\n",
            " 0.63236346 0.6237394  0.6091292  0.60517225 0.59776572 0.58670667\n",
            " 0.58701103 0.57767674 0.58356139 0.59391027 0.59096792 0.58924316\n",
            " 0.58792413 0.59056212 0.55437446 0.54478395 0.55012637 0.55338442\n",
            " 0.55280685 0.54739559 0.53913939 0.53061551 0.52342206 0.51779246\n",
            " 0.51302117 0.50818563 0.50267756 0.49635962]\n",
            "14 day output [[0.4894208]]\n",
            "15 day input [0.58650374 0.59807009 0.59157671 0.60121537 0.60060657 0.60598398\n",
            " 0.61186862 0.60121537 0.59431613 0.59593946 0.5941132  0.5940117\n",
            " 0.59654819 0.60710001 0.61237592 0.61136132 0.61339051 0.61227442\n",
            " 0.60567955 0.60618685 0.6004037  0.60334599 0.59746135 0.59715699\n",
            " 0.59583802 0.59624383 0.59472193 0.59299711 0.59756279 0.59593946\n",
            " 0.60385329 0.59147522 0.58670667 0.58792413 0.57443003 0.57219791\n",
            " 0.57027021 0.57412566 0.5863008  0.58214099 0.58214099 0.58356139\n",
            " 0.58741684 0.59857738 0.59218545 0.6013168  0.60334599 0.61034673\n",
            " 0.61470947 0.61897079 0.62343497 0.63530575 0.64413274 0.64646629\n",
            " 0.62881237 0.6314503  0.62789921 0.63053714 0.64382837 0.660975\n",
            " 0.65082904 0.64616193 0.64149481 0.67284577 0.66036626 0.660975\n",
            " 0.6658451  0.65032174 0.63875539 0.63601597 0.63236346 0.63236346\n",
            " 0.6237394  0.6091292  0.60517225 0.59776572 0.58670667 0.58701103\n",
            " 0.57767674 0.58356139 0.59391027 0.59096792 0.58924316 0.58792413\n",
            " 0.59056212 0.55437446 0.54478395 0.55012637 0.55338442 0.55280685\n",
            " 0.54739559 0.53913939 0.53061551 0.52342206 0.51779246 0.51302117\n",
            " 0.50818563 0.50267756 0.49635962 0.4894208 ]\n",
            "15 day output [[0.4821302]]\n",
            "16 day input [0.59807009 0.59157671 0.60121537 0.60060657 0.60598398 0.61186862\n",
            " 0.60121537 0.59431613 0.59593946 0.5941132  0.5940117  0.59654819\n",
            " 0.60710001 0.61237592 0.61136132 0.61339051 0.61227442 0.60567955\n",
            " 0.60618685 0.6004037  0.60334599 0.59746135 0.59715699 0.59583802\n",
            " 0.59624383 0.59472193 0.59299711 0.59756279 0.59593946 0.60385329\n",
            " 0.59147522 0.58670667 0.58792413 0.57443003 0.57219791 0.57027021\n",
            " 0.57412566 0.5863008  0.58214099 0.58214099 0.58356139 0.58741684\n",
            " 0.59857738 0.59218545 0.6013168  0.60334599 0.61034673 0.61470947\n",
            " 0.61897079 0.62343497 0.63530575 0.64413274 0.64646629 0.62881237\n",
            " 0.6314503  0.62789921 0.63053714 0.64382837 0.660975   0.65082904\n",
            " 0.64616193 0.64149481 0.67284577 0.66036626 0.660975   0.6658451\n",
            " 0.65032174 0.63875539 0.63601597 0.63236346 0.63236346 0.6237394\n",
            " 0.6091292  0.60517225 0.59776572 0.58670667 0.58701103 0.57767674\n",
            " 0.58356139 0.59391027 0.59096792 0.58924316 0.58792413 0.59056212\n",
            " 0.55437446 0.54478395 0.55012637 0.55338442 0.55280685 0.54739559\n",
            " 0.53913939 0.53061551 0.52342206 0.51779246 0.51302117 0.50818563\n",
            " 0.50267756 0.49635962 0.4894208  0.4821302 ]\n",
            "16 day output [[0.47466123]]\n",
            "17 day input [0.59157671 0.60121537 0.60060657 0.60598398 0.61186862 0.60121537\n",
            " 0.59431613 0.59593946 0.5941132  0.5940117  0.59654819 0.60710001\n",
            " 0.61237592 0.61136132 0.61339051 0.61227442 0.60567955 0.60618685\n",
            " 0.6004037  0.60334599 0.59746135 0.59715699 0.59583802 0.59624383\n",
            " 0.59472193 0.59299711 0.59756279 0.59593946 0.60385329 0.59147522\n",
            " 0.58670667 0.58792413 0.57443003 0.57219791 0.57027021 0.57412566\n",
            " 0.5863008  0.58214099 0.58214099 0.58356139 0.58741684 0.59857738\n",
            " 0.59218545 0.6013168  0.60334599 0.61034673 0.61470947 0.61897079\n",
            " 0.62343497 0.63530575 0.64413274 0.64646629 0.62881237 0.6314503\n",
            " 0.62789921 0.63053714 0.64382837 0.660975   0.65082904 0.64616193\n",
            " 0.64149481 0.67284577 0.66036626 0.660975   0.6658451  0.65032174\n",
            " 0.63875539 0.63601597 0.63236346 0.63236346 0.6237394  0.6091292\n",
            " 0.60517225 0.59776572 0.58670667 0.58701103 0.57767674 0.58356139\n",
            " 0.59391027 0.59096792 0.58924316 0.58792413 0.59056212 0.55437446\n",
            " 0.54478395 0.55012637 0.55338442 0.55280685 0.54739559 0.53913939\n",
            " 0.53061551 0.52342206 0.51779246 0.51302117 0.50818563 0.50267756\n",
            " 0.49635962 0.4894208  0.4821302  0.47466123]\n",
            "17 day output [[0.46704495]]\n",
            "18 day input [0.60121537 0.60060657 0.60598398 0.61186862 0.60121537 0.59431613\n",
            " 0.59593946 0.5941132  0.5940117  0.59654819 0.60710001 0.61237592\n",
            " 0.61136132 0.61339051 0.61227442 0.60567955 0.60618685 0.6004037\n",
            " 0.60334599 0.59746135 0.59715699 0.59583802 0.59624383 0.59472193\n",
            " 0.59299711 0.59756279 0.59593946 0.60385329 0.59147522 0.58670667\n",
            " 0.58792413 0.57443003 0.57219791 0.57027021 0.57412566 0.5863008\n",
            " 0.58214099 0.58214099 0.58356139 0.58741684 0.59857738 0.59218545\n",
            " 0.6013168  0.60334599 0.61034673 0.61470947 0.61897079 0.62343497\n",
            " 0.63530575 0.64413274 0.64646629 0.62881237 0.6314503  0.62789921\n",
            " 0.63053714 0.64382837 0.660975   0.65082904 0.64616193 0.64149481\n",
            " 0.67284577 0.66036626 0.660975   0.6658451  0.65032174 0.63875539\n",
            " 0.63601597 0.63236346 0.63236346 0.6237394  0.6091292  0.60517225\n",
            " 0.59776572 0.58670667 0.58701103 0.57767674 0.58356139 0.59391027\n",
            " 0.59096792 0.58924316 0.58792413 0.59056212 0.55437446 0.54478395\n",
            " 0.55012637 0.55338442 0.55280685 0.54739559 0.53913939 0.53061551\n",
            " 0.52342206 0.51779246 0.51302117 0.50818563 0.50267756 0.49635962\n",
            " 0.4894208  0.4821302  0.47466123 0.46704495]\n",
            "18 day output [[0.4592185]]\n",
            "19 day input [0.60060657 0.60598398 0.61186862 0.60121537 0.59431613 0.59593946\n",
            " 0.5941132  0.5940117  0.59654819 0.60710001 0.61237592 0.61136132\n",
            " 0.61339051 0.61227442 0.60567955 0.60618685 0.6004037  0.60334599\n",
            " 0.59746135 0.59715699 0.59583802 0.59624383 0.59472193 0.59299711\n",
            " 0.59756279 0.59593946 0.60385329 0.59147522 0.58670667 0.58792413\n",
            " 0.57443003 0.57219791 0.57027021 0.57412566 0.5863008  0.58214099\n",
            " 0.58214099 0.58356139 0.58741684 0.59857738 0.59218545 0.6013168\n",
            " 0.60334599 0.61034673 0.61470947 0.61897079 0.62343497 0.63530575\n",
            " 0.64413274 0.64646629 0.62881237 0.6314503  0.62789921 0.63053714\n",
            " 0.64382837 0.660975   0.65082904 0.64616193 0.64149481 0.67284577\n",
            " 0.66036626 0.660975   0.6658451  0.65032174 0.63875539 0.63601597\n",
            " 0.63236346 0.63236346 0.6237394  0.6091292  0.60517225 0.59776572\n",
            " 0.58670667 0.58701103 0.57767674 0.58356139 0.59391027 0.59096792\n",
            " 0.58924316 0.58792413 0.59056212 0.55437446 0.54478395 0.55012637\n",
            " 0.55338442 0.55280685 0.54739559 0.53913939 0.53061551 0.52342206\n",
            " 0.51779246 0.51302117 0.50818563 0.50267756 0.49635962 0.4894208\n",
            " 0.4821302  0.47466123 0.46704495 0.4592185 ]\n",
            "19 day output [[0.4510997]]\n",
            "20 day input [0.60598398 0.61186862 0.60121537 0.59431613 0.59593946 0.5941132\n",
            " 0.5940117  0.59654819 0.60710001 0.61237592 0.61136132 0.61339051\n",
            " 0.61227442 0.60567955 0.60618685 0.6004037  0.60334599 0.59746135\n",
            " 0.59715699 0.59583802 0.59624383 0.59472193 0.59299711 0.59756279\n",
            " 0.59593946 0.60385329 0.59147522 0.58670667 0.58792413 0.57443003\n",
            " 0.57219791 0.57027021 0.57412566 0.5863008  0.58214099 0.58214099\n",
            " 0.58356139 0.58741684 0.59857738 0.59218545 0.6013168  0.60334599\n",
            " 0.61034673 0.61470947 0.61897079 0.62343497 0.63530575 0.64413274\n",
            " 0.64646629 0.62881237 0.6314503  0.62789921 0.63053714 0.64382837\n",
            " 0.660975   0.65082904 0.64616193 0.64149481 0.67284577 0.66036626\n",
            " 0.660975   0.6658451  0.65032174 0.63875539 0.63601597 0.63236346\n",
            " 0.63236346 0.6237394  0.6091292  0.60517225 0.59776572 0.58670667\n",
            " 0.58701103 0.57767674 0.58356139 0.59391027 0.59096792 0.58924316\n",
            " 0.58792413 0.59056212 0.55437446 0.54478395 0.55012637 0.55338442\n",
            " 0.55280685 0.54739559 0.53913939 0.53061551 0.52342206 0.51779246\n",
            " 0.51302117 0.50818563 0.50267756 0.49635962 0.4894208  0.4821302\n",
            " 0.47466123 0.46704495 0.4592185  0.45109969]\n",
            "20 day output [[0.44263664]]\n",
            "21 day input [0.61186862 0.60121537 0.59431613 0.59593946 0.5941132  0.5940117\n",
            " 0.59654819 0.60710001 0.61237592 0.61136132 0.61339051 0.61227442\n",
            " 0.60567955 0.60618685 0.6004037  0.60334599 0.59746135 0.59715699\n",
            " 0.59583802 0.59624383 0.59472193 0.59299711 0.59756279 0.59593946\n",
            " 0.60385329 0.59147522 0.58670667 0.58792413 0.57443003 0.57219791\n",
            " 0.57027021 0.57412566 0.5863008  0.58214099 0.58214099 0.58356139\n",
            " 0.58741684 0.59857738 0.59218545 0.6013168  0.60334599 0.61034673\n",
            " 0.61470947 0.61897079 0.62343497 0.63530575 0.64413274 0.64646629\n",
            " 0.62881237 0.6314503  0.62789921 0.63053714 0.64382837 0.660975\n",
            " 0.65082904 0.64616193 0.64149481 0.67284577 0.66036626 0.660975\n",
            " 0.6658451  0.65032174 0.63875539 0.63601597 0.63236346 0.63236346\n",
            " 0.6237394  0.6091292  0.60517225 0.59776572 0.58670667 0.58701103\n",
            " 0.57767674 0.58356139 0.59391027 0.59096792 0.58924316 0.58792413\n",
            " 0.59056212 0.55437446 0.54478395 0.55012637 0.55338442 0.55280685\n",
            " 0.54739559 0.53913939 0.53061551 0.52342206 0.51779246 0.51302117\n",
            " 0.50818563 0.50267756 0.49635962 0.4894208  0.4821302  0.47466123\n",
            " 0.46704495 0.4592185  0.45109969 0.44263664]\n",
            "21 day output [[0.4338187]]\n",
            "22 day input [0.60121537 0.59431613 0.59593946 0.5941132  0.5940117  0.59654819\n",
            " 0.60710001 0.61237592 0.61136132 0.61339051 0.61227442 0.60567955\n",
            " 0.60618685 0.6004037  0.60334599 0.59746135 0.59715699 0.59583802\n",
            " 0.59624383 0.59472193 0.59299711 0.59756279 0.59593946 0.60385329\n",
            " 0.59147522 0.58670667 0.58792413 0.57443003 0.57219791 0.57027021\n",
            " 0.57412566 0.5863008  0.58214099 0.58214099 0.58356139 0.58741684\n",
            " 0.59857738 0.59218545 0.6013168  0.60334599 0.61034673 0.61470947\n",
            " 0.61897079 0.62343497 0.63530575 0.64413274 0.64646629 0.62881237\n",
            " 0.6314503  0.62789921 0.63053714 0.64382837 0.660975   0.65082904\n",
            " 0.64616193 0.64149481 0.67284577 0.66036626 0.660975   0.6658451\n",
            " 0.65032174 0.63875539 0.63601597 0.63236346 0.63236346 0.6237394\n",
            " 0.6091292  0.60517225 0.59776572 0.58670667 0.58701103 0.57767674\n",
            " 0.58356139 0.59391027 0.59096792 0.58924316 0.58792413 0.59056212\n",
            " 0.55437446 0.54478395 0.55012637 0.55338442 0.55280685 0.54739559\n",
            " 0.53913939 0.53061551 0.52342206 0.51779246 0.51302117 0.50818563\n",
            " 0.50267756 0.49635962 0.4894208  0.4821302  0.47466123 0.46704495\n",
            " 0.4592185  0.45109969 0.44263664 0.4338187 ]\n",
            "22 day output [[0.42466053]]\n",
            "23 day input [0.59431613 0.59593946 0.5941132  0.5940117  0.59654819 0.60710001\n",
            " 0.61237592 0.61136132 0.61339051 0.61227442 0.60567955 0.60618685\n",
            " 0.6004037  0.60334599 0.59746135 0.59715699 0.59583802 0.59624383\n",
            " 0.59472193 0.59299711 0.59756279 0.59593946 0.60385329 0.59147522\n",
            " 0.58670667 0.58792413 0.57443003 0.57219791 0.57027021 0.57412566\n",
            " 0.5863008  0.58214099 0.58214099 0.58356139 0.58741684 0.59857738\n",
            " 0.59218545 0.6013168  0.60334599 0.61034673 0.61470947 0.61897079\n",
            " 0.62343497 0.63530575 0.64413274 0.64646629 0.62881237 0.6314503\n",
            " 0.62789921 0.63053714 0.64382837 0.660975   0.65082904 0.64616193\n",
            " 0.64149481 0.67284577 0.66036626 0.660975   0.6658451  0.65032174\n",
            " 0.63875539 0.63601597 0.63236346 0.63236346 0.6237394  0.6091292\n",
            " 0.60517225 0.59776572 0.58670667 0.58701103 0.57767674 0.58356139\n",
            " 0.59391027 0.59096792 0.58924316 0.58792413 0.59056212 0.55437446\n",
            " 0.54478395 0.55012637 0.55338442 0.55280685 0.54739559 0.53913939\n",
            " 0.53061551 0.52342206 0.51779246 0.51302117 0.50818563 0.50267756\n",
            " 0.49635962 0.4894208  0.4821302  0.47466123 0.46704495 0.4592185\n",
            " 0.45109969 0.44263664 0.4338187  0.42466053]\n",
            "23 day output [[0.41518158]]\n",
            "24 day input [0.59593946 0.5941132  0.5940117  0.59654819 0.60710001 0.61237592\n",
            " 0.61136132 0.61339051 0.61227442 0.60567955 0.60618685 0.6004037\n",
            " 0.60334599 0.59746135 0.59715699 0.59583802 0.59624383 0.59472193\n",
            " 0.59299711 0.59756279 0.59593946 0.60385329 0.59147522 0.58670667\n",
            " 0.58792413 0.57443003 0.57219791 0.57027021 0.57412566 0.5863008\n",
            " 0.58214099 0.58214099 0.58356139 0.58741684 0.59857738 0.59218545\n",
            " 0.6013168  0.60334599 0.61034673 0.61470947 0.61897079 0.62343497\n",
            " 0.63530575 0.64413274 0.64646629 0.62881237 0.6314503  0.62789921\n",
            " 0.63053714 0.64382837 0.660975   0.65082904 0.64616193 0.64149481\n",
            " 0.67284577 0.66036626 0.660975   0.6658451  0.65032174 0.63875539\n",
            " 0.63601597 0.63236346 0.63236346 0.6237394  0.6091292  0.60517225\n",
            " 0.59776572 0.58670667 0.58701103 0.57767674 0.58356139 0.59391027\n",
            " 0.59096792 0.58924316 0.58792413 0.59056212 0.55437446 0.54478395\n",
            " 0.55012637 0.55338442 0.55280685 0.54739559 0.53913939 0.53061551\n",
            " 0.52342206 0.51779246 0.51302117 0.50818563 0.50267756 0.49635962\n",
            " 0.4894208  0.4821302  0.47466123 0.46704495 0.4592185  0.45109969\n",
            " 0.44263664 0.4338187  0.42466053 0.41518158]\n",
            "24 day output [[0.4053933]]\n",
            "25 day input [0.5941132  0.5940117  0.59654819 0.60710001 0.61237592 0.61136132\n",
            " 0.61339051 0.61227442 0.60567955 0.60618685 0.6004037  0.60334599\n",
            " 0.59746135 0.59715699 0.59583802 0.59624383 0.59472193 0.59299711\n",
            " 0.59756279 0.59593946 0.60385329 0.59147522 0.58670667 0.58792413\n",
            " 0.57443003 0.57219791 0.57027021 0.57412566 0.5863008  0.58214099\n",
            " 0.58214099 0.58356139 0.58741684 0.59857738 0.59218545 0.6013168\n",
            " 0.60334599 0.61034673 0.61470947 0.61897079 0.62343497 0.63530575\n",
            " 0.64413274 0.64646629 0.62881237 0.6314503  0.62789921 0.63053714\n",
            " 0.64382837 0.660975   0.65082904 0.64616193 0.64149481 0.67284577\n",
            " 0.66036626 0.660975   0.6658451  0.65032174 0.63875539 0.63601597\n",
            " 0.63236346 0.63236346 0.6237394  0.6091292  0.60517225 0.59776572\n",
            " 0.58670667 0.58701103 0.57767674 0.58356139 0.59391027 0.59096792\n",
            " 0.58924316 0.58792413 0.59056212 0.55437446 0.54478395 0.55012637\n",
            " 0.55338442 0.55280685 0.54739559 0.53913939 0.53061551 0.52342206\n",
            " 0.51779246 0.51302117 0.50818563 0.50267756 0.49635962 0.4894208\n",
            " 0.4821302  0.47466123 0.46704495 0.4592185  0.45109969 0.44263664\n",
            " 0.4338187  0.42466053 0.41518158 0.4053933 ]\n",
            "25 day output [[0.39530048]]\n",
            "26 day input [0.5940117  0.59654819 0.60710001 0.61237592 0.61136132 0.61339051\n",
            " 0.61227442 0.60567955 0.60618685 0.6004037  0.60334599 0.59746135\n",
            " 0.59715699 0.59583802 0.59624383 0.59472193 0.59299711 0.59756279\n",
            " 0.59593946 0.60385329 0.59147522 0.58670667 0.58792413 0.57443003\n",
            " 0.57219791 0.57027021 0.57412566 0.5863008  0.58214099 0.58214099\n",
            " 0.58356139 0.58741684 0.59857738 0.59218545 0.6013168  0.60334599\n",
            " 0.61034673 0.61470947 0.61897079 0.62343497 0.63530575 0.64413274\n",
            " 0.64646629 0.62881237 0.6314503  0.62789921 0.63053714 0.64382837\n",
            " 0.660975   0.65082904 0.64616193 0.64149481 0.67284577 0.66036626\n",
            " 0.660975   0.6658451  0.65032174 0.63875539 0.63601597 0.63236346\n",
            " 0.63236346 0.6237394  0.6091292  0.60517225 0.59776572 0.58670667\n",
            " 0.58701103 0.57767674 0.58356139 0.59391027 0.59096792 0.58924316\n",
            " 0.58792413 0.59056212 0.55437446 0.54478395 0.55012637 0.55338442\n",
            " 0.55280685 0.54739559 0.53913939 0.53061551 0.52342206 0.51779246\n",
            " 0.51302117 0.50818563 0.50267756 0.49635962 0.4894208  0.4821302\n",
            " 0.47466123 0.46704495 0.4592185  0.45109969 0.44263664 0.4338187\n",
            " 0.42466053 0.41518158 0.4053933  0.39530048]\n",
            "26 day output [[0.384911]]\n",
            "27 day input [0.59654819 0.60710001 0.61237592 0.61136132 0.61339051 0.61227442\n",
            " 0.60567955 0.60618685 0.6004037  0.60334599 0.59746135 0.59715699\n",
            " 0.59583802 0.59624383 0.59472193 0.59299711 0.59756279 0.59593946\n",
            " 0.60385329 0.59147522 0.58670667 0.58792413 0.57443003 0.57219791\n",
            " 0.57027021 0.57412566 0.5863008  0.58214099 0.58214099 0.58356139\n",
            " 0.58741684 0.59857738 0.59218545 0.6013168  0.60334599 0.61034673\n",
            " 0.61470947 0.61897079 0.62343497 0.63530575 0.64413274 0.64646629\n",
            " 0.62881237 0.6314503  0.62789921 0.63053714 0.64382837 0.660975\n",
            " 0.65082904 0.64616193 0.64149481 0.67284577 0.66036626 0.660975\n",
            " 0.6658451  0.65032174 0.63875539 0.63601597 0.63236346 0.63236346\n",
            " 0.6237394  0.6091292  0.60517225 0.59776572 0.58670667 0.58701103\n",
            " 0.57767674 0.58356139 0.59391027 0.59096792 0.58924316 0.58792413\n",
            " 0.59056212 0.55437446 0.54478395 0.55012637 0.55338442 0.55280685\n",
            " 0.54739559 0.53913939 0.53061551 0.52342206 0.51779246 0.51302117\n",
            " 0.50818563 0.50267756 0.49635962 0.4894208  0.4821302  0.47466123\n",
            " 0.46704495 0.4592185  0.45109969 0.44263664 0.4338187  0.42466053\n",
            " 0.41518158 0.4053933  0.39530048 0.384911  ]\n",
            "27 day output [[0.3742499]]\n",
            "28 day input [0.60710001 0.61237592 0.61136132 0.61339051 0.61227442 0.60567955\n",
            " 0.60618685 0.6004037  0.60334599 0.59746135 0.59715699 0.59583802\n",
            " 0.59624383 0.59472193 0.59299711 0.59756279 0.59593946 0.60385329\n",
            " 0.59147522 0.58670667 0.58792413 0.57443003 0.57219791 0.57027021\n",
            " 0.57412566 0.5863008  0.58214099 0.58214099 0.58356139 0.58741684\n",
            " 0.59857738 0.59218545 0.6013168  0.60334599 0.61034673 0.61470947\n",
            " 0.61897079 0.62343497 0.63530575 0.64413274 0.64646629 0.62881237\n",
            " 0.6314503  0.62789921 0.63053714 0.64382837 0.660975   0.65082904\n",
            " 0.64616193 0.64149481 0.67284577 0.66036626 0.660975   0.6658451\n",
            " 0.65032174 0.63875539 0.63601597 0.63236346 0.63236346 0.6237394\n",
            " 0.6091292  0.60517225 0.59776572 0.58670667 0.58701103 0.57767674\n",
            " 0.58356139 0.59391027 0.59096792 0.58924316 0.58792413 0.59056212\n",
            " 0.55437446 0.54478395 0.55012637 0.55338442 0.55280685 0.54739559\n",
            " 0.53913939 0.53061551 0.52342206 0.51779246 0.51302117 0.50818563\n",
            " 0.50267756 0.49635962 0.4894208  0.4821302  0.47466123 0.46704495\n",
            " 0.4592185  0.45109969 0.44263664 0.4338187  0.42466053 0.41518158\n",
            " 0.4053933  0.39530048 0.384911   0.37424991]\n",
            "28 day output [[0.36337042]]\n",
            "29 day input [0.61237592 0.61136132 0.61339051 0.61227442 0.60567955 0.60618685\n",
            " 0.6004037  0.60334599 0.59746135 0.59715699 0.59583802 0.59624383\n",
            " 0.59472193 0.59299711 0.59756279 0.59593946 0.60385329 0.59147522\n",
            " 0.58670667 0.58792413 0.57443003 0.57219791 0.57027021 0.57412566\n",
            " 0.5863008  0.58214099 0.58214099 0.58356139 0.58741684 0.59857738\n",
            " 0.59218545 0.6013168  0.60334599 0.61034673 0.61470947 0.61897079\n",
            " 0.62343497 0.63530575 0.64413274 0.64646629 0.62881237 0.6314503\n",
            " 0.62789921 0.63053714 0.64382837 0.660975   0.65082904 0.64616193\n",
            " 0.64149481 0.67284577 0.66036626 0.660975   0.6658451  0.65032174\n",
            " 0.63875539 0.63601597 0.63236346 0.63236346 0.6237394  0.6091292\n",
            " 0.60517225 0.59776572 0.58670667 0.58701103 0.57767674 0.58356139\n",
            " 0.59391027 0.59096792 0.58924316 0.58792413 0.59056212 0.55437446\n",
            " 0.54478395 0.55012637 0.55338442 0.55280685 0.54739559 0.53913939\n",
            " 0.53061551 0.52342206 0.51779246 0.51302117 0.50818563 0.50267756\n",
            " 0.49635962 0.4894208  0.4821302  0.47466123 0.46704495 0.4592185\n",
            " 0.45109969 0.44263664 0.4338187  0.42466053 0.41518158 0.4053933\n",
            " 0.39530048 0.384911   0.37424991 0.36337042]\n",
            "29 day output [[0.3523621]]\n",
            "[[0.5543744564056396], [0.5447839498519897], [0.5501263737678528], [0.5533844232559204], [0.5528068542480469], [0.5473955869674683], [0.5391393899917603], [0.530615508556366], [0.5234220623970032], [0.5177924633026123], [0.5130211710929871], [0.508185625076294], [0.5026775598526001], [0.49635961651802063], [0.4894208014011383], [0.4821301996707916], [0.4746612310409546], [0.4670449495315552], [0.45921850204467773], [0.451099693775177], [0.442636638879776], [0.4338186979293823], [0.4246605336666107], [0.41518157720565796], [0.4053933024406433], [0.3953004777431488], [0.3849110007286072], [0.3742499053478241], [0.363370418548584], [0.35236209630966187]]\n"
          ]
        }
      ],
      "source": [
        "# demonstrate prediction for next 30 days\n",
        "lst_output = []\n",
        "n_steps = 100\n",
        "i = 0\n",
        "while(i < 30):\n",
        "    \n",
        "    if(len(temp_input) > 100):\n",
        "        # print(temp_input)\n",
        "        x_input = np.array(temp_input[1:])\n",
        "        print(\"{} day input {}\".format(i,x_input))\n",
        "        x_input = x_input.reshape(1,-1)\n",
        "        x_input = x_input.reshape((1, n_steps, 1))\n",
        "        # print(x_input)\n",
        "        yhat = model.predict(x_input, verbose = 0)\n",
        "        print(\"{} day output {}\".format(i, yhat))\n",
        "        temp_input.extend(yhat[0].tolist())\n",
        "        temp_input = temp_input[1:]\n",
        "        # print(temp_input)\n",
        "        lst_output.extend(yhat.tolist())\n",
        "        i = i+1\n",
        "    else:\n",
        "        x_input = x_input.reshape((1, n_steps,1))\n",
        "        yhat = model.predict(x_input, verbose = 0)\n",
        "        print(yhat[0])\n",
        "        temp_input.extend(yhat[0].tolist())\n",
        "        print(len(temp_input))\n",
        "        lst_output.extend(yhat.tolist())\n",
        "        i = i+1\n",
        "    \n",
        "print(lst_output)"
      ]
    },
    {
      "cell_type": "code",
      "execution_count": 38,
      "metadata": {
        "id": "UfalI-AiqIdM"
      },
      "outputs": [],
      "source": [
        "# creating an instance of ndarray with evenly spaced values\n",
        "day_new = np.arange(1, 101)\n",
        "day_pred = np.arange(101, 131)"
      ]
    },
    {
      "cell_type": "code",
      "execution_count": 39,
      "metadata": {
        "id": "_FLFJd9KqIdN",
        "outputId": "44d4c66c-13e9-4877-aac3-b311fecd0cc7",
        "colab": {
          "base_uri": "https://localhost:8080/"
        }
      },
      "outputs": [
        {
          "output_type": "stream",
          "name": "stdout",
          "text": [
            "6060\n"
          ]
        }
      ],
      "source": [
        "print(len(df_close))"
      ]
    },
    {
      "cell_type": "code",
      "execution_count": 41,
      "metadata": {
        "id": "foluVV7xqIdN",
        "outputId": "2d540f63-5d61-4da3-f96d-11293a33bd7f",
        "colab": {
          "base_uri": "https://localhost:8080/",
          "height": 282
        }
      },
      "outputs": [
        {
          "output_type": "execute_result",
          "data": {
            "text/plain": [
              "[<matplotlib.lines.Line2D at 0x7fd2ac8323d0>]"
            ]
          },
          "metadata": {},
          "execution_count": 41
        },
        {
          "output_type": "display_data",
          "data": {
            "text/plain": [
              "<Figure size 432x288 with 1 Axes>"
            ],
            "image/png": "[encoded data removed]"
          },
          "metadata": {
            "needs_background": "light"
          }
        }
      ],
      "source": [
        "plt.plot(day_new, scaler.inverse_transform(df_close[5960:]))\n",
        "plt.plot(day_pred, scaler.inverse_transform(lst_output))"
      ]
    },
    {
      "cell_type": "code",
      "execution_count": 42,
      "metadata": {
        "id": "sn1CZtirqIdN",
        "outputId": "3519ce53-ecbb-46b7-b469-15ba7671e13c",
        "colab": {
          "base_uri": "https://localhost:8080/",
          "height": 282
        }
      },
      "outputs": [
        {
          "output_type": "execute_result",
          "data": {
            "text/plain": [
              "[<matplotlib.lines.Line2D at 0x7fd2ac84d450>]"
            ]
          },
          "metadata": {},
          "execution_count": 42
        },
        {
          "output_type": "display_data",
          "data": {
            "text/plain": [
              "<Figure size 432x288 with 1 Axes>"
            ],
            "image/png": "[encoded data removed]"
          },
          "metadata": {
            "needs_background": "light"
          }
        }
      ],
      "source": [
        "dataset_close = df_close.tolist()\n",
        "dataset_close.extend(lst_output)\n",
        "plt.plot(dataset_close[4059:])"
      ]
    },
    {
      "cell_type": "code",
      "execution_count": 43,
      "metadata": {
        "id": "7RfYr5PDqIdO",
        "outputId": "603cc482-e8eb-4908-8459-02c9df9f337b",
        "colab": {
          "base_uri": "https://localhost:8080/",
          "height": 282
        }
      },
      "outputs": [
        {
          "output_type": "execute_result",
          "data": {
            "text/plain": [
              "[<matplotlib.lines.Line2D at 0x7fd2a7b05e50>]"
            ]
          },
          "metadata": {},
          "execution_count": 43
        },
        {
          "output_type": "display_data",
          "data": {
            "text/plain": [
              "<Figure size 432x288 with 1 Axes>"
            ],
            "image/png": "[encoded data removed]"
          },
          "metadata": {
            "needs_background": "light"
          }
        }
      ],
      "source": [
        "dataset_close = scaler.inverse_transform(dataset_close).tolist()\n",
        "plt.plot(dataset_close)"
      ]
    },
    {
      "cell_type": "code",
      "execution_count": 44,
      "metadata": {
        "id": "XCo4fcbeqIdO",
        "outputId": "9f895211-dc45-420c-ba43-3dc9258c36cf",
        "colab": {
          "base_uri": "https://localhost:8080/"
        }
      },
      "outputs": [
        {
          "output_type": "stream",
          "name": "stdout",
          "text": [
            "Accuracy Score of Train Data: 0.19284428442844284\n",
            "Precision Score of Train Data: 0.0047169811320754715\n",
            "Recall Score of Train Data: 1.0\n"
          ]
        }
      ],
      "source": [
        "# calculating performance metrics\n",
        "from sklearn.metrics import accuracy_score\n",
        "from sklearn.metrics import precision_score\n",
        "from sklearn.metrics import recall_score\n",
        "# decide on a cutoff limit\n",
        "cutoff = 0.7  \n",
        "# initialise a matrix full with zeroes\n",
        "train_predict_classes = np.zeros_like(train_predict) \n",
        "# add a 1 if the cutoff was breached\n",
        "train_predict_classes[train_predict > cutoff] = 1 \n",
        "# for the actual values\n",
        "y_train_classes = np.zeros_like(y_train)\n",
        "y_train_classes[y_train > cutoff] = 1\n",
        "# train data\n",
        "print(\"Accuracy Score of Train Data:\", accuracy_score(y_train_classes, train_predict_classes))\n",
        "print(\"Precision Score of Train Data:\", precision_score(y_train_classes, train_predict_classes))\n",
        "print(\"Recall Score of Train Data:\", recall_score(y_train_classes, train_predict_classes))"
      ]
    },
    {
      "cell_type": "code",
      "execution_count": 45,
      "metadata": {
        "id": "xp3XJrDdqIdO",
        "outputId": "09842fe7-3235-49f4-b9f9-51b5419e4c59",
        "colab": {
          "base_uri": "https://localhost:8080/"
        }
      },
      "outputs": [
        {
          "output_type": "stream",
          "name": "stdout",
          "text": [
            "Accuracy Score of Test Data: 0.0\n",
            "Precision Score of Test Data: 0.0\n",
            "Recall Score of Test Data: 0.0\n"
          ]
        },
        {
          "output_type": "stream",
          "name": "stderr",
          "text": [
            "/usr/local/lib/python3.7/dist-packages/sklearn/metrics/_classification.py:1318: UndefinedMetricWarning: Recall is ill-defined and being set to 0.0 due to no true samples. Use `zero_division` parameter to control this behavior.\n",
            "  _warn_prf(average, modifier, msg_start, len(result))\n"
          ]
        }
      ],
      "source": [
        "# initialise a matrix full with zeroes\n",
        "test_predict_classes = np.zeros_like(test_predict) \n",
        "# add a 1 if the cutoff was breached\n",
        "test_predict_classes[test_predict > cutoff] = 1 \n",
        "# for the actual values\n",
        "y_test_classes = np.zeros_like(y_test)\n",
        "y_test_classes[y_test > cutoff] = 1\n",
        "# test data\n",
        "print(\"Accuracy Score of Test Data:\", accuracy_score(y_test_classes, test_predict_classes))\n",
        "print(\"Precision Score of Test Data:\", precision_score(y_test_classes, test_predict_classes))\n",
        "print(\"Recall Score of Test Data:\", recall_score(y_test_classes, test_predict_classes))"
      ]
    },
    {
      "cell_type": "code",
      "execution_count": 45,
      "metadata": {
        "id": "11QezmxEqIdP"
      },
      "outputs": [],
      "source": [
        ""
      ]
    }
  ],
  "metadata": {
    "kernelspec": {
      "display_name": "Python 3",
      "language": "python",
      "name": "python3"
    },
    "language_info": {
      "codemirror_mode": {
        "name": "ipython",
        "version": 3
      },
      "file_extension": ".py",
      "mimetype": "text/x-python",
      "name": "python",
      "nbconvert_exporter": "python",
      "pygments_lexer": "ipython3",
      "version": "3.8.5"
    },
    "colab": {
      "name": "wipro_stock_price.ipynb",
      "provenance": [],
      "collapsed_sections": []
    }
  },
  "nbformat": 4,
  "nbformat_minor": 0
}